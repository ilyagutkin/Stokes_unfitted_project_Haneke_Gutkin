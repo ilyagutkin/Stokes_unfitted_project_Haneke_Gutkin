{
 "cells": [
  {
   "cell_type": "markdown",
   "id": "ea42a53c",
   "metadata": {},
   "source": [
    "# References to Talk\n",
    "\n",
    "We used the following papers as references:\n",
    "\n",
    "- [2016 - Lederer - Higher order unfitted FEM for Stokes interface problems.pdf](2016%20-%20Lederer%20-%20Higher%20order%20unfitted%20FEM%20for%20Stokes%20interface%20problems.pdf)\n",
    "- [ghost-penaltyTaylor-HoodP2-P1.pdf](ghost-penaltyTaylor-HoodP2-P1.pdf)\n",
    "- [Numerical Methods in Fluids - 22 - Anselmann .pdf](Numerical%20Methods%20in%20Fluids%20-%2022%20-%20Anselmann%20.pdf)\n",
    "- [Proc Appl Math and Mech - 2016 - Lederer - Higher order unfitted FEM for Stokes interface problems.pdf](Proc%20Appl%20Math%20and%20Mech%20-%202016%20-%20Lederer%20-%20Higher%20order%20unfitted%20FEM%20for%20Stokes%20interface%20problems.pdf)\n",
    "- [s10915-014-9838-9.pdf](s10915-014-9838-9.pdf)\n",
    "- [unsteadystokes-Wahl-Richter.pdf](unsteadystokes-Wahl-Richter.pdf)"
   ]
  }
 ],
 "metadata": {
  "language_info": {
   "name": "python"
  }
 },
 "nbformat": 4,
 "nbformat_minor": 5
}
