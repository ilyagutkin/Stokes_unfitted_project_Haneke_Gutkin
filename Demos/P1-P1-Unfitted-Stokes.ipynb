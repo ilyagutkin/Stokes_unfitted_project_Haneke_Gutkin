{
 "cells": [
  {
   "cell_type": "markdown",
   "id": "343941d5",
   "metadata": {},
   "source": [
    "# Unfitted Finite Element Method for the Stokes Problem\n",
    "\n",
    "In this notebook, we solve the Stokes equations on an **unfitted mesh** using the **ghost penalty stabilization** technique. This approach allows us to handle complex geometries without conforming the mesh to the domain boundary.\n",
    "\n",
    "The Stokes equations in strong form are given by:\n",
    "\n",
    "$$\n",
    "\\begin{aligned}\n",
    "- \\Delta \\mathbf{u} + \\nabla p &= \\mathbf{f} \\quad \\text{in } \\Omega, \\\\\n",
    "\\text{div}(\\mathbf{u}) &= 0 \\quad \\text{in } \\Omega, \\\\\n",
    "\\mathbf{u} &= \\mathbf{g} \\quad \\text{on } \\partial\\Omega,\n",
    "\\end{aligned}\n",
    "$$\n",
    "\n",
    "where: \n",
    "- $ \\mathbf{u} $ is the velocity field,\n",
    "- $ p $ is the pressure,\n",
    "- $ \\mathbf{f} $ is a given forcing term,\n",
    "- and $ \\mathbf{g} $ is the prescribed Dirichlet boundary condition."
   ]
  },
  {
   "cell_type": "code",
   "execution_count": 213,
   "id": "a573a09d",
   "metadata": {},
   "outputs": [],
   "source": [
    "from netgen.geom2d import SplineGeometry\n",
    "from ngsolve import *\n",
    "from ngsolve.internal import *\n",
    "import ngsolve\n",
    "from xfem import *"
   ]
  },
  {
   "cell_type": "code",
   "execution_count": 214,
   "id": "3ee988fc",
   "metadata": {},
   "outputs": [
    {
     "data": {
      "application/vnd.jupyter.widget-view+json": {
       "model_id": "b3aafc9ae9f34ba48243b614fc6b441c",
       "version_major": 2,
       "version_minor": 0
      },
      "text/plain": [
       "WebGuiWidget(layout=Layout(height='500px', width='100%'), value={'gui_settings': {}, 'ngsolve_version': '6.2.2…"
      ]
     },
     "metadata": {},
     "output_type": "display_data"
    },
    {
     "data": {
      "text/plain": [
       "BaseWebGuiScene"
      ]
     },
     "execution_count": 214,
     "metadata": {},
     "output_type": "execute_result"
    }
   ],
   "source": [
    "square = SplineGeometry()\n",
    "square.AddRectangle((-1.25, -1.25), (1.25, 1.25), bc=1)\n",
    "ngmesh = square.GenerateMesh(maxh=0.05)\n",
    "mesh = Mesh(ngmesh)\n",
    "Draw(mesh)"
   ]
  },
  {
   "cell_type": "markdown",
   "id": "337c4031",
   "metadata": {},
   "source": [
    "## Fictitious Domain and Level Set Representation\n",
    "\n",
    "We work with a **fixed background mesh** $\\widehat{\\Omega} = [-1.25, 1.25]^2$, which is independent of the actual geometry.\n",
    "\n",
    "The **physical domain** $\\Omega$ is defined implicitly via a **level set function** $\\phi(x, y)$, and corresponds either to the **interior** or **exterior** of a closed boundary $\\Gamma = \\{ \\phi = 0 \\}$.\n",
    "\n",
    "- If $\\phi(x, y) < 0$, the point $(x, y)$ lies **inside** $\\Omega$\n",
    "- If $\\phi(x, y) > 0$, the point lies **outside**\n",
    "- $\\Gamma$ is the zero level set and represents the **interface**\n",
    "\n",
    "This approach allows us to define complex geometries without modifying the mesh. We solve the Stokes problem on $\\Omega$ using an unfitted finite element method, where the background mesh is cut by $\\Gamma$, and stability is ensured using **ghost penalty stabilization**.\n"
   ]
  },
  {
   "cell_type": "code",
   "execution_count": 215,
   "id": "5e16c206",
   "metadata": {},
   "outputs": [
    {
     "data": {
      "application/vnd.jupyter.widget-view+json": {
       "model_id": "36835892d9194ffca7825aa1b5e27f65",
       "version_major": 2,
       "version_minor": 0
      },
      "text/plain": [
       "WebGuiWidget(layout=Layout(height='500px', width='100%'), value={'gui_settings': {}, 'ngsolve_version': '6.2.2…"
      ]
     },
     "metadata": {},
     "output_type": "display_data"
    },
    {
     "data": {
      "text/plain": [
       "BaseWebGuiScene"
      ]
     },
     "execution_count": 215,
     "metadata": {},
     "output_type": "execute_result"
    }
   ],
   "source": [
    "r = sqrt(x**2 + y**2)\n",
    "levelset = r-1\n",
    "lsetp1 = GridFunction(H1(mesh))\n",
    "InterpolateToP1(levelset,lsetp1)# Element, facet and dof marking w.r.t. boundary approximation with lsetp1:\n",
    "DrawDC(levelset, CF(1), CF(0), mesh)"
   ]
  },
  {
   "cell_type": "code",
   "execution_count": 216,
   "id": "f7f73087",
   "metadata": {},
   "outputs": [
    {
     "data": {
      "application/vnd.jupyter.widget-view+json": {
       "model_id": "961ae29d9ed84727b92ac234c7169455",
       "version_major": 2,
       "version_minor": 0
      },
      "text/plain": [
       "WebGuiWidget(layout=Layout(height='500px', width='100%'), value={'gui_settings': {}, 'ngsolve_version': '6.2.2…"
      ]
     },
     "metadata": {},
     "output_type": "display_data"
    },
    {
     "data": {
      "text/plain": [
       "BaseWebGuiScene"
      ]
     },
     "execution_count": 216,
     "metadata": {},
     "output_type": "execute_result"
    }
   ],
   "source": [
    "ci = CutInfo(mesh, lsetp1)\n",
    "hasneg = ci.GetElementsOfType(HASNEG)\n",
    "neg = ci.GetElementsOfType(NEG)\n",
    "hasif = ci.GetElementsOfType(IF)\n",
    "haspos = ci.GetElementsOfType(HASPOS)\n",
    "ba_facets = GetFacetsWithNeighborTypes(mesh, a=haspos, b=any)\n",
    "Draw(BitArrayCF(hasneg),mesh)"
   ]
  },
  {
   "cell_type": "markdown",
   "id": "ad38e9a0",
   "metadata": {},
   "source": [
    "## Fictitious Domain Construction\n",
    "\n",
    "The **fictitious domain** $\\Omega^*$ is defined as the union of all background mesh elements that intersect the physical domain $\\Omega$. That is, we consider the minimal subset of elements $\\mathcal{T}^* \\subset \\widehat{\\mathcal{T}}$ such that:\n",
    "\n",
    "$$\n",
    "\\Omega \\subset \\bigcup_{T \\in \\mathcal{T}^*} T =: \\Omega^*,\n",
    "$$\n",
    "\n",
    "where:\n",
    "- $\\widehat{\\mathcal{T}}$ denotes the background mesh over $\\widehat{\\Omega}$,\n",
    "- $\\mathcal{T}^*$ is the collection of all elements that are **cut by** or **lie inside** the level set domain $\\Omega$.\n",
    "\n",
    "This extended domain $\\Omega^*$ is used for the unfitted finite element formulation. Integration and stabilization terms are evaluated over $\\Omega^*$ instead of $\\Omega$, which avoids the need for boundary-fitted meshes.\n"
   ]
  },
  {
   "cell_type": "code",
   "execution_count": 217,
   "id": "a778c4fe",
   "metadata": {},
   "outputs": [],
   "source": [
    "interface_facet_set = GetFacetsWithNeighborTypes(mesh, a=hasif, b=hasneg)\n",
    "dx = dCut(lsetp1, NEG, definedonelements=hasneg)\n",
    "ds = dCut(lsetp1, IF, definedonelements=hasif)\n",
    "ds_inner_facets = dCut(lsetp1, NEG, definedonelements=interface_facet_set, skeleton=True)\n",
    "dw_interface = dFacetPatch(definedonelements=interface_facet_set)"
   ]
  },
  {
   "cell_type": "markdown",
   "id": "fa53277c",
   "metadata": {},
   "source": [
    "## Interior Facets Near the Interface\n",
    "\n",
    "We introduce the notation $\\mathcal{F}_\\Gamma^*$ for the set of all **interior facets** that belong to elements **intersected by the interface** $\\Gamma$. This set plays a key role in the definition of the **ghost penalty stabilization**.\n",
    "\n",
    "Formally, we define:\n",
    "\n",
    "$$\n",
    "\\mathcal{F}_\\Gamma^* = \\left\\{ F \\in \\partial_i \\mathcal{T}^* \\; : \\; T_F^+ \\cap \\Gamma \\neq \\emptyset \\; \\text{or} \\; T_F^- \\cap \\Gamma \\neq \\emptyset \\right\\},\n",
    "$$\n",
    "\n",
    "where:\n",
    "- $\\mathcal{T}^*$ is the set of active (cut or inside) elements covering the physical domain $\\Omega$,\n",
    "- $\\partial_i \\mathcal{T}^*$ denotes the set of **interior facets** (i.e., shared by two elements),\n",
    "- $T_F^+$ and $T_F^-$ are the two elements sharing facet $F$.\n",
    "\n",
    "This set $\\mathcal{F}_\\Gamma^*$ identifies all facets in the vicinity of the interface $\\Gamma$ and is used as the integration domain for ghost penalty terms.\n"
   ]
  },
  {
   "cell_type": "markdown",
   "id": "ed9ff140",
   "metadata": {},
   "source": [
    "## Weak Formulation using P1–P1 Elements\n",
    "\n",
    "We now reformulate the Stokes problem in its **weak (variational) form**. To this end, we use the classical **$P_1$–$P_1$** finite element discretization, i.e., continuous linear elements for both velocity and pressure.\n",
    "\n",
    "We seek a pair of functions $(u_h, p_h) \\in V_h \\times Q_h$, such that\n",
    "\n",
    "$$\n",
    "A_h(u_h, p_h; v_h, q_h) = L_h(v_h, q_h) \\quad \\text{for all } (v_h, q_h) \\in V_h \\times Q_h,\n",
    "$$\n",
    "\n",
    "with $V_h \\times Q_h = P_1 \\times P_1$, and where the bilinear and linear forms are defined by:\n",
    "\n",
    "$$\n",
    "A_h(u_h, p_h; v_h, q_h) = a_h(u_h, v_h) + b_h(u_h, q_h) + b_h(v_h, p_h) - c_h(u_h, p_h; q_h),\n",
    "$$\n",
    "\n",
    "$$\n",
    "L_h(v_h, q_h) = (f, v_h) - \\Phi_h(q_h).\n",
    "$$\n",
    "\n",
    "### Definitions of the bilinear and linear forms:\n",
    "\n",
    "- $a_h(u_h, v_h) = (\\nabla u_h, \\nabla v_h)_\\Omega - (\\partial_n u_h, v_h)_\\Gamma - (\\partial_n v_h, u_h)_\\Gamma + \\gamma h^{-1} (u_h, v_h)_\\Gamma$\n",
    "- $b_h(v_h, p_h) = -(\\nabla \\cdot v_h, p_h)_\\Omega + (n \\cdot v_h, p_h)_\\Gamma$\n",
    "- $c_h(u_h, p_h; q_h) = \\beta_1 \\sum_{T \\in \\mathcal{T}_h} h_T^2 (-\\Delta u_h + \\nabla p_h, \\nabla q_h)_T$\n",
    "- $\\Phi_h(q_h) = \\beta_1 \\sum_{T \\in \\mathcal{T}_h} h_T^2 (f, \\nabla q_h)_T$\n",
    "\n",
    "Here, $f$ is the given forcing term, and $\\gamma$ is the Nitsche penalty parameter. The stabilization terms $c_h$ and $\\Phi_h$ are essential to ensure stability of the equal-order discretization and are commonly used in pressure-Poisson stabilized Galerkin methods.\n"
   ]
  },
  {
   "cell_type": "code",
   "execution_count": 218,
   "id": "a28f50ff",
   "metadata": {},
   "outputs": [],
   "source": [
    "V = VectorH1(mesh, order=1,dgjumps=True)\n",
    "V = Compress(V, GetDofsOfElements(V,hasneg))\n",
    "Q = H1(mesh, order=1)\n",
    "Q = Compress(Q, GetDofsOfElements(Q,hasneg))\n",
    "Z = NumberSpace(mesh)\n",
    "X = V*Q*Z\n",
    "(u,p,z),(v,q,z1) = X.TnT()\n",
    "gfu = GridFunction(X)\n",
    "h = specialcf.mesh_size\n",
    "n = Normalize(grad(lsetp1))\n",
    "gamma_stab = 100\n",
    "beta1 = 1\n",
    "\n",
    "def jump(f):\n",
    "        return f - f.Other()\n",
    "def jumpn(f):\n",
    "        n = Normalize(grad(lsetp1))\n",
    "        return Grad(f)*n - Grad(f).Other()*n\n",
    "\n",
    "stokes = BilinearForm(X)\n",
    "stokes += InnerProduct(Grad(u), Grad(v))*dx - div(u)*q*dx - div(v)*p*dx + (q*n * u + p*n * v) * ds\n",
    "stokes += -(Grad(u)*n * v + Grad(v)*n * u) * ds + gamma_stab / h * u * v * ds #Nitsche term\n",
    "stokes += p*z1 *dx + q *z*dx\n",
    "stokes += -beta1 * h**2 * Grad(p) * Grad(q) * dx #Stabilization term"
   ]
  },
  {
   "cell_type": "markdown",
   "id": "c5ee3916",
   "metadata": {},
   "source": [
    "## Analytical Test Case: Do We Need Ghost Penalty?\n",
    "\n",
    "Now let us construct an analytical example and check whether our unfitted Stokes discretization indeed requires a **ghost penalty stabilization** for stability and convergence.\n",
    "\n",
    "We define the exact velocity and pressure solutions as:\n",
    "\n",
    "$$\n",
    "u_{\\text{exact}}(x, y) = \n",
    "\\begin{pmatrix}\n",
    "\\sin(\\pi x) \\cos(\\pi y) \\\\\n",
    "-\\cos(\\pi x) \\sin(\\pi y)\n",
    "\\end{pmatrix}, \\quad\n",
    "p_{\\text{exact}}(x, y) = \\sin(\\pi x) \\sin(\\pi y).\n",
    "$$\n",
    "\n",
    "We then compute the corresponding right-hand side $f$ using the Stokes equation $-\\Delta u + \\nabla p = f$:\n",
    "\n",
    "- The Laplacian of $u_{\\text{exact}}$ (component-wise):\n",
    "\n",
    "$$\n",
    "\\Delta u_x = -2\\pi^2 \\sin(\\pi x) \\cos(\\pi y), \\quad\n",
    "\\Delta u_y = 2\\pi^2 \\cos(\\pi x) \\sin(\\pi y),\n",
    "$$\n",
    "\n",
    "- The gradient of $p_{\\text{exact}}$:\n",
    "\n",
    "$$\n",
    "\\frac{\\partial p}{\\partial x} = \\pi \\cos(\\pi x) \\sin(\\pi y), \\quad\n",
    "\\frac{\\partial p}{\\partial y} = \\pi \\sin(\\pi x) \\cos(\\pi y),\n",
    "$$\n",
    "\n",
    "- The full forcing term becomes:\n",
    "\n",
    "$$\n",
    "f(x, y) = \n",
    "\\begin{pmatrix}\n",
    "- \\Delta u_x + \\frac{\\partial p}{\\partial x} \\\\\n",
    "- \\Delta u_y + \\frac{\\partial p}{\\partial y}\n",
    "\\end{pmatrix}.\n",
    "$$\n",
    "\n",
    "We will use this exact solution to evaluate the accuracy of our unfitted method with and without ghost penalty terms, and observe whether instability or locking occurs in the absence of proper stabilization.\n"
   ]
  },
  {
   "cell_type": "code",
   "execution_count": 219,
   "id": "85249041",
   "metadata": {},
   "outputs": [],
   "source": [
    "uexact = CoefficientFunction((\n",
    "    sin(pi*x) * cos(pi*y),   # u(x,y)\n",
    "    -cos(pi*x) * sin(pi*y)   # v(x,y)\n",
    "))\n",
    "pexact = sin(pi*x) * sin(pi*y)\n",
    "# Laplace von uexact (Komponentenweise)\n",
    "lapu_x = -pi**2 * sin(pi*x) * cos(pi*y) * 2\n",
    "lapu_y = -pi**2 * (-cos(pi*x) * sin(pi*y)) * 2  # Minuszeichen kommt von v\n",
    "\n",
    "# Gradient von p\n",
    "dp_dx = pi * cos(pi*x) * sin(pi*y)\n",
    "dp_dy = pi * sin(pi*x) * cos(pi*y)\n",
    "\n",
    "# Gesamte rechte Seite f = -Δu + ∇p\n",
    "f = CoefficientFunction((\n",
    "    -lapu_x + dp_dx,\n",
    "    -lapu_y + dp_dy\n",
    "))\n",
    "u1 = -4*y * (1 - x**2 - y**2)\n",
    "u2 = 4*x*(1 - x**2 - y**2)\n",
    "uexact = CoefficientFunction((u1, u2))\n",
    "pexact = sin(x)*cos(y)\n",
    "# Laplace-Anteil\n",
    "lapu1 = 32*y\n",
    "lapu2 = -32*x\n",
    "# Gradient von p\n",
    "dpdx = cos(x) * cos(y)\n",
    "dpdy = -sin(x) * sin(y)\n",
    "f = CoefficientFunction((\n",
    "    -lapu1 + dpdx,\n",
    "    -lapu2 + dpdy\n",
    "))"
   ]
  },
  {
   "cell_type": "code",
   "execution_count": 220,
   "id": "a1a9a89d",
   "metadata": {},
   "outputs": [],
   "source": [
    "rhs = LinearForm(X)\n",
    "rhs += InnerProduct(f, v) * dx \n",
    "rhs += -h**2 * f * Grad(q) * dx # phi\n",
    "rhs += -(Grad(v)*n * uexact) * ds + gamma_stab / h * uexact * v * ds+q*n*uexact *ds"
   ]
  },
  {
   "cell_type": "code",
   "execution_count": 221,
   "id": "c2402f36",
   "metadata": {},
   "outputs": [
    {
     "name": "stdout",
     "output_type": "stream",
     "text": [
      "webgui discontinuous vis only for scalar functions a.t.m., switching to IfPos variant\n"
     ]
    },
    {
     "data": {
      "application/vnd.jupyter.widget-view+json": {
       "model_id": "86a0b3a5a6ed429099749a8cc8341617",
       "version_major": 2,
       "version_minor": 0
      },
      "text/plain": [
       "WebGuiWidget(layout=Layout(height='500px', width='100%'), value={'gui_settings': {}, 'ngsolve_version': '6.2.2…"
      ]
     },
     "metadata": {},
     "output_type": "display_data"
    },
    {
     "name": "stdout",
     "output_type": "stream",
     "text": [
      "L2 error velocity: 0.012556359247557448\n",
      "L2 error pressure: 0.09037348911591356\n"
     ]
    }
   ],
   "source": [
    "a = stokes\n",
    "a.Assemble()\n",
    "b = rhs\n",
    "b.Assemble()\n",
    "\n",
    "gfu.vec.data = a.mat.Inverse(freedofs=X.FreeDofs()) * b.vec\n",
    "DrawDC(levelset, gfu.components[0], CF((0,0)),mesh, \"velocity\")\n",
    "print(\"L2 error velocity:\", sqrt(Integrate((gfu.components[0] - uexact)**2*dx, mesh)))\n",
    "print(\"L2 error pressure:\", sqrt(Integrate((gfu.components[1] - pexact)**2*dx, mesh)))"
   ]
  },
  {
   "cell_type": "markdown",
   "id": "726fdc30",
   "metadata": {},
   "source": [
    "## Adding Ghost Penalty Stabilization\n",
    "\n",
    "Now let us add the **ghost penalty terms** to stabilize the unfitted Stokes formulation. These terms penalize jumps of normal derivatives across interior facets that are intersected by the geometry, ensuring stability even when elements are only partially in the physical domain.\n",
    "\n",
    "We define the ghost penalty contribution as\n",
    "\n",
    "$$\n",
    "J_h(u_h, p_h; v_h, q_h) = i_h(u_h, v_h) - j_h(p_h, q_h),\n",
    "$$\n",
    "\n",
    "where:\n",
    "\n",
    "- The **velocity ghost penalty** is given by\n",
    "\n",
    "$$\n",
    "i_h(u_h, v_h) = \\beta_2 \\sum_{F \\in \\mathcal{F}_\\Gamma^*} h_F \\left( [\\partial_n u_h], [\\partial_n v_h] \\right)_F,\n",
    "$$\n",
    "\n",
    "- The **pressure ghost penalty** is given by\n",
    "\n",
    "$$\n",
    "j_h(p_h, q_h) = \\beta_3 \\sum_{F \\in \\mathcal{F}_\\Gamma^*} h_F^3 \\left( [\\partial_n p_h], [\\partial_n q_h] \\right)_F.\n",
    "$$\n",
    "\n",
    "Here:\n",
    "\n",
    "- $\\mathcal{F}_\\Gamma^*$ is the set of interior facets belonging to elements cut by the boundary $\\Gamma$ (as defined above),\n",
    "- $[\\cdot]$ denotes the jump of a quantity across a facet,\n",
    "- $\\partial_n$ denotes the normal derivative,\n",
    "- $h_F$ is a measure of the facet size,\n",
    "- and $\\beta_2$, $\\beta_3$ are positive stabilization parameters.\n",
    "\n",
    "These terms are added to the bilinear form to improve robustness and ensure well-posedness in the unfitted setting.\n"
   ]
  },
  {
   "cell_type": "code",
   "execution_count": 222,
   "id": "d5b61de0",
   "metadata": {},
   "outputs": [
    {
     "name": "stdout",
     "output_type": "stream",
     "text": [
      "webgui discontinuous vis only for scalar functions a.t.m., switching to IfPos variant\n"
     ]
    },
    {
     "data": {
      "application/vnd.jupyter.widget-view+json": {
       "model_id": "284fe17c54bc40c49bca2f32527a7767",
       "version_major": 2,
       "version_minor": 0
      },
      "text/plain": [
       "WebGuiWidget(layout=Layout(height='500px', width='100%'), value={'gui_settings': {}, 'ngsolve_version': '6.2.2…"
      ]
     },
     "metadata": {},
     "output_type": "display_data"
    },
    {
     "name": "stdout",
     "output_type": "stream",
     "text": [
      "L2 error velocity with ghost penalty: 0.012146632455498968\n",
      "L2 error pressure with ghost penalty: 0.09711363595975313\n",
      "webgui discontinuous vis only for scalar functions a.t.m., switching to IfPos variant\n"
     ]
    },
    {
     "data": {
      "application/vnd.jupyter.widget-view+json": {
       "model_id": "b22f867a0c0e4a979a01e29f99a3a14e",
       "version_major": 2,
       "version_minor": 0
      },
      "text/plain": [
       "WebGuiWidget(layout=Layout(height='500px', width='100%'), value={'gui_settings': {}, 'ngsolve_version': '6.2.2…"
      ]
     },
     "metadata": {},
     "output_type": "display_data"
    },
    {
     "data": {
      "text/plain": [
       "<xfem.DummyScene at 0x7f232d7a7130>"
      ]
     },
     "execution_count": 222,
     "metadata": {},
     "output_type": "execute_result"
    }
   ],
   "source": [
    "beta2 = 1\n",
    "beta0 = 1\n",
    "stokes += beta2* h* InnerProduct(jumpn(u), jumpn(v)) * ds_inner_facets #velocity ghost penalty\n",
    "#stokes += beta2 * h**-2* InnerProduct(jump(u), jump(v)) * dw_interface #velocity ghost penalty\n",
    "stokes += -beta0 * h**3*InnerProduct(jumpn(p), jumpn(q)) * ds_inner_facets #pressure ghost penalty\n",
    "#stokes += -beta0 * InnerProduct(jump(p), jump(q)) * dw_interface\n",
    "stokes.Assemble()\n",
    "rhs.Assemble()\n",
    "gfu1 = GridFunction(X)\n",
    "gfu1.vec.data = stokes.mat.Inverse(freedofs=X.FreeDofs()) * rhs.vec\n",
    "DrawDC(levelset, gfu1.components[0], CF((0,0)),mesh, \"velocity with ghost penalty\")\n",
    "print(\"L2 error velocity with ghost penalty:\", sqrt(Integrate((gfu1.components[0] - uexact)**2*dx, mesh)))\n",
    "print(\"L2 error pressure with ghost penalty:\", sqrt(Integrate((gfu1.components[1] - pexact)**2*dx, mesh)))\n",
    "DrawDC(levelset,uexact, CF((0,0)), mesh, \"exact velocity\")"
   ]
  }
 ],
 "metadata": {
  "kernelspec": {
   "display_name": "Python 3",
   "language": "python",
   "name": "python3"
  },
  "language_info": {
   "codemirror_mode": {
    "name": "ipython",
    "version": 3
   },
   "file_extension": ".py",
   "mimetype": "text/x-python",
   "name": "python",
   "nbconvert_exporter": "python",
   "pygments_lexer": "ipython3",
   "version": "3.8.10"
  }
 },
 "nbformat": 4,
 "nbformat_minor": 5
}
