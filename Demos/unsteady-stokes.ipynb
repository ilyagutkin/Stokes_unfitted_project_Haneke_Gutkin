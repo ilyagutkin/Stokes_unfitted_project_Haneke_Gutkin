{
 "cells": [
  {
   "cell_type": "markdown",
   "id": "52de324f",
   "metadata": {},
   "source": [
    "## Unsteady Stokes Problem on a Time-Dependent Domain\n",
    "\n",
    "In this notebook, we solve the **unsteady (instationary) Stokes problem** on a time-dependent domain $\\Omega(t)$ using an unfitted finite element method.\n",
    "\n",
    "The continuous problem is formulated as follows:\n",
    "\n",
    "Find velocity $u(t, x)$ and pressure $p(t, x)$ such that\n",
    "\n",
    "$$\n",
    "\\partial_t u - \\Delta u + \\nabla p = f \\quad \\text{in } \\Omega(t),\n",
    "$$\n",
    "\n",
    "$$\n",
    "\\operatorname{div} u = 0 \\quad \\text{in } \\Omega(t),\n",
    "$$\n",
    "\n",
    "with appropriate initial and boundary conditions:\n",
    "\n",
    "- $u(0, x) = u_0(x)$ in $\\Omega(0)$,\n",
    "- $u = g$ on $\\partial \\Omega(t)$ for all $t$.\n",
    "\n",
    "We aim to discretize this system in space using unfitted finite elements with ghost penalty stabilization, and in time using a standard time-stepping scheme (e.g., backward Euler or BDF). This formulation allows us to handle complex or moving geometries without remeshing.\n",
    "\n"
   ]
  },
  {
   "cell_type": "code",
   "execution_count": 1,
   "id": "4ad4b1a6",
   "metadata": {},
   "outputs": [
    {
     "name": "stdout",
     "output_type": "stream",
     "text": [
      "importing ngsxfem-2.1.2405\n"
     ]
    }
   ],
   "source": [
    "from netgen.geom2d import SplineGeometry\n",
    "from ngsolve import *\n",
    "from ngsolve.internal import *\n",
    "import ngsolve\n",
    "from xfem import *\n",
    "import numpy as np"
   ]
  },
  {
   "cell_type": "markdown",
   "id": "67db5f88",
   "metadata": {},
   "source": [
    "## Background Mesh and Domain Embedding\n",
    "\n",
    "As in the stationary case, we begin by creating a **fixed background mesh** $\\widehat{\\Omega}$ such that the **physical domain** $\\Omega(t)$ is always contained within it for all relevant times $t$:\n",
    "\n",
    "$$\n",
    "\\Omega(t) \\subset \\widehat{\\Omega} \\quad \\text{for all } t.\n",
    "$$\n",
    "\n",
    "This allows us to work on a static computational mesh while the actual domain $\\Omega(t)$ may evolve in time. The geometry of $\\Omega(t)$ will be described implicitly by a **level set function** $\\phi(t, x)$, and the unfitted method will handle the interface between the physical and fictitious domains.\n"
   ]
  },
  {
   "cell_type": "code",
   "execution_count": 2,
   "id": "372c0a6d",
   "metadata": {},
   "outputs": [],
   "source": [
    "square = SplineGeometry()\n",
    "square.AddRectangle((-1.25, -1.25), (1.25, 1.25), bc=1)\n",
    "ngmesh = square.GenerateMesh(maxh=0.05)\n",
    "mesh = Mesh(ngmesh)"
   ]
  },
  {
   "cell_type": "markdown",
   "id": "0befafba",
   "metadata": {},
   "source": [
    "## Time-Dependent Level Set Function\n",
    "\n",
    "To model the motion of the domain $\\Omega(t)$ over time, we now define a **time-dependent level set function** $\\phi(t, x, y)$. This function implicitly describes the geometry of $\\Omega(t)$ as the subdomain where $\\phi(t, x, y) < 0$.\n",
    "\n",
    "In our case, we simulate the motion of a **circle moving from left to right** with constant velocity $v$. The level set function has the form:\n",
    "\n",
    "$$\n",
    "\\phi(t, x, y) = (x - v t)^2 + y^2 - r^2,\n",
    "$$\n",
    "\n",
    "which represents a circle of radius $r$ centered at $(x = v t, y = 0)$. As time $t$ increases, the circle moves along the $x$-axis with velocity $v$.\n",
    "\n",
    "By treating $t$ as a symbolic or parameterized variable in our implementation, we ensure that $\\phi(t, x, y)$ is **automatically updated** whenever the time step advances. This provides a flexible and efficient way to model moving domains without changing the mesh.\n"
   ]
  },
  {
   "cell_type": "code",
   "execution_count": 3,
   "id": "61faea47",
   "metadata": {},
   "outputs": [
    {
     "data": {
      "application/vnd.jupyter.widget-view+json": {
       "model_id": "9c89222c25fc4f90ba1d0b93ed597cce",
       "version_major": 2,
       "version_minor": 0
      },
      "text/plain": [
       "WebGuiWidget(layout=Layout(height='500px', width='100%'), value={'gui_settings': {}, 'ngsolve_version': '6.2.2…"
      ]
     },
     "metadata": {},
     "output_type": "display_data"
    },
    {
     "data": {
      "application/vnd.jupyter.widget-view+json": {
       "model_id": "8865415a4aab40c6a548532846f8e899",
       "version_major": 2,
       "version_minor": 0
      },
      "text/plain": [
       "WebGuiWidget(layout=Layout(height='500px', width='100%'), value={'gui_settings': {}, 'ngsolve_version': '6.2.2…"
      ]
     },
     "metadata": {},
     "output_type": "display_data"
    }
   ],
   "source": [
    "from ngsolve import Parameter\n",
    "from time import sleep\n",
    "t1 = -10\n",
    "tend = 10\n",
    "dt = 0.2\n",
    "\n",
    "t = Parameter(0)\n",
    "r = 0.5\n",
    "vel = 0.1\n",
    "levelset = CF(sqrt((x-vel*t)**2 + y**2))-r\n",
    "lsetp1 = GridFunction(H1(mesh))\n",
    "InterpolateToP1(levelset,lsetp1)\n",
    "\n",
    "mask = IfPos(-levelset, 1.0, 0.0)\n",
    "scene = Draw(mask, mesh, \"levelset_mask\")\n",
    "scene1 = DrawDC(levelset,CF(1),CF(0), mesh, \"levelset\")\n",
    "\n",
    "while(t1 <tend):\n",
    "    t.Set(t1)\n",
    "    scene.Redraw()\n",
    "    scene1.Redraw()\n",
    "    sleep(0.005)\n",
    "    t1 += dt\n"
   ]
  },
  {
   "cell_type": "markdown",
   "id": "5c51a750",
   "metadata": {},
   "source": [
    "### ⏱️ Semi-Discrete Formulation of the Unsteady Stokes Problem\n",
    "\n",
    "We now formulate the **semi-discrete form** of the unsteady Stokes equations, using finite elements in space and keeping time continuous at first. For time discretization, we apply a **backward Euler scheme** with time step $\\Delta t$.\n",
    "\n",
    "Let $u^n_h$, $p^n_h$ be the discrete velocity and pressure at time step $n$, and $u^{n-1}_h$ the solution from the previous time step. We extend $u^{n-1}_h$ to the current domain $\\Omega^n$ via a suitable **extension operator** (e.g., constant extension in normal direction). The semi-discrete variational formulation then reads:\n",
    "\n",
    "> Find $(u^n, p^n) \\in V^n \\times Q^n := H^1(\\Omega^n) \\times L^2_0(\\Omega^n)$\n",
    ", $p^n_h \\in Q_h$ such that for all $v_h \\in V_h$, $q_h \\in Q_h$:\n",
    ">\n",
    "> $$\n",
    "> \\frac{1}{\\Delta t} (u^n_h, v_h) + a_h(u^n_h, v_h) + b_h(p^n_h, v_h) + b_h(q_h, u^n_h) = \\langle f^n, v_h \\rangle + \\frac{1}{\\Delta t} ( \\tilde{u}^{n-1}_h, v_h )\n",
    "> $$\n",
    "\n",
    "Here:\n",
    "\n",
    "- $a^n(u, v) = \\nu \\int_{\\Omega^n} \\nabla u : \\nabla v \\, dx$ is the **viscous bilinear form**, where $\\nu$ denotes the viscosity. \n",
    "- $b^n(q, v) = - \\int_{\\Omega^n} q \\, \\nabla \\cdot v \\, dx$ encodes the **divergence-pressure coupling**.\n",
    "- $\\tilde{u}^{n-1}_h = E(u^{n-1}_h)$ is the **extension** of the previous solution $u^{n-1}_h \\in H^1_0(\\Omega^{n-1})$ into the current domain $\\Omega^n$.\n",
    "- The **extension operator** $E : H^1(\\Omega^{n-1}) \\rightarrow H^1(\\mathcal{O}_\\delta(\\Omega^{n-1}))$ maps the previous solution to a neighborhood $\\mathcal{O}_\\delta(\\Omega^{n-1})$ that contains the new domain $\\Omega^n \\subset \\mathcal{O}_\\delta(\\Omega^{n-1})$. This is necessary to evaluate $u^{n-1}$ on the new domain.\n",
    "- $\\langle f^n, v_h \\rangle = \\int_{\\Omega^n} f^n \\cdot v_h \\, dx$ is the **force term** at time $t^n$.\n",
    "\n",
    "All integrals are taken over the current domain $\\Omega^n$.\n",
    "\n",
    "This formulation accounts for time evolution in a robust way under the unfitted finite element framework, by incorporating both an appropriate **extension of the previous solution** and **stabilization techniques** in space.\n"
   ]
  },
  {
   "cell_type": "markdown",
   "id": "55fecbd8",
   "metadata": {},
   "source": [
    "### 🔁 Construction of the Extended Domain $\\mathcal{O}_\\delta(\\Omega^n_h)$\n",
    "\n",
    "To ensure stability of the unfitted discretization and to properly apply the initial condition from the previous time step, we solve the problem not only on the physical domain $\\Omega^n_h$, but on a slightly **extended domain** $\\mathcal{O}_\\delta(\\Omega^n_h)$ around it.\n",
    "\n",
    "To do so, we define two auxiliary level set functions:\n",
    "\n",
    "- $\\phi^+_{\\text{extend}}$: A **level set function** whose zero contour defines the boundary of the extended domain *from the outside*.\n",
    "- $\\phi^-_{\\text{extend}}$: A **level set function** that defines an optional inner boundary for excluding small regions from the extension zone (often unused or set to $-∞$).\n",
    "\n",
    "The extended domain is then defined as:\n",
    "$$\n",
    "\\mathcal{O}_\\delta(\\Omega^n_h) := \\{ x \\in \\hat{\\Omega} \\mid \\phi^+_{\\text{extend}}(x) < 0 \\text{ and } \\phi^-_{\\text{extend}}(x) > 0 \\}\n",
    "$$\n",
    "where $\\hat{\\Omega}$ is the fixed background mesh domain.\n",
    "\n",
    "---\n",
    "\n",
    "#### 📌 Ghost Penalty Region\n",
    "\n",
    "The **ghost penalty stabilization** is not applied on the entire background mesh, but is restricted to a **narrow ring** of elements around the physical domain:\n",
    "\n",
    "$$\n",
    "\\mathcal{R}^n_{h,\\delta} := \\left\\{ K \\in \\mathcal{T}_h \\;\\middle|\\; \\exists x \\in K \\text{ such that } \\mathrm{dist}(x, \\Omega^n_h) \\leq \\delta_h \\right\\} \\subset \\mathcal{T}_h\n",
    "$$\n",
    "\n",
    "This *ghost ring* $\\mathcal{R}^n_{h,\\delta}$ contains all elements that are within a small distance $\\delta_h$ of the physical domain. The ghost penalty terms are only applied on the **facets of elements in this ring**, which stabilizes the discretization near the boundary without affecting the interior.\n",
    "\n",
    "---\n",
    "\n",
    "This setup enables:\n",
    "- consistent evaluation of previous time step data $u^{n-1}$,\n",
    "- robust enforcement of boundary conditions,\n",
    "- stable solution of the time-dependent Stokes problem on **evolving domains**.\n",
    "\n",
    "---\n",
    "\n",
    "At each time step, we therefore extend the (discrete) physical domain $\\Omega^n_h$ by a strip of width\n",
    "$$\n",
    "\\delta_h = c_\\delta \\, \\|w^n\\|_\\infty \\, \\Delta t,\n",
    "$$\n",
    "where $c_\\delta$ is a user-defined constant, $w^n$ is the velocity at time step $n$, and $\\Delta t$ is the time step size.\n"
   ]
  },
  {
   "cell_type": "code",
   "execution_count": 4,
   "id": "a858cc00",
   "metadata": {},
   "outputs": [
    {
     "data": {
      "application/vnd.jupyter.widget-view+json": {
       "model_id": "2a2fc3533e53426b90ea5ca5299281d3",
       "version_major": 2,
       "version_minor": 0
      },
      "text/plain": [
       "WebGuiWidget(layout=Layout(height='500px', width='100%'), value={'gui_settings': {}, 'ngsolve_version': '6.2.2…"
      ]
     },
     "metadata": {},
     "output_type": "display_data"
    },
    {
     "data": {
      "application/vnd.jupyter.widget-view+json": {
       "model_id": "82184d7245f542faa4e301fdb6b03667",
       "version_major": 2,
       "version_minor": 0
      },
      "text/plain": [
       "WebGuiWidget(layout=Layout(height='500px', width='100%'), value={'gui_settings': {}, 'ngsolve_version': '6.2.2…"
      ]
     },
     "metadata": {},
     "output_type": "display_data"
    },
    {
     "data": {
      "application/vnd.jupyter.widget-view+json": {
       "model_id": "3cff2b377e9b4abd9b7d627fba434350",
       "version_major": 2,
       "version_minor": 0
      },
      "text/plain": [
       "WebGuiWidget(layout=Layout(height='500px', width='100%'), value={'gui_settings': {}, 'ngsolve_version': '6.2.2…"
      ]
     },
     "metadata": {},
     "output_type": "display_data"
    },
    {
     "data": {
      "application/vnd.jupyter.widget-view+json": {
       "model_id": "9dbd91f246a14841a0bdd190e9be7de5",
       "version_major": 2,
       "version_minor": 0
      },
      "text/plain": [
       "WebGuiWidget(layout=Layout(height='500px', width='100%'), value={'gui_settings': {}, 'ngsolve_version': '6.2.2…"
      ]
     },
     "metadata": {},
     "output_type": "display_data"
    },
    {
     "data": {
      "application/vnd.jupyter.widget-view+json": {
       "model_id": "31ace55f45a84e2e843d8f687aa95c7f",
       "version_major": 2,
       "version_minor": 0
      },
      "text/plain": [
       "WebGuiWidget(layout=Layout(height='500px', width='100%'), value={'gui_settings': {}, 'ngsolve_version': '6.2.2…"
      ]
     },
     "metadata": {},
     "output_type": "display_data"
    }
   ],
   "source": [
    "from numpy import max\n",
    "import ngsolve.webgui as wg\n",
    "w = max(vel)\n",
    "delta = delta = w*dt*10\n",
    "levelset_extended_plus = CF(sqrt((x-vel*t)**2 + y**2))-(r+delta)\n",
    "levelset_extended_minus = CF(sqrt((x-vel*t)**2 + y**2))-(r-delta)\n",
    "lsetp1_extended_plus = GridFunction(H1(mesh))\n",
    "InterpolateToP1(levelset_extended_plus, lsetp1_extended_plus)\n",
    "lsetp1_extended_minus = GridFunction(H1(mesh))\n",
    "InterpolateToP1(levelset_extended_minus, lsetp1_extended_minus)\n",
    "\n",
    "\n",
    "for t1 in range(0, 5):\n",
    "    delta = w*dt*3\n",
    "    t.Set(t1)\n",
    "\n",
    "\n",
    "    lsetp1 = GridFunction(H1(mesh))\n",
    "    InterpolateToP1(levelset,lsetp1)\n",
    "    lsetp1_extended_plus = GridFunction(H1(mesh))\n",
    "    InterpolateToP1(levelset_extended_plus, lsetp1_extended_plus)\n",
    "    lsetp1_extended_minus = GridFunction(H1(mesh))\n",
    "    InterpolateToP1(levelset_extended_minus, lsetp1_extended_minus)\n",
    "\n",
    "    ci = CutInfo(mesh, lsetp1)\n",
    "    hasneg = ci.GetElementsOfType(HASNEG)\n",
    "    neg = ci.GetElementsOfType(NEG)\n",
    "    hasif = ci.GetElementsOfType(IF)\n",
    "    haspos = ci.GetElementsOfType(HASPOS)\n",
    "\n",
    "    ci1 = CutInfo(mesh, lsetp1_extended_plus)\n",
    "    hasneg1 = ci1.GetElementsOfType(HASNEG)\n",
    "    neg1 = ci1.GetElementsOfType(NEG)\n",
    "    hasif1 = ci1.GetElementsOfType(IF)\n",
    "    haspos1 = ci1.GetElementsOfType(HASPOS)\n",
    "\n",
    "    ci2 = CutInfo(mesh, lsetp1_extended_minus)\n",
    "    hasneg2 = ci2.GetElementsOfType(HASNEG)\n",
    "    neg2 = ci2.GetElementsOfType(NEG)\n",
    "    hasif2 = ci2.GetElementsOfType(IF)\n",
    "    haspos2 = ci2.GetElementsOfType(HASPOS)\n",
    "\n",
    "    ba_diff = BitArray(len(hasneg1))\n",
    "    ba_diff[:] = hasneg1\n",
    "    ba_diff &= ~neg2\n",
    "\n",
    "    wg.Draw(BitArrayCF(ba_diff),mesh,\"elements_extended_\"+str(dt))\n",
    "    \n"
   ]
  },
  {
   "cell_type": "markdown",
   "id": "da14b50a",
   "metadata": {},
   "source": [
    "## ✅ Constructing an Analytical Example\n",
    "\n",
    "Now that we have defined the **extended domain** $\\mathcal{O}_\\delta(\\Omega^n_h)$ and established a method for identifying the **facet patches** required for ghost penalty stabilization at each time step, we are ready to **solve the unsteady Stokes problem** numerically.\n",
    "\n",
    "To verify the accuracy and stability of our method, we construct an **analytical solution** $(u_{\\text{exact}}, p_{\\text{exact}})$ and derive the corresponding forcing term $f$ from the equations:\n",
    "\n",
    "$$\n",
    "\\frac{\\partial u}{\\partial t} - \\nu \\Delta u + \\nabla p = f \\quad \\text{in } \\Omega(t),\n",
    "$$\n",
    "$$\n",
    "\\nabla \\cdot u = 0 \\quad \\text{in } \\Omega(t).\n",
    "$$\n",
    "\n",
    "We will prescribe $u_{\\text{exact}}$ and $p_{\\text{exact}}$ in such a way that:\n",
    "- the divergence-free condition is satisfied exactly,\n",
    "- the time-dependence is smooth,\n",
    "- and the domain evolution (encoded in the level set) matches the motion of the flow.\n",
    "\n",
    "This allows us to compute the **exact right-hand side $f$** and use it to assess the **error and convergence** of the numerical solution over time.\n"
   ]
  },
  {
   "cell_type": "code",
   "execution_count": 5,
   "id": "fd45e852",
   "metadata": {},
   "outputs": [],
   "source": [
    "c = CF((x-t)**2 + y**2)\n",
    "uexact = CF((-2*y*cos(c),2*(x-t)*cos(c)))\n",
    "\n",
    "laplace_uexact = CF((16*y*sin(c)+8*y*c*cos(c), -16*(x-t)*sin(c)-8*(x-t)*c*cos(c)))\n",
    "ut_exact = CF((4*y*(t-x)*sin(c), -2*cos(c)-4*sin(c)*(x-t)**2))\n",
    "\n",
    "laplace_uexact = CF((uexact[0].Diff(x).Diff(x) + uexact[0].Diff(y).Diff(y),uexact[1].Diff(x).Diff(x) + uexact[1].Diff(y).Diff(y)))\n",
    "ut_exact = CF((uexact[0].Diff(t),uexact[1].Diff(t)))\n",
    "\n",
    "pressure = 0\n",
    "f = -laplace_uexact + ut_exact\n"
   ]
  },
  {
   "cell_type": "code",
   "execution_count": 6,
   "id": "6cd55d67",
   "metadata": {},
   "outputs": [],
   "source": [
    "order = 2\n",
    "V = VectorH1(mesh, order=order,dgjumps=True)\n",
    "Q = H1(mesh, order=order-1)\n",
    "Z = NumberSpace(mesh)\n",
    "\n",
    "X = V*Q*Z\n",
    "(u,p,z),(v,q,z1) = X.TnT()\n",
    "gfu = GridFunction(X)"
   ]
  },
  {
   "cell_type": "code",
   "execution_count": null,
   "id": "fed9db20",
   "metadata": {},
   "outputs": [
    {
     "name": "stdout",
     "output_type": "stream",
     "text": [
      "t= ParameterCF, val = 0\n"
     ]
    },
    {
     "name": "stderr",
     "output_type": "stream",
     "text": [
      "used dof inconsistency\n",
      "(silence this warning by setting BilinearForm(...check_unused=False) )\n"
     ]
    },
    {
     "name": "stdout",
     "output_type": "stream",
     "text": [
      "t= 0 l2error : 2.2315916844165355e-06\n",
      "t= ParameterCF, val = 0.001\n"
     ]
    },
    {
     "name": "stderr",
     "output_type": "stream",
     "text": [
      "used dof inconsistency\n",
      "(silence this warning by setting BilinearForm(...check_unused=False) )\n"
     ]
    },
    {
     "name": "stdout",
     "output_type": "stream",
     "text": [
      "t= 0.001 l2error : 1.9423371074876319\n",
      "t= ParameterCF, val = 0.002\n"
     ]
    },
    {
     "name": "stderr",
     "output_type": "stream",
     "text": [
      "used dof inconsistency\n",
      "(silence this warning by setting BilinearForm(...check_unused=False) )\n"
     ]
    },
    {
     "name": "stdout",
     "output_type": "stream",
     "text": [
      "t= 0.002 l2error : 0.35520446321285\n",
      "t= ParameterCF, val = 0.003\n"
     ]
    },
    {
     "name": "stderr",
     "output_type": "stream",
     "text": [
      "used dof inconsistency\n",
      "(silence this warning by setting BilinearForm(...check_unused=False) )\n"
     ]
    },
    {
     "name": "stdout",
     "output_type": "stream",
     "text": [
      "t= 0.003 l2error : 0.39264679985189227\n",
      "t= ParameterCF, val = 0.004\n"
     ]
    },
    {
     "name": "stderr",
     "output_type": "stream",
     "text": [
      "used dof inconsistency\n",
      "(silence this warning by setting BilinearForm(...check_unused=False) )\n"
     ]
    },
    {
     "name": "stdout",
     "output_type": "stream",
     "text": [
      "t= 0.004 l2error : 0.3652151225580144\n",
      "t= ParameterCF, val = 0.005\n"
     ]
    },
    {
     "name": "stderr",
     "output_type": "stream",
     "text": [
      "used dof inconsistency\n",
      "(silence this warning by setting BilinearForm(...check_unused=False) )\n"
     ]
    },
    {
     "name": "stdout",
     "output_type": "stream",
     "text": [
      "t= 0.005 l2error : 0.8130012416924668\n",
      "t= ParameterCF, val = 0.006\n"
     ]
    },
    {
     "name": "stderr",
     "output_type": "stream",
     "text": [
      "used dof inconsistency\n",
      "(silence this warning by setting BilinearForm(...check_unused=False) )\n"
     ]
    },
    {
     "name": "stdout",
     "output_type": "stream",
     "text": [
      "t= 0.006 l2error : 0.959297088770433\n",
      "t= ParameterCF, val = 0.007\n"
     ]
    },
    {
     "name": "stderr",
     "output_type": "stream",
     "text": [
      "used dof inconsistency\n",
      "(silence this warning by setting BilinearForm(...check_unused=False) )\n"
     ]
    },
    {
     "name": "stdout",
     "output_type": "stream",
     "text": [
      "t= 0.007 l2error : 0.35796449951954784\n",
      "t= ParameterCF, val = 0.008\n"
     ]
    },
    {
     "name": "stderr",
     "output_type": "stream",
     "text": [
      "used dof inconsistency\n",
      "(silence this warning by setting BilinearForm(...check_unused=False) )\n"
     ]
    },
    {
     "name": "stdout",
     "output_type": "stream",
     "text": [
      "t= 0.008 l2error : 0.3796272101163908\n",
      "t= ParameterCF, val = 0.009\n"
     ]
    },
    {
     "name": "stderr",
     "output_type": "stream",
     "text": [
      "used dof inconsistency\n",
      "(silence this warning by setting BilinearForm(...check_unused=False) )\n"
     ]
    },
    {
     "name": "stdout",
     "output_type": "stream",
     "text": [
      "t= 0.009000000000000001 l2error : 0.4981153695840643\n",
      "t= ParameterCF, val = 0.01\n"
     ]
    },
    {
     "name": "stderr",
     "output_type": "stream",
     "text": [
      "used dof inconsistency\n",
      "(silence this warning by setting BilinearForm(...check_unused=False) )\n"
     ]
    },
    {
     "name": "stdout",
     "output_type": "stream",
     "text": [
      "t= 0.010000000000000002 l2error : 0.37776062255629067\n",
      "t= ParameterCF, val = 0.011\n"
     ]
    },
    {
     "name": "stderr",
     "output_type": "stream",
     "text": [
      "used dof inconsistency\n",
      "(silence this warning by setting BilinearForm(...check_unused=False) )\n"
     ]
    },
    {
     "name": "stdout",
     "output_type": "stream",
     "text": [
      "t= 0.011000000000000003 l2error : 0.4408209720060694\n",
      "t= ParameterCF, val = 0.012\n"
     ]
    },
    {
     "name": "stderr",
     "output_type": "stream",
     "text": [
      "used dof inconsistency\n",
      "(silence this warning by setting BilinearForm(...check_unused=False) )\n"
     ]
    },
    {
     "name": "stdout",
     "output_type": "stream",
     "text": [
      "t= 0.012000000000000004 l2error : 0.45789758220360693\n",
      "t= ParameterCF, val = 0.013\n"
     ]
    },
    {
     "name": "stderr",
     "output_type": "stream",
     "text": [
      "used dof inconsistency\n",
      "(silence this warning by setting BilinearForm(...check_unused=False) )\n"
     ]
    },
    {
     "name": "stdout",
     "output_type": "stream",
     "text": [
      "t= 0.013000000000000005 l2error : 0.46723184184188804\n",
      "t= ParameterCF, val = 0.014\n"
     ]
    },
    {
     "name": "stderr",
     "output_type": "stream",
     "text": [
      "used dof inconsistency\n",
      "(silence this warning by setting BilinearForm(...check_unused=False) )\n"
     ]
    },
    {
     "name": "stdout",
     "output_type": "stream",
     "text": [
      "t= 0.014000000000000005 l2error : 0.47471569313637363\n",
      "t= ParameterCF, val = 0.015\n"
     ]
    },
    {
     "name": "stderr",
     "output_type": "stream",
     "text": [
      "used dof inconsistency\n",
      "(silence this warning by setting BilinearForm(...check_unused=False) )\n"
     ]
    },
    {
     "name": "stdout",
     "output_type": "stream",
     "text": [
      "t= 0.015000000000000006 l2error : 0.4421965860254949\n",
      "t= ParameterCF, val = 0.016\n"
     ]
    },
    {
     "name": "stderr",
     "output_type": "stream",
     "text": [
      "used dof inconsistency\n",
      "(silence this warning by setting BilinearForm(...check_unused=False) )\n"
     ]
    },
    {
     "name": "stdout",
     "output_type": "stream",
     "text": [
      "t= 0.016000000000000007 l2error : 0.48056379443038283\n",
      "t= ParameterCF, val = 0.017\n"
     ]
    },
    {
     "name": "stderr",
     "output_type": "stream",
     "text": [
      "used dof inconsistency\n",
      "(silence this warning by setting BilinearForm(...check_unused=False) )\n"
     ]
    },
    {
     "name": "stdout",
     "output_type": "stream",
     "text": [
      "t= 0.017000000000000008 l2error : 0.49257470422453636\n",
      "t= ParameterCF, val = 0.018\n"
     ]
    },
    {
     "name": "stderr",
     "output_type": "stream",
     "text": [
      "used dof inconsistency\n",
      "(silence this warning by setting BilinearForm(...check_unused=False) )\n"
     ]
    },
    {
     "name": "stdout",
     "output_type": "stream",
     "text": [
      "t= 0.01800000000000001 l2error : 0.4851486214070613\n",
      "t= ParameterCF, val = 0.019\n"
     ]
    },
    {
     "name": "stderr",
     "output_type": "stream",
     "text": [
      "used dof inconsistency\n",
      "(silence this warning by setting BilinearForm(...check_unused=False) )\n"
     ]
    },
    {
     "name": "stdout",
     "output_type": "stream",
     "text": [
      "t= 0.01900000000000001 l2error : 0.5047708459873002\n",
      "t= ParameterCF, val = 0.02\n"
     ]
    },
    {
     "name": "stderr",
     "output_type": "stream",
     "text": [
      "used dof inconsistency\n",
      "(silence this warning by setting BilinearForm(...check_unused=False) )\n"
     ]
    },
    {
     "name": "stdout",
     "output_type": "stream",
     "text": [
      "t= 0.02000000000000001 l2error : 0.5104512031524167\n",
      "t= ParameterCF, val = 0.021\n"
     ]
    },
    {
     "name": "stderr",
     "output_type": "stream",
     "text": [
      "used dof inconsistency\n",
      "(silence this warning by setting BilinearForm(...check_unused=False) )\n"
     ]
    },
    {
     "name": "stdout",
     "output_type": "stream",
     "text": [
      "t= 0.02100000000000001 l2error : 0.4144445332456122\n",
      "t= ParameterCF, val = 0.022\n"
     ]
    },
    {
     "name": "stderr",
     "output_type": "stream",
     "text": [
      "used dof inconsistency\n",
      "(silence this warning by setting BilinearForm(...check_unused=False) )\n"
     ]
    },
    {
     "name": "stdout",
     "output_type": "stream",
     "text": [
      "t= 0.022000000000000013 l2error : 0.4814832262304008\n",
      "t= ParameterCF, val = 0.023\n"
     ]
    },
    {
     "name": "stderr",
     "output_type": "stream",
     "text": [
      "used dof inconsistency\n",
      "(silence this warning by setting BilinearForm(...check_unused=False) )\n"
     ]
    },
    {
     "name": "stdout",
     "output_type": "stream",
     "text": [
      "t= 0.023000000000000013 l2error : 0.5008574011735943\n",
      "t= ParameterCF, val = 0.024\n"
     ]
    },
    {
     "name": "stderr",
     "output_type": "stream",
     "text": [
      "used dof inconsistency\n",
      "(silence this warning by setting BilinearForm(...check_unused=False) )\n"
     ]
    },
    {
     "name": "stdout",
     "output_type": "stream",
     "text": [
      "t= 0.024000000000000014 l2error : 0.4130122576996937\n",
      "t= ParameterCF, val = 0.025\n"
     ]
    },
    {
     "name": "stderr",
     "output_type": "stream",
     "text": [
      "used dof inconsistency\n",
      "(silence this warning by setting BilinearForm(...check_unused=False) )\n"
     ]
    },
    {
     "name": "stdout",
     "output_type": "stream",
     "text": [
      "t= 0.025000000000000015 l2error : 0.4800757031350264\n",
      "t= ParameterCF, val = 0.026\n"
     ]
    },
    {
     "name": "stderr",
     "output_type": "stream",
     "text": [
      "used dof inconsistency\n",
      "(silence this warning by setting BilinearForm(...check_unused=False) )\n"
     ]
    },
    {
     "name": "stdout",
     "output_type": "stream",
     "text": [
      "t= 0.026000000000000016 l2error : 0.48793978880748506\n",
      "t= ParameterCF, val = 0.027\n"
     ]
    },
    {
     "name": "stderr",
     "output_type": "stream",
     "text": [
      "used dof inconsistency\n",
      "(silence this warning by setting BilinearForm(...check_unused=False) )\n"
     ]
    },
    {
     "name": "stdout",
     "output_type": "stream",
     "text": [
      "t= 0.027000000000000017 l2error : 0.5166038874827684\n",
      "t= ParameterCF, val = 0.028\n"
     ]
    },
    {
     "name": "stderr",
     "output_type": "stream",
     "text": [
      "used dof inconsistency\n",
      "(silence this warning by setting BilinearForm(...check_unused=False) )\n"
     ]
    },
    {
     "name": "stdout",
     "output_type": "stream",
     "text": [
      "t= 0.028000000000000018 l2error : 0.5270195833208026\n",
      "t= ParameterCF, val = 0.029\n"
     ]
    },
    {
     "name": "stderr",
     "output_type": "stream",
     "text": [
      "used dof inconsistency\n",
      "(silence this warning by setting BilinearForm(...check_unused=False) )\n"
     ]
    },
    {
     "name": "stdout",
     "output_type": "stream",
     "text": [
      "t= 0.02900000000000002 l2error : 0.534161893749513\n",
      "t= ParameterCF, val = 0.03\n"
     ]
    },
    {
     "name": "stderr",
     "output_type": "stream",
     "text": [
      "used dof inconsistency\n",
      "(silence this warning by setting BilinearForm(...check_unused=False) )\n"
     ]
    },
    {
     "name": "stdout",
     "output_type": "stream",
     "text": [
      "t= 0.03000000000000002 l2error : 0.5381337452460303\n",
      "t= ParameterCF, val = 0.031\n"
     ]
    },
    {
     "name": "stderr",
     "output_type": "stream",
     "text": [
      "used dof inconsistency\n",
      "(silence this warning by setting BilinearForm(...check_unused=False) )\n"
     ]
    },
    {
     "name": "stdout",
     "output_type": "stream",
     "text": [
      "t= 0.03100000000000002 l2error : 0.5392045361294229\n",
      "t= ParameterCF, val = 0.032\n"
     ]
    },
    {
     "name": "stderr",
     "output_type": "stream",
     "text": [
      "used dof inconsistency\n",
      "(silence this warning by setting BilinearForm(...check_unused=False) )\n"
     ]
    },
    {
     "name": "stdout",
     "output_type": "stream",
     "text": [
      "t= 0.03200000000000002 l2error : 0.5163610218577255\n",
      "t= ParameterCF, val = 0.033\n"
     ]
    },
    {
     "name": "stderr",
     "output_type": "stream",
     "text": [
      "used dof inconsistency\n",
      "(silence this warning by setting BilinearForm(...check_unused=False) )\n"
     ]
    },
    {
     "name": "stdout",
     "output_type": "stream",
     "text": [
      "t= 0.03300000000000002 l2error : 0.5467901341132301\n",
      "t= ParameterCF, val = 0.034\n"
     ]
    },
    {
     "name": "stderr",
     "output_type": "stream",
     "text": [
      "used dof inconsistency\n",
      "(silence this warning by setting BilinearForm(...check_unused=False) )\n"
     ]
    },
    {
     "name": "stdout",
     "output_type": "stream",
     "text": [
      "t= 0.03400000000000002 l2error : 0.5539563421343607\n",
      "t= ParameterCF, val = 0.035\n"
     ]
    },
    {
     "name": "stderr",
     "output_type": "stream",
     "text": [
      "used dof inconsistency\n",
      "(silence this warning by setting BilinearForm(...check_unused=False) )\n"
     ]
    },
    {
     "name": "stdout",
     "output_type": "stream",
     "text": [
      "t= 0.035000000000000024 l2error : 0.5562708891196666\n",
      "t= ParameterCF, val = 0.036\n"
     ]
    },
    {
     "name": "stderr",
     "output_type": "stream",
     "text": [
      "used dof inconsistency\n",
      "(silence this warning by setting BilinearForm(...check_unused=False) )\n"
     ]
    },
    {
     "name": "stdout",
     "output_type": "stream",
     "text": [
      "t= 0.036000000000000025 l2error : 0.559777334289916\n",
      "t= ParameterCF, val = 0.037\n"
     ]
    },
    {
     "name": "stderr",
     "output_type": "stream",
     "text": [
      "used dof inconsistency\n",
      "(silence this warning by setting BilinearForm(...check_unused=False) )\n"
     ]
    },
    {
     "name": "stdout",
     "output_type": "stream",
     "text": [
      "t= 0.037000000000000026 l2error : 0.5639066555933931\n",
      "t= ParameterCF, val = 0.038\n"
     ]
    },
    {
     "name": "stderr",
     "output_type": "stream",
     "text": [
      "used dof inconsistency\n",
      "(silence this warning by setting BilinearForm(...check_unused=False) )\n"
     ]
    },
    {
     "name": "stdout",
     "output_type": "stream",
     "text": [
      "t= 0.03800000000000003 l2error : 0.5659510796330568\n",
      "t= ParameterCF, val = 0.039\n"
     ]
    },
    {
     "name": "stderr",
     "output_type": "stream",
     "text": [
      "used dof inconsistency\n",
      "(silence this warning by setting BilinearForm(...check_unused=False) )\n"
     ]
    },
    {
     "name": "stdout",
     "output_type": "stream",
     "text": [
      "t= 0.03900000000000003 l2error : 0.5667896343384996\n",
      "t= ParameterCF, val = 0.04\n"
     ]
    },
    {
     "name": "stderr",
     "output_type": "stream",
     "text": [
      "used dof inconsistency\n",
      "(silence this warning by setting BilinearForm(...check_unused=False) )\n"
     ]
    },
    {
     "name": "stdout",
     "output_type": "stream",
     "text": [
      "t= 0.04000000000000003 l2error : 0.569116633999188\n",
      "t= ParameterCF, val = 0.041\n"
     ]
    },
    {
     "name": "stderr",
     "output_type": "stream",
     "text": [
      "used dof inconsistency\n",
      "(silence this warning by setting BilinearForm(...check_unused=False) )\n"
     ]
    },
    {
     "name": "stdout",
     "output_type": "stream",
     "text": [
      "t= 0.04100000000000003 l2error : 0.570330285483348\n",
      "t= ParameterCF, val = 0.042\n"
     ]
    },
    {
     "name": "stderr",
     "output_type": "stream",
     "text": [
      "used dof inconsistency\n",
      "(silence this warning by setting BilinearForm(...check_unused=False) )\n"
     ]
    },
    {
     "name": "stdout",
     "output_type": "stream",
     "text": [
      "t= 0.04200000000000003 l2error : 0.5728442881397678\n",
      "t= ParameterCF, val = 0.043\n"
     ]
    },
    {
     "name": "stderr",
     "output_type": "stream",
     "text": [
      "used dof inconsistency\n",
      "(silence this warning by setting BilinearForm(...check_unused=False) )\n"
     ]
    },
    {
     "name": "stdout",
     "output_type": "stream",
     "text": [
      "t= 0.04300000000000003 l2error : 0.5767193594708898\n",
      "t= ParameterCF, val = 0.044\n"
     ]
    },
    {
     "name": "stderr",
     "output_type": "stream",
     "text": [
      "used dof inconsistency\n",
      "(silence this warning by setting BilinearForm(...check_unused=False) )\n"
     ]
    },
    {
     "name": "stdout",
     "output_type": "stream",
     "text": [
      "t= 0.04400000000000003 l2error : 0.5760252220102178\n",
      "t= ParameterCF, val = 0.045\n"
     ]
    },
    {
     "name": "stderr",
     "output_type": "stream",
     "text": [
      "used dof inconsistency\n",
      "(silence this warning by setting BilinearForm(...check_unused=False) )\n"
     ]
    },
    {
     "name": "stdout",
     "output_type": "stream",
     "text": [
      "t= 0.04500000000000003 l2error : 0.5817436177920827\n",
      "t= ParameterCF, val = 0.046\n"
     ]
    },
    {
     "name": "stderr",
     "output_type": "stream",
     "text": [
      "used dof inconsistency\n",
      "(silence this warning by setting BilinearForm(...check_unused=False) )\n"
     ]
    },
    {
     "name": "stdout",
     "output_type": "stream",
     "text": [
      "t= 0.046000000000000034 l2error : 0.5112448625900793\n",
      "t= ParameterCF, val = 0.047\n"
     ]
    },
    {
     "name": "stderr",
     "output_type": "stream",
     "text": [
      "used dof inconsistency\n",
      "(silence this warning by setting BilinearForm(...check_unused=False) )\n"
     ]
    },
    {
     "name": "stdout",
     "output_type": "stream",
     "text": [
      "t= 0.047000000000000035 l2error : 4.218019066671039\n",
      "t= ParameterCF, val = 0.048\n"
     ]
    },
    {
     "name": "stderr",
     "output_type": "stream",
     "text": [
      "used dof inconsistency\n",
      "(silence this warning by setting BilinearForm(...check_unused=False) )\n"
     ]
    },
    {
     "name": "stdout",
     "output_type": "stream",
     "text": [
      "t= 0.048000000000000036 l2error : 2.0572497722659238\n",
      "t= ParameterCF, val = 0.049\n"
     ]
    },
    {
     "name": "stderr",
     "output_type": "stream",
     "text": [
      "used dof inconsistency\n",
      "(silence this warning by setting BilinearForm(...check_unused=False) )\n"
     ]
    },
    {
     "name": "stdout",
     "output_type": "stream",
     "text": [
      "t= 0.04900000000000004 l2error : 0.5113835407557853\n",
      "t= ParameterCF, val = 0.05\n"
     ]
    },
    {
     "name": "stderr",
     "output_type": "stream",
     "text": [
      "used dof inconsistency\n",
      "(silence this warning by setting BilinearForm(...check_unused=False) )\n"
     ]
    },
    {
     "name": "stdout",
     "output_type": "stream",
     "text": [
      "t= 0.05000000000000004 l2error : 0.5557388020782488\n",
      "t= ParameterCF, val = 0.051\n"
     ]
    },
    {
     "name": "stderr",
     "output_type": "stream",
     "text": [
      "used dof inconsistency\n",
      "(silence this warning by setting BilinearForm(...check_unused=False) )\n"
     ]
    },
    {
     "name": "stdout",
     "output_type": "stream",
     "text": [
      "t= 0.05100000000000004 l2error : 0.6307065428970201\n",
      "t= ParameterCF, val = 0.052\n"
     ]
    },
    {
     "name": "stderr",
     "output_type": "stream",
     "text": [
      "used dof inconsistency\n",
      "(silence this warning by setting BilinearForm(...check_unused=False) )\n"
     ]
    },
    {
     "name": "stdout",
     "output_type": "stream",
     "text": [
      "t= 0.05200000000000004 l2error : 0.6432157836775091\n",
      "t= ParameterCF, val = 0.053\n"
     ]
    },
    {
     "name": "stderr",
     "output_type": "stream",
     "text": [
      "used dof inconsistency\n",
      "(silence this warning by setting BilinearForm(...check_unused=False) )\n"
     ]
    },
    {
     "name": "stdout",
     "output_type": "stream",
     "text": [
      "t= 0.05300000000000004 l2error : 0.8375355108843463\n",
      "t= ParameterCF, val = 0.054\n"
     ]
    },
    {
     "name": "stderr",
     "output_type": "stream",
     "text": [
      "used dof inconsistency\n",
      "(silence this warning by setting BilinearForm(...check_unused=False) )\n"
     ]
    },
    {
     "name": "stdout",
     "output_type": "stream",
     "text": [
      "t= 0.05400000000000004 l2error : 1.2132752040809214\n",
      "t= ParameterCF, val = 0.055\n"
     ]
    },
    {
     "name": "stderr",
     "output_type": "stream",
     "text": [
      "used dof inconsistency\n",
      "(silence this warning by setting BilinearForm(...check_unused=False) )\n"
     ]
    },
    {
     "name": "stdout",
     "output_type": "stream",
     "text": [
      "t= 0.05500000000000004 l2error : 0.8176925138841143\n",
      "t= ParameterCF, val = 0.056\n"
     ]
    },
    {
     "name": "stderr",
     "output_type": "stream",
     "text": [
      "used dof inconsistency\n",
      "(silence this warning by setting BilinearForm(...check_unused=False) )\n"
     ]
    },
    {
     "name": "stdout",
     "output_type": "stream",
     "text": [
      "t= 0.05600000000000004 l2error : 0.8353486281803548\n",
      "t= ParameterCF, val = 0.057\n"
     ]
    },
    {
     "name": "stderr",
     "output_type": "stream",
     "text": [
      "used dof inconsistency\n",
      "(silence this warning by setting BilinearForm(...check_unused=False) )\n"
     ]
    },
    {
     "name": "stdout",
     "output_type": "stream",
     "text": [
      "t= 0.057000000000000044 l2error : 0.6611171237243614\n",
      "t= ParameterCF, val = 0.058\n"
     ]
    },
    {
     "name": "stderr",
     "output_type": "stream",
     "text": [
      "used dof inconsistency\n",
      "(silence this warning by setting BilinearForm(...check_unused=False) )\n"
     ]
    },
    {
     "name": "stdout",
     "output_type": "stream",
     "text": [
      "t= 0.058000000000000045 l2error : 0.6670706744067195\n",
      "t= ParameterCF, val = 0.059\n"
     ]
    },
    {
     "name": "stderr",
     "output_type": "stream",
     "text": [
      "used dof inconsistency\n",
      "(silence this warning by setting BilinearForm(...check_unused=False) )\n"
     ]
    },
    {
     "name": "stdout",
     "output_type": "stream",
     "text": [
      "t= 0.059000000000000045 l2error : 0.6464008491830479\n",
      "t= ParameterCF, val = 0.06\n"
     ]
    },
    {
     "name": "stderr",
     "output_type": "stream",
     "text": [
      "used dof inconsistency\n",
      "(silence this warning by setting BilinearForm(...check_unused=False) )\n"
     ]
    },
    {
     "name": "stdout",
     "output_type": "stream",
     "text": [
      "t= 0.060000000000000046 l2error : 0.5904048748712915\n",
      "t= ParameterCF, val = 0.061\n"
     ]
    },
    {
     "name": "stderr",
     "output_type": "stream",
     "text": [
      "used dof inconsistency\n",
      "(silence this warning by setting BilinearForm(...check_unused=False) )\n"
     ]
    },
    {
     "name": "stdout",
     "output_type": "stream",
     "text": [
      "t= 0.06100000000000005 l2error : 0.5671216839630154\n",
      "t= ParameterCF, val = 0.062\n"
     ]
    },
    {
     "name": "stderr",
     "output_type": "stream",
     "text": [
      "used dof inconsistency\n",
      "(silence this warning by setting BilinearForm(...check_unused=False) )\n"
     ]
    },
    {
     "name": "stdout",
     "output_type": "stream",
     "text": [
      "t= 0.06200000000000005 l2error : 0.6220157151296468\n",
      "t= ParameterCF, val = 0.063\n"
     ]
    },
    {
     "name": "stderr",
     "output_type": "stream",
     "text": [
      "used dof inconsistency\n",
      "(silence this warning by setting BilinearForm(...check_unused=False) )\n"
     ]
    },
    {
     "name": "stdout",
     "output_type": "stream",
     "text": [
      "t= 0.06300000000000004 l2error : 0.6826722337041802\n",
      "t= ParameterCF, val = 0.064\n"
     ]
    },
    {
     "name": "stderr",
     "output_type": "stream",
     "text": [
      "used dof inconsistency\n",
      "(silence this warning by setting BilinearForm(...check_unused=False) )\n"
     ]
    },
    {
     "name": "stdout",
     "output_type": "stream",
     "text": [
      "t= 0.06400000000000004 l2error : 0.5979610530575985\n",
      "t= ParameterCF, val = 0.065\n"
     ]
    },
    {
     "name": "stderr",
     "output_type": "stream",
     "text": [
      "used dof inconsistency\n",
      "(silence this warning by setting BilinearForm(...check_unused=False) )\n"
     ]
    },
    {
     "name": "stdout",
     "output_type": "stream",
     "text": [
      "t= 0.06500000000000004 l2error : 5.230829759069951\n",
      "t= ParameterCF, val = 0.066\n"
     ]
    },
    {
     "name": "stderr",
     "output_type": "stream",
     "text": [
      "used dof inconsistency\n",
      "(silence this warning by setting BilinearForm(...check_unused=False) )\n"
     ]
    },
    {
     "name": "stdout",
     "output_type": "stream",
     "text": [
      "t= 0.06600000000000004 l2error : 1.5309557268344447\n",
      "t= ParameterCF, val = 0.067\n"
     ]
    },
    {
     "name": "stderr",
     "output_type": "stream",
     "text": [
      "used dof inconsistency\n",
      "(silence this warning by setting BilinearForm(...check_unused=False) )\n"
     ]
    },
    {
     "name": "stdout",
     "output_type": "stream",
     "text": [
      "t= 0.06700000000000005 l2error : 1.017829372553712\n",
      "t= ParameterCF, val = 0.068\n"
     ]
    },
    {
     "name": "stderr",
     "output_type": "stream",
     "text": [
      "used dof inconsistency\n",
      "(silence this warning by setting BilinearForm(...check_unused=False) )\n"
     ]
    },
    {
     "name": "stdout",
     "output_type": "stream",
     "text": [
      "t= 0.06800000000000005 l2error : 0.9974797983043466\n",
      "t= ParameterCF, val = 0.069\n"
     ]
    },
    {
     "name": "stderr",
     "output_type": "stream",
     "text": [
      "used dof inconsistency\n",
      "(silence this warning by setting BilinearForm(...check_unused=False) )\n"
     ]
    },
    {
     "name": "stdout",
     "output_type": "stream",
     "text": [
      "t= 0.06900000000000005 l2error : 0.7673757326841438\n",
      "t= ParameterCF, val = 0.07\n"
     ]
    },
    {
     "name": "stderr",
     "output_type": "stream",
     "text": [
      "used dof inconsistency\n",
      "(silence this warning by setting BilinearForm(...check_unused=False) )\n"
     ]
    },
    {
     "name": "stdout",
     "output_type": "stream",
     "text": [
      "t= 0.07000000000000005 l2error : 0.789328484706453\n",
      "t= ParameterCF, val = 0.071\n"
     ]
    },
    {
     "name": "stderr",
     "output_type": "stream",
     "text": [
      "used dof inconsistency\n",
      "(silence this warning by setting BilinearForm(...check_unused=False) )\n"
     ]
    },
    {
     "name": "stdout",
     "output_type": "stream",
     "text": [
      "t= 0.07100000000000005 l2error : 0.5924708720033047\n",
      "t= ParameterCF, val = 0.072\n"
     ]
    },
    {
     "name": "stderr",
     "output_type": "stream",
     "text": [
      "used dof inconsistency\n",
      "(silence this warning by setting BilinearForm(...check_unused=False) )\n"
     ]
    },
    {
     "name": "stdout",
     "output_type": "stream",
     "text": [
      "t= 0.07200000000000005 l2error : 181.7663501751106\n",
      "t= ParameterCF, val = 0.073\n"
     ]
    },
    {
     "name": "stderr",
     "output_type": "stream",
     "text": [
      "used dof inconsistency\n",
      "(silence this warning by setting BilinearForm(...check_unused=False) )\n"
     ]
    },
    {
     "name": "stdout",
     "output_type": "stream",
     "text": [
      "t= 0.07300000000000005 l2error : 9.81103247149709\n",
      "t= ParameterCF, val = 0.074\n"
     ]
    },
    {
     "name": "stderr",
     "output_type": "stream",
     "text": [
      "used dof inconsistency\n",
      "(silence this warning by setting BilinearForm(...check_unused=False) )\n"
     ]
    },
    {
     "name": "stdout",
     "output_type": "stream",
     "text": [
      "t= 0.07400000000000005 l2error : 5.264343399821035\n",
      "t= ParameterCF, val = 0.075\n"
     ]
    },
    {
     "name": "stderr",
     "output_type": "stream",
     "text": [
      "used dof inconsistency\n",
      "(silence this warning by setting BilinearForm(...check_unused=False) )\n"
     ]
    },
    {
     "name": "stdout",
     "output_type": "stream",
     "text": [
      "t= 0.07500000000000005 l2error : 12.138555516999075\n",
      "t= ParameterCF, val = 0.076\n"
     ]
    },
    {
     "name": "stderr",
     "output_type": "stream",
     "text": [
      "used dof inconsistency\n",
      "(silence this warning by setting BilinearForm(...check_unused=False) )\n"
     ]
    },
    {
     "name": "stdout",
     "output_type": "stream",
     "text": [
      "t= 0.07600000000000005 l2error : 2.6075707060446733\n",
      "t= ParameterCF, val = 0.077\n"
     ]
    },
    {
     "name": "stderr",
     "output_type": "stream",
     "text": [
      "used dof inconsistency\n",
      "(silence this warning by setting BilinearForm(...check_unused=False) )\n"
     ]
    },
    {
     "name": "stdout",
     "output_type": "stream",
     "text": [
      "t= 0.07700000000000005 l2error : 1.77801867688331\n",
      "t= ParameterCF, val = 0.078\n"
     ]
    },
    {
     "name": "stderr",
     "output_type": "stream",
     "text": [
      "used dof inconsistency\n",
      "(silence this warning by setting BilinearForm(...check_unused=False) )\n"
     ]
    },
    {
     "name": "stdout",
     "output_type": "stream",
     "text": [
      "t= 0.07800000000000006 l2error : 1.5833925487045133\n",
      "t= ParameterCF, val = 0.079\n"
     ]
    },
    {
     "name": "stderr",
     "output_type": "stream",
     "text": [
      "used dof inconsistency\n",
      "(silence this warning by setting BilinearForm(...check_unused=False) )\n"
     ]
    },
    {
     "name": "stdout",
     "output_type": "stream",
     "text": [
      "t= 0.07900000000000006 l2error : 1.215046419257334\n",
      "t= ParameterCF, val = 0.08\n"
     ]
    },
    {
     "name": "stderr",
     "output_type": "stream",
     "text": [
      "used dof inconsistency\n",
      "(silence this warning by setting BilinearForm(...check_unused=False) )\n"
     ]
    },
    {
     "name": "stdout",
     "output_type": "stream",
     "text": [
      "t= 0.08000000000000006 l2error : 1.0650370884900013\n",
      "t= ParameterCF, val = 0.081\n"
     ]
    },
    {
     "name": "stderr",
     "output_type": "stream",
     "text": [
      "used dof inconsistency\n",
      "(silence this warning by setting BilinearForm(...check_unused=False) )\n"
     ]
    },
    {
     "name": "stdout",
     "output_type": "stream",
     "text": [
      "t= 0.08100000000000006 l2error : 1.1943655131480797\n",
      "t= ParameterCF, val = 0.082\n"
     ]
    },
    {
     "name": "stderr",
     "output_type": "stream",
     "text": [
      "used dof inconsistency\n",
      "(silence this warning by setting BilinearForm(...check_unused=False) )\n"
     ]
    },
    {
     "name": "stdout",
     "output_type": "stream",
     "text": [
      "t= 0.08200000000000006 l2error : 1.0188545602045134\n",
      "t= ParameterCF, val = 0.083\n"
     ]
    },
    {
     "name": "stderr",
     "output_type": "stream",
     "text": [
      "used dof inconsistency\n",
      "(silence this warning by setting BilinearForm(...check_unused=False) )\n"
     ]
    },
    {
     "name": "stdout",
     "output_type": "stream",
     "text": [
      "t= 0.08300000000000006 l2error : 10.68516862475768\n",
      "t= ParameterCF, val = 0.084\n"
     ]
    },
    {
     "name": "stderr",
     "output_type": "stream",
     "text": [
      "used dof inconsistency\n",
      "(silence this warning by setting BilinearForm(...check_unused=False) )\n"
     ]
    },
    {
     "name": "stdout",
     "output_type": "stream",
     "text": [
      "t= 0.08400000000000006 l2error : 88.51738613907656\n",
      "t= ParameterCF, val = 0.085\n"
     ]
    },
    {
     "name": "stderr",
     "output_type": "stream",
     "text": [
      "used dof inconsistency\n",
      "(silence this warning by setting BilinearForm(...check_unused=False) )\n"
     ]
    },
    {
     "name": "stdout",
     "output_type": "stream",
     "text": [
      "t= 0.08500000000000006 l2error : 2.837604551616094\n",
      "t= ParameterCF, val = 0.086\n"
     ]
    },
    {
     "name": "stderr",
     "output_type": "stream",
     "text": [
      "used dof inconsistency\n",
      "(silence this warning by setting BilinearForm(...check_unused=False) )\n"
     ]
    },
    {
     "name": "stdout",
     "output_type": "stream",
     "text": [
      "t= 0.08600000000000006 l2error : 2.1527053449991773\n",
      "t= ParameterCF, val = 0.087\n"
     ]
    },
    {
     "name": "stderr",
     "output_type": "stream",
     "text": [
      "used dof inconsistency\n",
      "(silence this warning by setting BilinearForm(...check_unused=False) )\n"
     ]
    },
    {
     "name": "stdout",
     "output_type": "stream",
     "text": [
      "t= 0.08700000000000006 l2error : 1.300589522106639\n",
      "t= ParameterCF, val = 0.088\n"
     ]
    },
    {
     "name": "stderr",
     "output_type": "stream",
     "text": [
      "used dof inconsistency\n",
      "(silence this warning by setting BilinearForm(...check_unused=False) )\n"
     ]
    },
    {
     "name": "stdout",
     "output_type": "stream",
     "text": [
      "t= 0.08800000000000006 l2error : 1.1021654705930108\n",
      "t= ParameterCF, val = 0.089\n"
     ]
    },
    {
     "name": "stderr",
     "output_type": "stream",
     "text": [
      "used dof inconsistency\n",
      "(silence this warning by setting BilinearForm(...check_unused=False) )\n"
     ]
    },
    {
     "name": "stdout",
     "output_type": "stream",
     "text": [
      "t= 0.08900000000000007 l2error : 0.8194012185294014\n",
      "t= ParameterCF, val = 0.09\n"
     ]
    },
    {
     "name": "stderr",
     "output_type": "stream",
     "text": [
      "used dof inconsistency\n",
      "(silence this warning by setting BilinearForm(...check_unused=False) )\n"
     ]
    },
    {
     "name": "stdout",
     "output_type": "stream",
     "text": [
      "t= 0.09000000000000007 l2error : 0.8516798282636944\n",
      "t= ParameterCF, val = 0.091\n"
     ]
    },
    {
     "name": "stderr",
     "output_type": "stream",
     "text": [
      "used dof inconsistency\n",
      "(silence this warning by setting BilinearForm(...check_unused=False) )\n"
     ]
    },
    {
     "name": "stdout",
     "output_type": "stream",
     "text": [
      "t= 0.09100000000000007 l2error : 0.6915223620344081\n",
      "t= ParameterCF, val = 0.092\n"
     ]
    },
    {
     "name": "stderr",
     "output_type": "stream",
     "text": [
      "used dof inconsistency\n",
      "(silence this warning by setting BilinearForm(...check_unused=False) )\n"
     ]
    },
    {
     "name": "stdout",
     "output_type": "stream",
     "text": [
      "t= 0.09200000000000007 l2error : 0.8556739801791183\n",
      "t= ParameterCF, val = 0.093\n"
     ]
    },
    {
     "name": "stderr",
     "output_type": "stream",
     "text": [
      "used dof inconsistency\n",
      "(silence this warning by setting BilinearForm(...check_unused=False) )\n"
     ]
    },
    {
     "name": "stdout",
     "output_type": "stream",
     "text": [
      "t= 0.09300000000000007 l2error : 1.4301820106737062\n",
      "t= ParameterCF, val = 0.094\n"
     ]
    },
    {
     "name": "stderr",
     "output_type": "stream",
     "text": [
      "used dof inconsistency\n",
      "(silence this warning by setting BilinearForm(...check_unused=False) )\n"
     ]
    },
    {
     "name": "stdout",
     "output_type": "stream",
     "text": [
      "t= 0.09400000000000007 l2error : 1.102008235503961\n",
      "t= ParameterCF, val = 0.095\n"
     ]
    },
    {
     "name": "stderr",
     "output_type": "stream",
     "text": [
      "used dof inconsistency\n",
      "(silence this warning by setting BilinearForm(...check_unused=False) )\n"
     ]
    },
    {
     "name": "stdout",
     "output_type": "stream",
     "text": [
      "t= 0.09500000000000007 l2error : 0.7698030732847517\n",
      "t= ParameterCF, val = 0.096\n"
     ]
    },
    {
     "name": "stderr",
     "output_type": "stream",
     "text": [
      "used dof inconsistency\n",
      "(silence this warning by setting BilinearForm(...check_unused=False) )\n"
     ]
    },
    {
     "name": "stdout",
     "output_type": "stream",
     "text": [
      "t= 0.09600000000000007 l2error : 0.747533496644345\n",
      "t= ParameterCF, val = 0.097\n"
     ]
    },
    {
     "name": "stderr",
     "output_type": "stream",
     "text": [
      "used dof inconsistency\n",
      "(silence this warning by setting BilinearForm(...check_unused=False) )\n"
     ]
    },
    {
     "name": "stdout",
     "output_type": "stream",
     "text": [
      "t= 0.09700000000000007 l2error : 0.7048555496094725\n",
      "t= ParameterCF, val = 0.098\n"
     ]
    },
    {
     "name": "stderr",
     "output_type": "stream",
     "text": [
      "used dof inconsistency\n",
      "(silence this warning by setting BilinearForm(...check_unused=False) )\n"
     ]
    },
    {
     "name": "stdout",
     "output_type": "stream",
     "text": [
      "t= 0.09800000000000007 l2error : 4.221959548075037\n",
      "t= ParameterCF, val = 0.099\n"
     ]
    },
    {
     "name": "stderr",
     "output_type": "stream",
     "text": [
      "used dof inconsistency\n",
      "(silence this warning by setting BilinearForm(...check_unused=False) )\n"
     ]
    },
    {
     "name": "stdout",
     "output_type": "stream",
     "text": [
      "t= 0.09900000000000007 l2error : 4.572498192724851\n",
      "t= ParameterCF, val = 0.1\n"
     ]
    },
    {
     "name": "stderr",
     "output_type": "stream",
     "text": [
      "used dof inconsistency\n",
      "(silence this warning by setting BilinearForm(...check_unused=False) )\n"
     ]
    },
    {
     "name": "stdout",
     "output_type": "stream",
     "text": [
      "t= 0.10000000000000007 l2error : 0.7161564912149363\n",
      "t= ParameterCF, val = 0.101\n"
     ]
    },
    {
     "name": "stderr",
     "output_type": "stream",
     "text": [
      "used dof inconsistency\n",
      "(silence this warning by setting BilinearForm(...check_unused=False) )\n"
     ]
    },
    {
     "name": "stdout",
     "output_type": "stream",
     "text": [
      "t= 0.10100000000000008 l2error : 0.8730710516790149\n",
      "t= ParameterCF, val = 0.102\n"
     ]
    },
    {
     "name": "stderr",
     "output_type": "stream",
     "text": [
      "used dof inconsistency\n",
      "(silence this warning by setting BilinearForm(...check_unused=False) )\n"
     ]
    },
    {
     "name": "stdout",
     "output_type": "stream",
     "text": [
      "t= 0.10200000000000008 l2error : 3.2979190499760835\n",
      "t= ParameterCF, val = 0.103\n"
     ]
    },
    {
     "name": "stderr",
     "output_type": "stream",
     "text": [
      "used dof inconsistency\n",
      "(silence this warning by setting BilinearForm(...check_unused=False) )\n"
     ]
    },
    {
     "name": "stdout",
     "output_type": "stream",
     "text": [
      "t= 0.10300000000000008 l2error : 1.517116402050263\n",
      "t= ParameterCF, val = 0.104\n"
     ]
    },
    {
     "name": "stderr",
     "output_type": "stream",
     "text": [
      "used dof inconsistency\n",
      "(silence this warning by setting BilinearForm(...check_unused=False) )\n"
     ]
    },
    {
     "name": "stdout",
     "output_type": "stream",
     "text": [
      "t= 0.10400000000000008 l2error : 0.7869685311197384\n",
      "t= ParameterCF, val = 0.105\n"
     ]
    },
    {
     "name": "stderr",
     "output_type": "stream",
     "text": [
      "used dof inconsistency\n",
      "(silence this warning by setting BilinearForm(...check_unused=False) )\n"
     ]
    },
    {
     "name": "stdout",
     "output_type": "stream",
     "text": [
      "t= 0.10500000000000008 l2error : 6.102375339243649\n",
      "t= ParameterCF, val = 0.106\n"
     ]
    },
    {
     "name": "stderr",
     "output_type": "stream",
     "text": [
      "used dof inconsistency\n",
      "(silence this warning by setting BilinearForm(...check_unused=False) )\n"
     ]
    },
    {
     "name": "stdout",
     "output_type": "stream",
     "text": [
      "t= 0.10600000000000008 l2error : 22.209853619086378\n",
      "t= ParameterCF, val = 0.107\n"
     ]
    },
    {
     "name": "stderr",
     "output_type": "stream",
     "text": [
      "used dof inconsistency\n",
      "(silence this warning by setting BilinearForm(...check_unused=False) )\n"
     ]
    },
    {
     "name": "stdout",
     "output_type": "stream",
     "text": [
      "t= 0.10700000000000008 l2error : 2.7023909333739766\n",
      "t= ParameterCF, val = 0.108\n"
     ]
    },
    {
     "name": "stderr",
     "output_type": "stream",
     "text": [
      "used dof inconsistency\n",
      "(silence this warning by setting BilinearForm(...check_unused=False) )\n"
     ]
    },
    {
     "name": "stdout",
     "output_type": "stream",
     "text": [
      "t= 0.10800000000000008 l2error : 1.5051088408993343\n",
      "t= ParameterCF, val = 0.109\n"
     ]
    },
    {
     "name": "stderr",
     "output_type": "stream",
     "text": [
      "used dof inconsistency\n",
      "(silence this warning by setting BilinearForm(...check_unused=False) )\n"
     ]
    },
    {
     "name": "stdout",
     "output_type": "stream",
     "text": [
      "t= 0.10900000000000008 l2error : 0.9516790324491253\n",
      "t= ParameterCF, val = 0.11\n"
     ]
    },
    {
     "name": "stderr",
     "output_type": "stream",
     "text": [
      "used dof inconsistency\n",
      "(silence this warning by setting BilinearForm(...check_unused=False) )\n"
     ]
    },
    {
     "name": "stdout",
     "output_type": "stream",
     "text": [
      "t= 0.11000000000000008 l2error : 0.8185338354675155\n",
      "t= ParameterCF, val = 0.111\n"
     ]
    },
    {
     "name": "stderr",
     "output_type": "stream",
     "text": [
      "used dof inconsistency\n",
      "(silence this warning by setting BilinearForm(...check_unused=False) )\n"
     ]
    },
    {
     "name": "stdout",
     "output_type": "stream",
     "text": [
      "t= 0.11100000000000008 l2error : 0.7662280698648362\n",
      "t= ParameterCF, val = 0.112\n"
     ]
    },
    {
     "name": "stderr",
     "output_type": "stream",
     "text": [
      "used dof inconsistency\n",
      "(silence this warning by setting BilinearForm(...check_unused=False) )\n"
     ]
    },
    {
     "name": "stdout",
     "output_type": "stream",
     "text": [
      "t= 0.11200000000000009 l2error : 0.7325000002292039\n",
      "t= ParameterCF, val = 0.113\n"
     ]
    },
    {
     "name": "stderr",
     "output_type": "stream",
     "text": [
      "used dof inconsistency\n",
      "(silence this warning by setting BilinearForm(...check_unused=False) )\n"
     ]
    },
    {
     "name": "stdout",
     "output_type": "stream",
     "text": [
      "t= 0.11300000000000009 l2error : 0.7277496743851042\n",
      "t= ParameterCF, val = 0.114\n"
     ]
    },
    {
     "name": "stderr",
     "output_type": "stream",
     "text": [
      "used dof inconsistency\n",
      "(silence this warning by setting BilinearForm(...check_unused=False) )\n"
     ]
    },
    {
     "name": "stdout",
     "output_type": "stream",
     "text": [
      "t= 0.11400000000000009 l2error : 0.6989622764840795\n",
      "t= ParameterCF, val = 0.115\n"
     ]
    },
    {
     "name": "stderr",
     "output_type": "stream",
     "text": [
      "used dof inconsistency\n",
      "(silence this warning by setting BilinearForm(...check_unused=False) )\n"
     ]
    },
    {
     "name": "stdout",
     "output_type": "stream",
     "text": [
      "t= 0.11500000000000009 l2error : 1.6896110580014165\n",
      "t= ParameterCF, val = 0.116\n"
     ]
    },
    {
     "name": "stderr",
     "output_type": "stream",
     "text": [
      "used dof inconsistency\n",
      "(silence this warning by setting BilinearForm(...check_unused=False) )\n"
     ]
    },
    {
     "name": "stdout",
     "output_type": "stream",
     "text": [
      "t= 0.11600000000000009 l2error : 0.7514234287540087\n",
      "t= ParameterCF, val = 0.117\n"
     ]
    },
    {
     "name": "stderr",
     "output_type": "stream",
     "text": [
      "used dof inconsistency\n",
      "(silence this warning by setting BilinearForm(...check_unused=False) )\n"
     ]
    },
    {
     "name": "stdout",
     "output_type": "stream",
     "text": [
      "t= 0.11700000000000009 l2error : 0.7083472218407322\n",
      "t= ParameterCF, val = 0.118\n"
     ]
    },
    {
     "name": "stderr",
     "output_type": "stream",
     "text": [
      "used dof inconsistency\n",
      "(silence this warning by setting BilinearForm(...check_unused=False) )\n"
     ]
    },
    {
     "name": "stdout",
     "output_type": "stream",
     "text": [
      "t= 0.11800000000000009 l2error : 0.6725815872722897\n",
      "t= ParameterCF, val = 0.119\n"
     ]
    },
    {
     "name": "stderr",
     "output_type": "stream",
     "text": [
      "used dof inconsistency\n",
      "(silence this warning by setting BilinearForm(...check_unused=False) )\n"
     ]
    },
    {
     "name": "stdout",
     "output_type": "stream",
     "text": [
      "t= 0.11900000000000009 l2error : 0.6605628545347918\n",
      "t= ParameterCF, val = 0.12\n"
     ]
    },
    {
     "name": "stderr",
     "output_type": "stream",
     "text": [
      "used dof inconsistency\n",
      "(silence this warning by setting BilinearForm(...check_unused=False) )\n"
     ]
    },
    {
     "name": "stdout",
     "output_type": "stream",
     "text": [
      "t= 0.12000000000000009 l2error : 0.6580220898613476\n",
      "t= ParameterCF, val = 0.121\n"
     ]
    },
    {
     "name": "stderr",
     "output_type": "stream",
     "text": [
      "used dof inconsistency\n",
      "(silence this warning by setting BilinearForm(...check_unused=False) )\n"
     ]
    },
    {
     "name": "stdout",
     "output_type": "stream",
     "text": [
      "t= 0.1210000000000001 l2error : 0.636086181273627\n",
      "t= ParameterCF, val = 0.122\n"
     ]
    },
    {
     "name": "stderr",
     "output_type": "stream",
     "text": [
      "used dof inconsistency\n",
      "(silence this warning by setting BilinearForm(...check_unused=False) )\n"
     ]
    },
    {
     "name": "stdout",
     "output_type": "stream",
     "text": [
      "t= 0.1220000000000001 l2error : 0.6427420780007905\n",
      "t= ParameterCF, val = 0.123\n"
     ]
    },
    {
     "name": "stderr",
     "output_type": "stream",
     "text": [
      "used dof inconsistency\n",
      "(silence this warning by setting BilinearForm(...check_unused=False) )\n"
     ]
    },
    {
     "name": "stdout",
     "output_type": "stream",
     "text": [
      "t= 0.1230000000000001 l2error : 0.6407161705711822\n",
      "t= ParameterCF, val = 0.124\n"
     ]
    },
    {
     "name": "stderr",
     "output_type": "stream",
     "text": [
      "used dof inconsistency\n",
      "(silence this warning by setting BilinearForm(...check_unused=False) )\n"
     ]
    },
    {
     "name": "stdout",
     "output_type": "stream",
     "text": [
      "t= 0.1240000000000001 l2error : 0.6389773957794579\n",
      "t= ParameterCF, val = 0.125\n"
     ]
    },
    {
     "name": "stderr",
     "output_type": "stream",
     "text": [
      "used dof inconsistency\n",
      "(silence this warning by setting BilinearForm(...check_unused=False) )\n"
     ]
    },
    {
     "name": "stdout",
     "output_type": "stream",
     "text": [
      "t= 0.12500000000000008 l2error : 0.6151373576968794\n",
      "t= ParameterCF, val = 0.126\n"
     ]
    },
    {
     "name": "stderr",
     "output_type": "stream",
     "text": [
      "used dof inconsistency\n",
      "(silence this warning by setting BilinearForm(...check_unused=False) )\n"
     ]
    },
    {
     "name": "stdout",
     "output_type": "stream",
     "text": [
      "t= 0.12600000000000008 l2error : 0.6266864859881149\n",
      "t= ParameterCF, val = 0.127\n"
     ]
    },
    {
     "name": "stderr",
     "output_type": "stream",
     "text": [
      "used dof inconsistency\n",
      "(silence this warning by setting BilinearForm(...check_unused=False) )\n"
     ]
    },
    {
     "name": "stdout",
     "output_type": "stream",
     "text": [
      "t= 0.12700000000000009 l2error : 0.6279278791853763\n",
      "t= ParameterCF, val = 0.128\n"
     ]
    },
    {
     "name": "stderr",
     "output_type": "stream",
     "text": [
      "used dof inconsistency\n",
      "(silence this warning by setting BilinearForm(...check_unused=False) )\n"
     ]
    },
    {
     "name": "stdout",
     "output_type": "stream",
     "text": [
      "t= 0.12800000000000009 l2error : 0.6255913380480298\n",
      "t= ParameterCF, val = 0.129\n"
     ]
    },
    {
     "name": "stderr",
     "output_type": "stream",
     "text": [
      "used dof inconsistency\n",
      "(silence this warning by setting BilinearForm(...check_unused=False) )\n"
     ]
    },
    {
     "name": "stdout",
     "output_type": "stream",
     "text": [
      "t= 0.1290000000000001 l2error : 0.6326809516865667\n",
      "t= ParameterCF, val = 0.13\n"
     ]
    },
    {
     "name": "stderr",
     "output_type": "stream",
     "text": [
      "used dof inconsistency\n",
      "(silence this warning by setting BilinearForm(...check_unused=False) )\n"
     ]
    },
    {
     "name": "stdout",
     "output_type": "stream",
     "text": [
      "t= 0.1300000000000001 l2error : 0.6343608787362062\n",
      "t= ParameterCF, val = 0.131\n"
     ]
    },
    {
     "name": "stderr",
     "output_type": "stream",
     "text": [
      "used dof inconsistency\n",
      "(silence this warning by setting BilinearForm(...check_unused=False) )\n"
     ]
    },
    {
     "name": "stdout",
     "output_type": "stream",
     "text": [
      "t= 0.1310000000000001 l2error : 0.613688846353966\n",
      "t= ParameterCF, val = 0.132\n"
     ]
    },
    {
     "name": "stderr",
     "output_type": "stream",
     "text": [
      "used dof inconsistency\n",
      "(silence this warning by setting BilinearForm(...check_unused=False) )\n"
     ]
    },
    {
     "name": "stdout",
     "output_type": "stream",
     "text": [
      "t= 0.1320000000000001 l2error : 0.6227493408455868\n",
      "t= ParameterCF, val = 0.133\n"
     ]
    },
    {
     "name": "stderr",
     "output_type": "stream",
     "text": [
      "used dof inconsistency\n",
      "(silence this warning by setting BilinearForm(...check_unused=False) )\n"
     ]
    },
    {
     "name": "stdout",
     "output_type": "stream",
     "text": [
      "t= 0.1330000000000001 l2error : 0.623342339358748\n",
      "t= ParameterCF, val = 0.134\n"
     ]
    },
    {
     "name": "stderr",
     "output_type": "stream",
     "text": [
      "used dof inconsistency\n",
      "(silence this warning by setting BilinearForm(...check_unused=False) )\n"
     ]
    },
    {
     "name": "stdout",
     "output_type": "stream",
     "text": [
      "t= 0.1340000000000001 l2error : 0.6312527717275241\n",
      "t= ParameterCF, val = 0.135\n"
     ]
    },
    {
     "name": "stderr",
     "output_type": "stream",
     "text": [
      "used dof inconsistency\n",
      "(silence this warning by setting BilinearForm(...check_unused=False) )\n"
     ]
    },
    {
     "name": "stdout",
     "output_type": "stream",
     "text": [
      "t= 0.1350000000000001 l2error : 0.6361845156798425\n",
      "t= ParameterCF, val = 0.136\n"
     ]
    },
    {
     "name": "stderr",
     "output_type": "stream",
     "text": [
      "used dof inconsistency\n",
      "(silence this warning by setting BilinearForm(...check_unused=False) )\n"
     ]
    },
    {
     "name": "stdout",
     "output_type": "stream",
     "text": [
      "t= 0.1360000000000001 l2error : 0.6388130457703545\n",
      "t= ParameterCF, val = 0.137\n"
     ]
    },
    {
     "name": "stderr",
     "output_type": "stream",
     "text": [
      "used dof inconsistency\n",
      "(silence this warning by setting BilinearForm(...check_unused=False) )\n"
     ]
    },
    {
     "name": "stdout",
     "output_type": "stream",
     "text": [
      "t= 0.1370000000000001 l2error : 24.624036022871948\n",
      "t= ParameterCF, val = 0.138\n"
     ]
    },
    {
     "name": "stderr",
     "output_type": "stream",
     "text": [
      "used dof inconsistency\n",
      "(silence this warning by setting BilinearForm(...check_unused=False) )\n"
     ]
    },
    {
     "name": "stdout",
     "output_type": "stream",
     "text": [
      "t= 0.1380000000000001 l2error : 6.289747909617809\n",
      "t= ParameterCF, val = 0.139\n"
     ]
    },
    {
     "name": "stderr",
     "output_type": "stream",
     "text": [
      "used dof inconsistency\n",
      "(silence this warning by setting BilinearForm(...check_unused=False) )\n"
     ]
    },
    {
     "name": "stdout",
     "output_type": "stream",
     "text": [
      "t= 0.1390000000000001 l2error : 2.55669873462898\n",
      "t= ParameterCF, val = 0.14\n"
     ]
    },
    {
     "name": "stderr",
     "output_type": "stream",
     "text": [
      "used dof inconsistency\n",
      "(silence this warning by setting BilinearForm(...check_unused=False) )\n"
     ]
    },
    {
     "name": "stdout",
     "output_type": "stream",
     "text": [
      "t= 0.1400000000000001 l2error : 1.388358384297893\n",
      "t= ParameterCF, val = 0.141\n"
     ]
    },
    {
     "name": "stderr",
     "output_type": "stream",
     "text": [
      "used dof inconsistency\n",
      "(silence this warning by setting BilinearForm(...check_unused=False) )\n"
     ]
    },
    {
     "name": "stdout",
     "output_type": "stream",
     "text": [
      "t= 0.1410000000000001 l2error : 1.1750053020556661\n",
      "t= ParameterCF, val = 0.142\n"
     ]
    },
    {
     "name": "stderr",
     "output_type": "stream",
     "text": [
      "used dof inconsistency\n",
      "(silence this warning by setting BilinearForm(...check_unused=False) )\n"
     ]
    },
    {
     "name": "stdout",
     "output_type": "stream",
     "text": [
      "t= 0.1420000000000001 l2error : 0.9549890969855751\n",
      "t= ParameterCF, val = 0.143\n"
     ]
    },
    {
     "name": "stderr",
     "output_type": "stream",
     "text": [
      "used dof inconsistency\n",
      "(silence this warning by setting BilinearForm(...check_unused=False) )\n"
     ]
    },
    {
     "name": "stdout",
     "output_type": "stream",
     "text": [
      "t= 0.1430000000000001 l2error : 0.8567027254783321\n",
      "t= ParameterCF, val = 0.144\n"
     ]
    },
    {
     "name": "stderr",
     "output_type": "stream",
     "text": [
      "used dof inconsistency\n",
      "(silence this warning by setting BilinearForm(...check_unused=False) )\n"
     ]
    },
    {
     "name": "stdout",
     "output_type": "stream",
     "text": [
      "t= 0.1440000000000001 l2error : 0.7759591824497\n",
      "t= ParameterCF, val = 0.145\n"
     ]
    },
    {
     "name": "stderr",
     "output_type": "stream",
     "text": [
      "used dof inconsistency\n",
      "(silence this warning by setting BilinearForm(...check_unused=False) )\n"
     ]
    },
    {
     "name": "stdout",
     "output_type": "stream",
     "text": [
      "t= 0.1450000000000001 l2error : 0.8284913471198478\n",
      "t= ParameterCF, val = 0.146\n"
     ]
    },
    {
     "name": "stderr",
     "output_type": "stream",
     "text": [
      "used dof inconsistency\n",
      "(silence this warning by setting BilinearForm(...check_unused=False) )\n"
     ]
    },
    {
     "name": "stdout",
     "output_type": "stream",
     "text": [
      "t= 0.1460000000000001 l2error : 0.86023347365646\n",
      "t= ParameterCF, val = 0.147\n"
     ]
    },
    {
     "name": "stderr",
     "output_type": "stream",
     "text": [
      "used dof inconsistency\n",
      "(silence this warning by setting BilinearForm(...check_unused=False) )\n"
     ]
    },
    {
     "name": "stdout",
     "output_type": "stream",
     "text": [
      "t= 0.1470000000000001 l2error : 0.7163760908269129\n",
      "t= ParameterCF, val = 0.148\n"
     ]
    },
    {
     "name": "stderr",
     "output_type": "stream",
     "text": [
      "used dof inconsistency\n",
      "(silence this warning by setting BilinearForm(...check_unused=False) )\n"
     ]
    },
    {
     "name": "stdout",
     "output_type": "stream",
     "text": [
      "t= 0.1480000000000001 l2error : 0.7974692812905753\n",
      "t= ParameterCF, val = 0.149\n"
     ]
    },
    {
     "name": "stderr",
     "output_type": "stream",
     "text": [
      "used dof inconsistency\n",
      "(silence this warning by setting BilinearForm(...check_unused=False) )\n"
     ]
    },
    {
     "name": "stdout",
     "output_type": "stream",
     "text": [
      "t= 0.1490000000000001 l2error : 0.7011918734362016\n",
      "t= ParameterCF, val = 0.15\n"
     ]
    },
    {
     "name": "stderr",
     "output_type": "stream",
     "text": [
      "used dof inconsistency\n",
      "(silence this warning by setting BilinearForm(...check_unused=False) )\n"
     ]
    },
    {
     "name": "stdout",
     "output_type": "stream",
     "text": [
      "t= 0.1500000000000001 l2error : 0.6651577576299115\n",
      "t= ParameterCF, val = 0.151\n"
     ]
    },
    {
     "name": "stderr",
     "output_type": "stream",
     "text": [
      "used dof inconsistency\n",
      "(silence this warning by setting BilinearForm(...check_unused=False) )\n"
     ]
    },
    {
     "name": "stdout",
     "output_type": "stream",
     "text": [
      "t= 0.1510000000000001 l2error : 3.4284342987201386\n",
      "t= ParameterCF, val = 0.152\n"
     ]
    },
    {
     "name": "stderr",
     "output_type": "stream",
     "text": [
      "used dof inconsistency\n",
      "(silence this warning by setting BilinearForm(...check_unused=False) )\n"
     ]
    },
    {
     "name": "stdout",
     "output_type": "stream",
     "text": [
      "t= 0.1520000000000001 l2error : 1.4889723332641682\n",
      "t= ParameterCF, val = 0.153\n"
     ]
    },
    {
     "name": "stderr",
     "output_type": "stream",
     "text": [
      "used dof inconsistency\n",
      "(silence this warning by setting BilinearForm(...check_unused=False) )\n"
     ]
    },
    {
     "name": "stdout",
     "output_type": "stream",
     "text": [
      "t= 0.1530000000000001 l2error : 0.9350128580521443\n",
      "t= ParameterCF, val = 0.154\n"
     ]
    },
    {
     "name": "stderr",
     "output_type": "stream",
     "text": [
      "used dof inconsistency\n",
      "(silence this warning by setting BilinearForm(...check_unused=False) )\n"
     ]
    },
    {
     "name": "stdout",
     "output_type": "stream",
     "text": [
      "t= 0.1540000000000001 l2error : 0.8157656435058742\n",
      "t= ParameterCF, val = 0.155\n"
     ]
    },
    {
     "name": "stderr",
     "output_type": "stream",
     "text": [
      "used dof inconsistency\n",
      "(silence this warning by setting BilinearForm(...check_unused=False) )\n"
     ]
    },
    {
     "name": "stdout",
     "output_type": "stream",
     "text": [
      "t= 0.1550000000000001 l2error : 0.8154232445368148\n",
      "t= ParameterCF, val = 0.156\n"
     ]
    },
    {
     "name": "stderr",
     "output_type": "stream",
     "text": [
      "used dof inconsistency\n",
      "(silence this warning by setting BilinearForm(...check_unused=False) )\n"
     ]
    },
    {
     "name": "stdout",
     "output_type": "stream",
     "text": [
      "t= 0.1560000000000001 l2error : 0.8060093302330827\n",
      "t= ParameterCF, val = 0.157\n"
     ]
    },
    {
     "name": "stderr",
     "output_type": "stream",
     "text": [
      "used dof inconsistency\n",
      "(silence this warning by setting BilinearForm(...check_unused=False) )\n"
     ]
    },
    {
     "name": "stdout",
     "output_type": "stream",
     "text": [
      "t= 0.1570000000000001 l2error : 0.6632728195889304\n",
      "t= ParameterCF, val = 0.158\n"
     ]
    },
    {
     "name": "stderr",
     "output_type": "stream",
     "text": [
      "used dof inconsistency\n",
      "(silence this warning by setting BilinearForm(...check_unused=False) )\n"
     ]
    },
    {
     "name": "stdout",
     "output_type": "stream",
     "text": [
      "t= 0.1580000000000001 l2error : 0.6654583782216118\n",
      "t= ParameterCF, val = 0.159\n"
     ]
    },
    {
     "name": "stderr",
     "output_type": "stream",
     "text": [
      "used dof inconsistency\n",
      "(silence this warning by setting BilinearForm(...check_unused=False) )\n"
     ]
    },
    {
     "name": "stdout",
     "output_type": "stream",
     "text": [
      "t= 0.1590000000000001 l2error : 0.8934238815295976\n",
      "t= ParameterCF, val = 0.16\n"
     ]
    },
    {
     "name": "stderr",
     "output_type": "stream",
     "text": [
      "used dof inconsistency\n",
      "(silence this warning by setting BilinearForm(...check_unused=False) )\n"
     ]
    },
    {
     "name": "stdout",
     "output_type": "stream",
     "text": [
      "t= 0.16000000000000011 l2error : 2.5283697906802907\n",
      "t= ParameterCF, val = 0.161\n"
     ]
    },
    {
     "name": "stderr",
     "output_type": "stream",
     "text": [
      "used dof inconsistency\n",
      "(silence this warning by setting BilinearForm(...check_unused=False) )\n"
     ]
    },
    {
     "name": "stdout",
     "output_type": "stream",
     "text": [
      "t= 0.16100000000000012 l2error : 1.130328302885594\n",
      "t= ParameterCF, val = 0.162\n"
     ]
    },
    {
     "name": "stderr",
     "output_type": "stream",
     "text": [
      "used dof inconsistency\n",
      "(silence this warning by setting BilinearForm(...check_unused=False) )\n"
     ]
    },
    {
     "name": "stdout",
     "output_type": "stream",
     "text": [
      "t= 0.16200000000000012 l2error : 0.929816512525626\n",
      "t= ParameterCF, val = 0.163\n"
     ]
    },
    {
     "name": "stderr",
     "output_type": "stream",
     "text": [
      "used dof inconsistency\n",
      "(silence this warning by setting BilinearForm(...check_unused=False) )\n"
     ]
    },
    {
     "name": "stdout",
     "output_type": "stream",
     "text": [
      "t= 0.16300000000000012 l2error : 0.9709493603434775\n",
      "t= ParameterCF, val = 0.164\n"
     ]
    },
    {
     "name": "stderr",
     "output_type": "stream",
     "text": [
      "used dof inconsistency\n",
      "(silence this warning by setting BilinearForm(...check_unused=False) )\n"
     ]
    },
    {
     "name": "stdout",
     "output_type": "stream",
     "text": [
      "t= 0.16400000000000012 l2error : 1.3676300941427606\n",
      "t= ParameterCF, val = 0.165\n"
     ]
    },
    {
     "name": "stderr",
     "output_type": "stream",
     "text": [
      "used dof inconsistency\n",
      "(silence this warning by setting BilinearForm(...check_unused=False) )\n"
     ]
    },
    {
     "name": "stdout",
     "output_type": "stream",
     "text": [
      "t= 0.16500000000000012 l2error : 4.169406967614857\n",
      "t= ParameterCF, val = 0.166\n"
     ]
    },
    {
     "name": "stderr",
     "output_type": "stream",
     "text": [
      "used dof inconsistency\n",
      "(silence this warning by setting BilinearForm(...check_unused=False) )\n"
     ]
    },
    {
     "name": "stdout",
     "output_type": "stream",
     "text": [
      "t= 0.16600000000000012 l2error : 2.26219508713898\n",
      "t= ParameterCF, val = 0.167\n"
     ]
    },
    {
     "name": "stderr",
     "output_type": "stream",
     "text": [
      "used dof inconsistency\n",
      "(silence this warning by setting BilinearForm(...check_unused=False) )\n"
     ]
    },
    {
     "name": "stdout",
     "output_type": "stream",
     "text": [
      "t= 0.16700000000000012 l2error : 0.8620935837572693\n",
      "t= ParameterCF, val = 0.168\n"
     ]
    },
    {
     "name": "stderr",
     "output_type": "stream",
     "text": [
      "used dof inconsistency\n",
      "(silence this warning by setting BilinearForm(...check_unused=False) )\n"
     ]
    },
    {
     "name": "stdout",
     "output_type": "stream",
     "text": [
      "t= 0.16800000000000012 l2error : 0.6019886411085662\n",
      "t= ParameterCF, val = 0.169\n"
     ]
    },
    {
     "name": "stderr",
     "output_type": "stream",
     "text": [
      "used dof inconsistency\n",
      "(silence this warning by setting BilinearForm(...check_unused=False) )\n"
     ]
    },
    {
     "name": "stdout",
     "output_type": "stream",
     "text": [
      "t= 0.16900000000000012 l2error : 0.6047199622728551\n",
      "t= ParameterCF, val = 0.17\n"
     ]
    },
    {
     "name": "stderr",
     "output_type": "stream",
     "text": [
      "used dof inconsistency\n",
      "(silence this warning by setting BilinearForm(...check_unused=False) )\n"
     ]
    },
    {
     "name": "stdout",
     "output_type": "stream",
     "text": [
      "t= 0.17000000000000012 l2error : 0.7256588607340801\n",
      "t= ParameterCF, val = 0.171\n"
     ]
    },
    {
     "name": "stderr",
     "output_type": "stream",
     "text": [
      "used dof inconsistency\n",
      "(silence this warning by setting BilinearForm(...check_unused=False) )\n"
     ]
    },
    {
     "name": "stdout",
     "output_type": "stream",
     "text": [
      "t= 0.17100000000000012 l2error : 0.8403822563297787\n",
      "t= ParameterCF, val = 0.172\n"
     ]
    },
    {
     "name": "stderr",
     "output_type": "stream",
     "text": [
      "used dof inconsistency\n",
      "(silence this warning by setting BilinearForm(...check_unused=False) )\n"
     ]
    },
    {
     "name": "stdout",
     "output_type": "stream",
     "text": [
      "t= 0.17200000000000013 l2error : 1.6100336804329356\n",
      "t= ParameterCF, val = 0.173\n"
     ]
    },
    {
     "name": "stderr",
     "output_type": "stream",
     "text": [
      "used dof inconsistency\n",
      "(silence this warning by setting BilinearForm(...check_unused=False) )\n"
     ]
    },
    {
     "name": "stdout",
     "output_type": "stream",
     "text": [
      "t= 0.17300000000000013 l2error : 0.7326054452656522\n",
      "t= ParameterCF, val = 0.174\n"
     ]
    },
    {
     "name": "stderr",
     "output_type": "stream",
     "text": [
      "used dof inconsistency\n",
      "(silence this warning by setting BilinearForm(...check_unused=False) )\n"
     ]
    },
    {
     "name": "stdout",
     "output_type": "stream",
     "text": [
      "t= 0.17400000000000013 l2error : 0.6760880836845897\n",
      "t= ParameterCF, val = 0.175\n"
     ]
    },
    {
     "name": "stderr",
     "output_type": "stream",
     "text": [
      "used dof inconsistency\n",
      "(silence this warning by setting BilinearForm(...check_unused=False) )\n"
     ]
    },
    {
     "name": "stdout",
     "output_type": "stream",
     "text": [
      "t= 0.17500000000000013 l2error : 0.6524413515579907\n",
      "t= ParameterCF, val = 0.176\n"
     ]
    },
    {
     "name": "stderr",
     "output_type": "stream",
     "text": [
      "used dof inconsistency\n",
      "(silence this warning by setting BilinearForm(...check_unused=False) )\n"
     ]
    },
    {
     "name": "stdout",
     "output_type": "stream",
     "text": [
      "t= 0.17600000000000013 l2error : 0.7695684464320168\n",
      "t= ParameterCF, val = 0.177\n"
     ]
    },
    {
     "name": "stderr",
     "output_type": "stream",
     "text": [
      "used dof inconsistency\n",
      "(silence this warning by setting BilinearForm(...check_unused=False) )\n"
     ]
    },
    {
     "name": "stdout",
     "output_type": "stream",
     "text": [
      "t= 0.17700000000000013 l2error : 1.9393636528221974\n",
      "t= ParameterCF, val = 0.178\n"
     ]
    },
    {
     "name": "stderr",
     "output_type": "stream",
     "text": [
      "used dof inconsistency\n",
      "(silence this warning by setting BilinearForm(...check_unused=False) )\n"
     ]
    },
    {
     "name": "stdout",
     "output_type": "stream",
     "text": [
      "t= 0.17800000000000013 l2error : 0.7671991718976745\n",
      "t= ParameterCF, val = 0.179\n"
     ]
    },
    {
     "name": "stderr",
     "output_type": "stream",
     "text": [
      "used dof inconsistency\n",
      "(silence this warning by setting BilinearForm(...check_unused=False) )\n"
     ]
    },
    {
     "name": "stdout",
     "output_type": "stream",
     "text": [
      "t= 0.17900000000000013 l2error : 0.6995031901463566\n",
      "t= ParameterCF, val = 0.18\n"
     ]
    },
    {
     "name": "stderr",
     "output_type": "stream",
     "text": [
      "used dof inconsistency\n",
      "(silence this warning by setting BilinearForm(...check_unused=False) )\n"
     ]
    },
    {
     "name": "stdout",
     "output_type": "stream",
     "text": [
      "t= 0.18000000000000013 l2error : 0.6432923141597413\n",
      "t= ParameterCF, val = 0.181\n"
     ]
    },
    {
     "name": "stderr",
     "output_type": "stream",
     "text": [
      "used dof inconsistency\n",
      "(silence this warning by setting BilinearForm(...check_unused=False) )\n"
     ]
    },
    {
     "name": "stdout",
     "output_type": "stream",
     "text": [
      "t= 0.18100000000000013 l2error : 0.7184490510868112\n",
      "t= ParameterCF, val = 0.182\n"
     ]
    },
    {
     "name": "stderr",
     "output_type": "stream",
     "text": [
      "used dof inconsistency\n",
      "(silence this warning by setting BilinearForm(...check_unused=False) )\n"
     ]
    },
    {
     "name": "stdout",
     "output_type": "stream",
     "text": [
      "t= 0.18200000000000013 l2error : 1.017194355359424\n",
      "t= ParameterCF, val = 0.183\n"
     ]
    },
    {
     "name": "stderr",
     "output_type": "stream",
     "text": [
      "used dof inconsistency\n",
      "(silence this warning by setting BilinearForm(...check_unused=False) )\n"
     ]
    },
    {
     "name": "stdout",
     "output_type": "stream",
     "text": [
      "t= 0.18300000000000013 l2error : 0.6479336826310341\n",
      "t= ParameterCF, val = 0.184\n"
     ]
    },
    {
     "name": "stderr",
     "output_type": "stream",
     "text": [
      "used dof inconsistency\n",
      "(silence this warning by setting BilinearForm(...check_unused=False) )\n"
     ]
    },
    {
     "name": "stdout",
     "output_type": "stream",
     "text": [
      "t= 0.18400000000000014 l2error : 0.6243157902483342\n",
      "t= ParameterCF, val = 0.185\n"
     ]
    },
    {
     "name": "stderr",
     "output_type": "stream",
     "text": [
      "used dof inconsistency\n",
      "(silence this warning by setting BilinearForm(...check_unused=False) )\n"
     ]
    },
    {
     "name": "stdout",
     "output_type": "stream",
     "text": [
      "t= 0.18500000000000014 l2error : 0.6175748297798014\n",
      "t= ParameterCF, val = 0.186\n"
     ]
    },
    {
     "name": "stderr",
     "output_type": "stream",
     "text": [
      "used dof inconsistency\n",
      "(silence this warning by setting BilinearForm(...check_unused=False) )\n"
     ]
    },
    {
     "name": "stdout",
     "output_type": "stream",
     "text": [
      "t= 0.18600000000000014 l2error : 0.6740772308500512\n",
      "t= ParameterCF, val = 0.187\n"
     ]
    },
    {
     "name": "stderr",
     "output_type": "stream",
     "text": [
      "used dof inconsistency\n",
      "(silence this warning by setting BilinearForm(...check_unused=False) )\n"
     ]
    },
    {
     "name": "stdout",
     "output_type": "stream",
     "text": [
      "t= 0.18700000000000014 l2error : 0.6906695691460889\n",
      "t= ParameterCF, val = 0.188\n"
     ]
    },
    {
     "name": "stderr",
     "output_type": "stream",
     "text": [
      "used dof inconsistency\n",
      "(silence this warning by setting BilinearForm(...check_unused=False) )\n"
     ]
    },
    {
     "name": "stdout",
     "output_type": "stream",
     "text": [
      "t= 0.18800000000000014 l2error : 0.69635279377045\n",
      "t= ParameterCF, val = 0.189\n"
     ]
    },
    {
     "name": "stderr",
     "output_type": "stream",
     "text": [
      "used dof inconsistency\n",
      "(silence this warning by setting BilinearForm(...check_unused=False) )\n"
     ]
    },
    {
     "name": "stdout",
     "output_type": "stream",
     "text": [
      "t= 0.18900000000000014 l2error : 0.6764648076887686\n",
      "t= ParameterCF, val = 0.19\n"
     ]
    },
    {
     "name": "stderr",
     "output_type": "stream",
     "text": [
      "used dof inconsistency\n",
      "(silence this warning by setting BilinearForm(...check_unused=False) )\n"
     ]
    },
    {
     "name": "stdout",
     "output_type": "stream",
     "text": [
      "t= 0.19000000000000014 l2error : 0.6078088969778107\n",
      "t= ParameterCF, val = 0.191\n"
     ]
    },
    {
     "name": "stderr",
     "output_type": "stream",
     "text": [
      "used dof inconsistency\n",
      "(silence this warning by setting BilinearForm(...check_unused=False) )\n"
     ]
    },
    {
     "name": "stdout",
     "output_type": "stream",
     "text": [
      "t= 0.19100000000000014 l2error : 0.6780184803274171\n",
      "t= ParameterCF, val = 0.192\n"
     ]
    },
    {
     "name": "stderr",
     "output_type": "stream",
     "text": [
      "used dof inconsistency\n",
      "(silence this warning by setting BilinearForm(...check_unused=False) )\n"
     ]
    },
    {
     "name": "stdout",
     "output_type": "stream",
     "text": [
      "t= 0.19200000000000014 l2error : 0.7319537779559298\n",
      "t= ParameterCF, val = 0.193\n"
     ]
    },
    {
     "name": "stderr",
     "output_type": "stream",
     "text": [
      "used dof inconsistency\n",
      "(silence this warning by setting BilinearForm(...check_unused=False) )\n"
     ]
    },
    {
     "name": "stdout",
     "output_type": "stream",
     "text": [
      "t= 0.19300000000000014 l2error : 0.700707120582022\n",
      "t= ParameterCF, val = 0.194\n"
     ]
    },
    {
     "name": "stderr",
     "output_type": "stream",
     "text": [
      "used dof inconsistency\n",
      "(silence this warning by setting BilinearForm(...check_unused=False) )\n"
     ]
    },
    {
     "name": "stdout",
     "output_type": "stream",
     "text": [
      "t= 0.19400000000000014 l2error : 0.8439037280247522\n",
      "t= ParameterCF, val = 0.195\n"
     ]
    },
    {
     "name": "stderr",
     "output_type": "stream",
     "text": [
      "used dof inconsistency\n",
      "(silence this warning by setting BilinearForm(...check_unused=False) )\n"
     ]
    },
    {
     "name": "stdout",
     "output_type": "stream",
     "text": [
      "t= 0.19500000000000015 l2error : 1.0023970675950309\n",
      "t= ParameterCF, val = 0.196\n"
     ]
    },
    {
     "name": "stderr",
     "output_type": "stream",
     "text": [
      "used dof inconsistency\n",
      "(silence this warning by setting BilinearForm(...check_unused=False) )\n"
     ]
    },
    {
     "name": "stdout",
     "output_type": "stream",
     "text": [
      "t= 0.19600000000000015 l2error : 1.5935375117397945\n",
      "t= ParameterCF, val = 0.197\n"
     ]
    },
    {
     "name": "stderr",
     "output_type": "stream",
     "text": [
      "used dof inconsistency\n",
      "(silence this warning by setting BilinearForm(...check_unused=False) )\n"
     ]
    },
    {
     "name": "stdout",
     "output_type": "stream",
     "text": [
      "t= 0.19700000000000015 l2error : 3.622030374504726\n",
      "t= ParameterCF, val = 0.198\n"
     ]
    },
    {
     "name": "stderr",
     "output_type": "stream",
     "text": [
      "used dof inconsistency\n",
      "(silence this warning by setting BilinearForm(...check_unused=False) )\n"
     ]
    },
    {
     "name": "stdout",
     "output_type": "stream",
     "text": [
      "t= 0.19800000000000015 l2error : 3.974842184027728\n",
      "t= ParameterCF, val = 0.199\n"
     ]
    },
    {
     "name": "stderr",
     "output_type": "stream",
     "text": [
      "used dof inconsistency\n",
      "(silence this warning by setting BilinearForm(...check_unused=False) )\n"
     ]
    },
    {
     "name": "stdout",
     "output_type": "stream",
     "text": [
      "t= 0.19900000000000015 l2error : 24.66563692448652\n",
      "t= ParameterCF, val = 0.2\n"
     ]
    },
    {
     "name": "stderr",
     "output_type": "stream",
     "text": [
      "used dof inconsistency\n",
      "(silence this warning by setting BilinearForm(...check_unused=False) )\n"
     ]
    },
    {
     "name": "stdout",
     "output_type": "stream",
     "text": [
      "t= 0.20000000000000015 l2error : 2.9238289686018972\n",
      "t= ParameterCF, val = 0.201\n"
     ]
    },
    {
     "name": "stderr",
     "output_type": "stream",
     "text": [
      "used dof inconsistency\n",
      "(silence this warning by setting BilinearForm(...check_unused=False) )\n"
     ]
    },
    {
     "name": "stdout",
     "output_type": "stream",
     "text": [
      "t= 0.20100000000000015 l2error : 1.7259628418891872\n",
      "t= ParameterCF, val = 0.202\n"
     ]
    },
    {
     "name": "stderr",
     "output_type": "stream",
     "text": [
      "used dof inconsistency\n",
      "(silence this warning by setting BilinearForm(...check_unused=False) )\n"
     ]
    },
    {
     "name": "stdout",
     "output_type": "stream",
     "text": [
      "t= 0.20200000000000015 l2error : 1.106292685828456\n",
      "t= ParameterCF, val = 0.203\n"
     ]
    },
    {
     "name": "stderr",
     "output_type": "stream",
     "text": [
      "used dof inconsistency\n",
      "(silence this warning by setting BilinearForm(...check_unused=False) )\n"
     ]
    },
    {
     "name": "stdout",
     "output_type": "stream",
     "text": [
      "t= 0.20300000000000015 l2error : 0.898988463086848\n",
      "t= ParameterCF, val = 0.204\n"
     ]
    },
    {
     "name": "stderr",
     "output_type": "stream",
     "text": [
      "used dof inconsistency\n",
      "(silence this warning by setting BilinearForm(...check_unused=False) )\n"
     ]
    },
    {
     "name": "stdout",
     "output_type": "stream",
     "text": [
      "t= 0.20400000000000015 l2error : 0.792023405488266\n",
      "t= ParameterCF, val = 0.205\n"
     ]
    },
    {
     "name": "stderr",
     "output_type": "stream",
     "text": [
      "used dof inconsistency\n",
      "(silence this warning by setting BilinearForm(...check_unused=False) )\n"
     ]
    },
    {
     "name": "stdout",
     "output_type": "stream",
     "text": [
      "t= 0.20500000000000015 l2error : 0.7428147585900887\n",
      "t= ParameterCF, val = 0.206\n"
     ]
    },
    {
     "name": "stderr",
     "output_type": "stream",
     "text": [
      "used dof inconsistency\n",
      "(silence this warning by setting BilinearForm(...check_unused=False) )\n"
     ]
    },
    {
     "name": "stdout",
     "output_type": "stream",
     "text": [
      "t= 0.20600000000000016 l2error : 0.8437966732747137\n",
      "t= ParameterCF, val = 0.207\n"
     ]
    },
    {
     "name": "stderr",
     "output_type": "stream",
     "text": [
      "used dof inconsistency\n",
      "(silence this warning by setting BilinearForm(...check_unused=False) )\n"
     ]
    },
    {
     "name": "stdout",
     "output_type": "stream",
     "text": [
      "t= 0.20700000000000016 l2error : 0.8890234472963792\n",
      "t= ParameterCF, val = 0.208\n"
     ]
    },
    {
     "name": "stderr",
     "output_type": "stream",
     "text": [
      "used dof inconsistency\n",
      "(silence this warning by setting BilinearForm(...check_unused=False) )\n"
     ]
    },
    {
     "name": "stdout",
     "output_type": "stream",
     "text": [
      "t= 0.20800000000000016 l2error : 0.6717863766654018\n",
      "t= ParameterCF, val = 0.209\n"
     ]
    },
    {
     "name": "stderr",
     "output_type": "stream",
     "text": [
      "used dof inconsistency\n",
      "(silence this warning by setting BilinearForm(...check_unused=False) )\n"
     ]
    },
    {
     "name": "stdout",
     "output_type": "stream",
     "text": [
      "t= 0.20900000000000016 l2error : 0.6694903329604924\n",
      "t= ParameterCF, val = 0.21\n"
     ]
    },
    {
     "name": "stderr",
     "output_type": "stream",
     "text": [
      "used dof inconsistency\n",
      "(silence this warning by setting BilinearForm(...check_unused=False) )\n"
     ]
    },
    {
     "name": "stdout",
     "output_type": "stream",
     "text": [
      "t= 0.21000000000000016 l2error : 0.7410935650344499\n",
      "t= ParameterCF, val = 0.211\n"
     ]
    },
    {
     "name": "stderr",
     "output_type": "stream",
     "text": [
      "used dof inconsistency\n",
      "(silence this warning by setting BilinearForm(...check_unused=False) )\n"
     ]
    },
    {
     "name": "stdout",
     "output_type": "stream",
     "text": [
      "t= 0.21100000000000016 l2error : 0.5576834606699045\n",
      "t= ParameterCF, val = 0.212\n"
     ]
    },
    {
     "name": "stderr",
     "output_type": "stream",
     "text": [
      "used dof inconsistency\n",
      "(silence this warning by setting BilinearForm(...check_unused=False) )\n"
     ]
    },
    {
     "name": "stdout",
     "output_type": "stream",
     "text": [
      "t= 0.21200000000000016 l2error : 86.16542064459668\n",
      "t= ParameterCF, val = 0.213\n"
     ]
    },
    {
     "name": "stderr",
     "output_type": "stream",
     "text": [
      "used dof inconsistency\n",
      "(silence this warning by setting BilinearForm(...check_unused=False) )\n"
     ]
    },
    {
     "name": "stdout",
     "output_type": "stream",
     "text": [
      "t= 0.21300000000000016 l2error : 15.045444912566357\n",
      "t= ParameterCF, val = 0.214\n"
     ]
    },
    {
     "name": "stderr",
     "output_type": "stream",
     "text": [
      "used dof inconsistency\n",
      "(silence this warning by setting BilinearForm(...check_unused=False) )\n"
     ]
    },
    {
     "name": "stdout",
     "output_type": "stream",
     "text": [
      "t= 0.21400000000000016 l2error : 6.316260283413728\n",
      "t= ParameterCF, val = 0.215\n"
     ]
    },
    {
     "name": "stderr",
     "output_type": "stream",
     "text": [
      "used dof inconsistency\n",
      "(silence this warning by setting BilinearForm(...check_unused=False) )\n"
     ]
    },
    {
     "name": "stdout",
     "output_type": "stream",
     "text": [
      "t= 0.21500000000000016 l2error : 124.79504891700113\n",
      "t= ParameterCF, val = 0.216\n"
     ]
    },
    {
     "name": "stderr",
     "output_type": "stream",
     "text": [
      "used dof inconsistency\n",
      "(silence this warning by setting BilinearForm(...check_unused=False) )\n"
     ]
    },
    {
     "name": "stdout",
     "output_type": "stream",
     "text": [
      "t= 0.21600000000000016 l2error : 11.412867290720325\n",
      "t= ParameterCF, val = 0.217\n"
     ]
    },
    {
     "name": "stderr",
     "output_type": "stream",
     "text": [
      "used dof inconsistency\n",
      "(silence this warning by setting BilinearForm(...check_unused=False) )\n"
     ]
    },
    {
     "name": "stdout",
     "output_type": "stream",
     "text": [
      "t= 0.21700000000000016 l2error : 5.114531215053313\n",
      "t= ParameterCF, val = 0.218\n"
     ]
    },
    {
     "name": "stderr",
     "output_type": "stream",
     "text": [
      "used dof inconsistency\n",
      "(silence this warning by setting BilinearForm(...check_unused=False) )\n"
     ]
    },
    {
     "name": "stdout",
     "output_type": "stream",
     "text": [
      "t= 0.21800000000000017 l2error : 2.582689671980603\n",
      "t= ParameterCF, val = 0.219\n"
     ]
    },
    {
     "name": "stderr",
     "output_type": "stream",
     "text": [
      "used dof inconsistency\n",
      "(silence this warning by setting BilinearForm(...check_unused=False) )\n"
     ]
    },
    {
     "name": "stdout",
     "output_type": "stream",
     "text": [
      "t= 0.21900000000000017 l2error : 1.7785639371057156\n",
      "t= ParameterCF, val = 0.22\n"
     ]
    },
    {
     "name": "stderr",
     "output_type": "stream",
     "text": [
      "used dof inconsistency\n",
      "(silence this warning by setting BilinearForm(...check_unused=False) )\n"
     ]
    },
    {
     "name": "stdout",
     "output_type": "stream",
     "text": [
      "t= 0.22000000000000017 l2error : 1.3076779845391402\n",
      "t= ParameterCF, val = 0.221\n"
     ]
    },
    {
     "name": "stderr",
     "output_type": "stream",
     "text": [
      "used dof inconsistency\n",
      "(silence this warning by setting BilinearForm(...check_unused=False) )\n"
     ]
    },
    {
     "name": "stdout",
     "output_type": "stream",
     "text": [
      "t= 0.22100000000000017 l2error : 1.0601632510709573\n",
      "t= ParameterCF, val = 0.222\n"
     ]
    },
    {
     "name": "stderr",
     "output_type": "stream",
     "text": [
      "used dof inconsistency\n",
      "(silence this warning by setting BilinearForm(...check_unused=False) )\n"
     ]
    },
    {
     "name": "stdout",
     "output_type": "stream",
     "text": [
      "t= 0.22200000000000017 l2error : 1.9369888060948424\n",
      "t= ParameterCF, val = 0.223\n"
     ]
    },
    {
     "name": "stderr",
     "output_type": "stream",
     "text": [
      "used dof inconsistency\n",
      "(silence this warning by setting BilinearForm(...check_unused=False) )\n"
     ]
    },
    {
     "name": "stdout",
     "output_type": "stream",
     "text": [
      "t= 0.22300000000000017 l2error : 0.962931268181144\n",
      "t= ParameterCF, val = 0.224\n"
     ]
    },
    {
     "name": "stderr",
     "output_type": "stream",
     "text": [
      "used dof inconsistency\n",
      "(silence this warning by setting BilinearForm(...check_unused=False) )\n"
     ]
    },
    {
     "name": "stdout",
     "output_type": "stream",
     "text": [
      "t= 0.22400000000000017 l2error : 0.8442590901307319\n",
      "t= ParameterCF, val = 0.225\n"
     ]
    },
    {
     "name": "stderr",
     "output_type": "stream",
     "text": [
      "used dof inconsistency\n",
      "(silence this warning by setting BilinearForm(...check_unused=False) )\n"
     ]
    },
    {
     "name": "stdout",
     "output_type": "stream",
     "text": [
      "t= 0.22500000000000017 l2error : 0.7584499339176067\n",
      "t= ParameterCF, val = 0.226\n"
     ]
    },
    {
     "name": "stderr",
     "output_type": "stream",
     "text": [
      "used dof inconsistency\n",
      "(silence this warning by setting BilinearForm(...check_unused=False) )\n"
     ]
    },
    {
     "name": "stdout",
     "output_type": "stream",
     "text": [
      "t= 0.22600000000000017 l2error : 0.7243428038994063\n",
      "t= ParameterCF, val = 0.227\n"
     ]
    },
    {
     "name": "stderr",
     "output_type": "stream",
     "text": [
      "used dof inconsistency\n",
      "(silence this warning by setting BilinearForm(...check_unused=False) )\n"
     ]
    },
    {
     "name": "stdout",
     "output_type": "stream",
     "text": [
      "t= 0.22700000000000017 l2error : 0.8465068618080679\n",
      "t= ParameterCF, val = 0.228\n"
     ]
    },
    {
     "name": "stderr",
     "output_type": "stream",
     "text": [
      "used dof inconsistency\n",
      "(silence this warning by setting BilinearForm(...check_unused=False) )\n"
     ]
    },
    {
     "name": "stdout",
     "output_type": "stream",
     "text": [
      "t= 0.22800000000000017 l2error : 0.7655928689264141\n",
      "t= ParameterCF, val = 0.229\n"
     ]
    },
    {
     "name": "stderr",
     "output_type": "stream",
     "text": [
      "used dof inconsistency\n",
      "(silence this warning by setting BilinearForm(...check_unused=False) )\n"
     ]
    },
    {
     "name": "stdout",
     "output_type": "stream",
     "text": [
      "t= 0.22900000000000018 l2error : 0.7594278258709991\n",
      "t= ParameterCF, val = 0.23\n"
     ]
    },
    {
     "name": "stderr",
     "output_type": "stream",
     "text": [
      "used dof inconsistency\n",
      "(silence this warning by setting BilinearForm(...check_unused=False) )\n"
     ]
    },
    {
     "name": "stdout",
     "output_type": "stream",
     "text": [
      "t= 0.23000000000000018 l2error : 0.5869577786085027\n",
      "t= ParameterCF, val = 0.231\n"
     ]
    },
    {
     "name": "stderr",
     "output_type": "stream",
     "text": [
      "used dof inconsistency\n",
      "(silence this warning by setting BilinearForm(...check_unused=False) )\n"
     ]
    },
    {
     "name": "stdout",
     "output_type": "stream",
     "text": [
      "t= 0.23100000000000018 l2error : 30.24106262150684\n",
      "t= ParameterCF, val = 0.232\n"
     ]
    },
    {
     "name": "stderr",
     "output_type": "stream",
     "text": [
      "used dof inconsistency\n",
      "(silence this warning by setting BilinearForm(...check_unused=False) )\n"
     ]
    },
    {
     "name": "stdout",
     "output_type": "stream",
     "text": [
      "t= 0.23200000000000018 l2error : 1.1732242600969873\n",
      "t= ParameterCF, val = 0.233\n"
     ]
    },
    {
     "name": "stderr",
     "output_type": "stream",
     "text": [
      "used dof inconsistency\n",
      "(silence this warning by setting BilinearForm(...check_unused=False) )\n"
     ]
    },
    {
     "name": "stdout",
     "output_type": "stream",
     "text": [
      "t= 0.23300000000000018 l2error : 0.8274479440774839\n",
      "t= ParameterCF, val = 0.234\n"
     ]
    },
    {
     "name": "stderr",
     "output_type": "stream",
     "text": [
      "used dof inconsistency\n",
      "(silence this warning by setting BilinearForm(...check_unused=False) )\n"
     ]
    },
    {
     "name": "stdout",
     "output_type": "stream",
     "text": [
      "t= 0.23400000000000018 l2error : 3.9507173175180585\n",
      "t= ParameterCF, val = 0.235\n"
     ]
    },
    {
     "name": "stderr",
     "output_type": "stream",
     "text": [
      "used dof inconsistency\n",
      "(silence this warning by setting BilinearForm(...check_unused=False) )\n"
     ]
    },
    {
     "name": "stdout",
     "output_type": "stream",
     "text": [
      "t= 0.23500000000000018 l2error : 0.9041713492583358\n",
      "t= ParameterCF, val = 0.236\n"
     ]
    },
    {
     "name": "stderr",
     "output_type": "stream",
     "text": [
      "used dof inconsistency\n",
      "(silence this warning by setting BilinearForm(...check_unused=False) )\n"
     ]
    },
    {
     "name": "stdout",
     "output_type": "stream",
     "text": [
      "t= 0.23600000000000018 l2error : 0.6791183266795822\n",
      "t= ParameterCF, val = 0.237\n"
     ]
    },
    {
     "name": "stderr",
     "output_type": "stream",
     "text": [
      "used dof inconsistency\n",
      "(silence this warning by setting BilinearForm(...check_unused=False) )\n"
     ]
    },
    {
     "name": "stdout",
     "output_type": "stream",
     "text": [
      "t= 0.23700000000000018 l2error : 0.6686602210906936\n",
      "t= ParameterCF, val = 0.238\n"
     ]
    },
    {
     "name": "stderr",
     "output_type": "stream",
     "text": [
      "used dof inconsistency\n",
      "(silence this warning by setting BilinearForm(...check_unused=False) )\n"
     ]
    },
    {
     "name": "stdout",
     "output_type": "stream",
     "text": [
      "t= 0.23800000000000018 l2error : 0.6527857603404893\n",
      "t= ParameterCF, val = 0.239\n"
     ]
    },
    {
     "name": "stderr",
     "output_type": "stream",
     "text": [
      "used dof inconsistency\n",
      "(silence this warning by setting BilinearForm(...check_unused=False) )\n"
     ]
    },
    {
     "name": "stdout",
     "output_type": "stream",
     "text": [
      "t= 0.23900000000000018 l2error : 0.6649502475374777\n",
      "t= ParameterCF, val = 0.24\n"
     ]
    },
    {
     "name": "stderr",
     "output_type": "stream",
     "text": [
      "used dof inconsistency\n",
      "(silence this warning by setting BilinearForm(...check_unused=False) )\n"
     ]
    },
    {
     "name": "stdout",
     "output_type": "stream",
     "text": [
      "t= 0.24000000000000019 l2error : 0.8635699257073949\n",
      "t= ParameterCF, val = 0.241\n"
     ]
    },
    {
     "name": "stderr",
     "output_type": "stream",
     "text": [
      "used dof inconsistency\n",
      "(silence this warning by setting BilinearForm(...check_unused=False) )\n"
     ]
    },
    {
     "name": "stdout",
     "output_type": "stream",
     "text": [
      "t= 0.2410000000000002 l2error : 0.6990545412704642\n",
      "t= ParameterCF, val = 0.242\n"
     ]
    },
    {
     "name": "stderr",
     "output_type": "stream",
     "text": [
      "used dof inconsistency\n",
      "(silence this warning by setting BilinearForm(...check_unused=False) )\n"
     ]
    },
    {
     "name": "stdout",
     "output_type": "stream",
     "text": [
      "t= 0.2420000000000002 l2error : 1.188645216840611\n",
      "t= ParameterCF, val = 0.243\n"
     ]
    },
    {
     "name": "stderr",
     "output_type": "stream",
     "text": [
      "used dof inconsistency\n",
      "(silence this warning by setting BilinearForm(...check_unused=False) )\n"
     ]
    },
    {
     "name": "stdout",
     "output_type": "stream",
     "text": [
      "t= 0.2430000000000002 l2error : 6.080996869880532\n",
      "t= ParameterCF, val = 0.244\n"
     ]
    },
    {
     "name": "stderr",
     "output_type": "stream",
     "text": [
      "used dof inconsistency\n",
      "(silence this warning by setting BilinearForm(...check_unused=False) )\n"
     ]
    },
    {
     "name": "stdout",
     "output_type": "stream",
     "text": [
      "t= 0.2440000000000002 l2error : 2.6481880498030765\n",
      "t= ParameterCF, val = 0.245\n"
     ]
    },
    {
     "name": "stderr",
     "output_type": "stream",
     "text": [
      "used dof inconsistency\n",
      "(silence this warning by setting BilinearForm(...check_unused=False) )\n"
     ]
    },
    {
     "name": "stdout",
     "output_type": "stream",
     "text": [
      "t= 0.2450000000000002 l2error : 1.6646431992878286\n",
      "t= ParameterCF, val = 0.246\n"
     ]
    },
    {
     "name": "stderr",
     "output_type": "stream",
     "text": [
      "used dof inconsistency\n",
      "(silence this warning by setting BilinearForm(...check_unused=False) )\n"
     ]
    },
    {
     "name": "stdout",
     "output_type": "stream",
     "text": [
      "t= 0.2460000000000002 l2error : 1.1085982838631525\n",
      "t= ParameterCF, val = 0.247\n"
     ]
    },
    {
     "name": "stderr",
     "output_type": "stream",
     "text": [
      "used dof inconsistency\n",
      "(silence this warning by setting BilinearForm(...check_unused=False) )\n"
     ]
    },
    {
     "name": "stdout",
     "output_type": "stream",
     "text": [
      "t= 0.2470000000000002 l2error : 0.8693302840865502\n",
      "t= ParameterCF, val = 0.248\n"
     ]
    },
    {
     "name": "stderr",
     "output_type": "stream",
     "text": [
      "used dof inconsistency\n",
      "(silence this warning by setting BilinearForm(...check_unused=False) )\n"
     ]
    },
    {
     "name": "stdout",
     "output_type": "stream",
     "text": [
      "t= 0.2480000000000002 l2error : 0.7752494378147828\n",
      "t= ParameterCF, val = 0.249\n"
     ]
    },
    {
     "name": "stderr",
     "output_type": "stream",
     "text": [
      "used dof inconsistency\n",
      "(silence this warning by setting BilinearForm(...check_unused=False) )\n"
     ]
    },
    {
     "name": "stdout",
     "output_type": "stream",
     "text": [
      "t= 0.2490000000000002 l2error : 0.7144099207588657\n",
      "t= ParameterCF, val = 0.25\n"
     ]
    },
    {
     "name": "stderr",
     "output_type": "stream",
     "text": [
      "used dof inconsistency\n",
      "(silence this warning by setting BilinearForm(...check_unused=False) )\n"
     ]
    },
    {
     "name": "stdout",
     "output_type": "stream",
     "text": [
      "t= 0.25000000000000017 l2error : 0.7926663362327702\n",
      "t= ParameterCF, val = 0.251\n"
     ]
    },
    {
     "name": "stderr",
     "output_type": "stream",
     "text": [
      "used dof inconsistency\n",
      "(silence this warning by setting BilinearForm(...check_unused=False) )\n"
     ]
    },
    {
     "name": "stdout",
     "output_type": "stream",
     "text": [
      "t= 0.25100000000000017 l2error : 0.8372053222909679\n",
      "t= ParameterCF, val = 0.252\n"
     ]
    },
    {
     "name": "stderr",
     "output_type": "stream",
     "text": [
      "used dof inconsistency\n",
      "(silence this warning by setting BilinearForm(...check_unused=False) )\n"
     ]
    },
    {
     "name": "stdout",
     "output_type": "stream",
     "text": [
      "t= 0.25200000000000017 l2error : 0.6645402199137015\n",
      "t= ParameterCF, val = 0.253\n"
     ]
    },
    {
     "name": "stderr",
     "output_type": "stream",
     "text": [
      "used dof inconsistency\n",
      "(silence this warning by setting BilinearForm(...check_unused=False) )\n"
     ]
    },
    {
     "name": "stdout",
     "output_type": "stream",
     "text": [
      "t= 0.25300000000000017 l2error : 0.6678963430759625\n",
      "t= ParameterCF, val = 0.254\n"
     ]
    },
    {
     "name": "stderr",
     "output_type": "stream",
     "text": [
      "used dof inconsistency\n",
      "(silence this warning by setting BilinearForm(...check_unused=False) )\n"
     ]
    },
    {
     "name": "stdout",
     "output_type": "stream",
     "text": [
      "t= 0.25400000000000017 l2error : 0.6309878088740907\n",
      "t= ParameterCF, val = 0.255\n"
     ]
    },
    {
     "name": "stderr",
     "output_type": "stream",
     "text": [
      "used dof inconsistency\n",
      "(silence this warning by setting BilinearForm(...check_unused=False) )\n"
     ]
    },
    {
     "name": "stdout",
     "output_type": "stream",
     "text": [
      "t= 0.25500000000000017 l2error : 0.6238658088037874\n",
      "t= ParameterCF, val = 0.256\n"
     ]
    },
    {
     "name": "stderr",
     "output_type": "stream",
     "text": [
      "used dof inconsistency\n",
      "(silence this warning by setting BilinearForm(...check_unused=False) )\n"
     ]
    },
    {
     "name": "stdout",
     "output_type": "stream",
     "text": [
      "t= 0.25600000000000017 l2error : 0.7862351370634856\n",
      "t= ParameterCF, val = 0.257\n"
     ]
    },
    {
     "name": "stderr",
     "output_type": "stream",
     "text": [
      "used dof inconsistency\n",
      "(silence this warning by setting BilinearForm(...check_unused=False) )\n"
     ]
    },
    {
     "name": "stdout",
     "output_type": "stream",
     "text": [
      "t= 0.2570000000000002 l2error : 0.7940120211390033\n",
      "t= ParameterCF, val = 0.258\n"
     ]
    },
    {
     "name": "stderr",
     "output_type": "stream",
     "text": [
      "used dof inconsistency\n",
      "(silence this warning by setting BilinearForm(...check_unused=False) )\n"
     ]
    },
    {
     "name": "stdout",
     "output_type": "stream",
     "text": [
      "t= 0.2580000000000002 l2error : 0.6524538432949458\n",
      "t= ParameterCF, val = 0.259\n"
     ]
    },
    {
     "name": "stderr",
     "output_type": "stream",
     "text": [
      "used dof inconsistency\n",
      "(silence this warning by setting BilinearForm(...check_unused=False) )\n"
     ]
    },
    {
     "name": "stdout",
     "output_type": "stream",
     "text": [
      "t= 0.2590000000000002 l2error : 1.253838388977108\n",
      "t= ParameterCF, val = 0.26\n"
     ]
    },
    {
     "name": "stderr",
     "output_type": "stream",
     "text": [
      "used dof inconsistency\n",
      "(silence this warning by setting BilinearForm(...check_unused=False) )\n"
     ]
    },
    {
     "name": "stdout",
     "output_type": "stream",
     "text": [
      "t= 0.2600000000000002 l2error : 0.6833694088970832\n",
      "t= ParameterCF, val = 0.261\n"
     ]
    },
    {
     "name": "stderr",
     "output_type": "stream",
     "text": [
      "used dof inconsistency\n",
      "(silence this warning by setting BilinearForm(...check_unused=False) )\n"
     ]
    },
    {
     "name": "stdout",
     "output_type": "stream",
     "text": [
      "t= 0.2610000000000002 l2error : 0.6247604956094962\n",
      "t= ParameterCF, val = 0.262\n"
     ]
    },
    {
     "name": "stderr",
     "output_type": "stream",
     "text": [
      "used dof inconsistency\n",
      "(silence this warning by setting BilinearForm(...check_unused=False) )\n"
     ]
    },
    {
     "name": "stdout",
     "output_type": "stream",
     "text": [
      "t= 0.2620000000000002 l2error : 1.2146984333044386\n",
      "t= ParameterCF, val = 0.263\n"
     ]
    },
    {
     "name": "stderr",
     "output_type": "stream",
     "text": [
      "used dof inconsistency\n",
      "(silence this warning by setting BilinearForm(...check_unused=False) )\n"
     ]
    },
    {
     "name": "stdout",
     "output_type": "stream",
     "text": [
      "t= 0.2630000000000002 l2error : 0.8380354444575246\n",
      "t= ParameterCF, val = 0.264\n"
     ]
    },
    {
     "name": "stderr",
     "output_type": "stream",
     "text": [
      "used dof inconsistency\n",
      "(silence this warning by setting BilinearForm(...check_unused=False) )\n"
     ]
    },
    {
     "name": "stdout",
     "output_type": "stream",
     "text": [
      "t= 0.2640000000000002 l2error : 0.7430180910207331\n",
      "t= ParameterCF, val = 0.265\n"
     ]
    },
    {
     "name": "stderr",
     "output_type": "stream",
     "text": [
      "used dof inconsistency\n",
      "(silence this warning by setting BilinearForm(...check_unused=False) )\n"
     ]
    },
    {
     "name": "stdout",
     "output_type": "stream",
     "text": [
      "t= 0.2650000000000002 l2error : 0.6624033082298619\n",
      "t= ParameterCF, val = 0.266\n"
     ]
    },
    {
     "name": "stderr",
     "output_type": "stream",
     "text": [
      "used dof inconsistency\n",
      "(silence this warning by setting BilinearForm(...check_unused=False) )\n"
     ]
    },
    {
     "name": "stdout",
     "output_type": "stream",
     "text": [
      "t= 0.2660000000000002 l2error : 11056748820029.896\n",
      "t= ParameterCF, val = 0.267\n"
     ]
    },
    {
     "name": "stderr",
     "output_type": "stream",
     "text": [
      "used dof inconsistency\n",
      "(silence this warning by setting BilinearForm(...check_unused=False) )\n"
     ]
    },
    {
     "name": "stdout",
     "output_type": "stream",
     "text": [
      "t= 0.2670000000000002 l2error : 2689768712524.586\n",
      "t= ParameterCF, val = 0.268\n"
     ]
    },
    {
     "name": "stderr",
     "output_type": "stream",
     "text": [
      "used dof inconsistency\n",
      "(silence this warning by setting BilinearForm(...check_unused=False) )\n"
     ]
    },
    {
     "name": "stdout",
     "output_type": "stream",
     "text": [
      "t= 0.2680000000000002 l2error : 1347519579365.5847\n",
      "t= ParameterCF, val = 0.269\n"
     ]
    },
    {
     "name": "stderr",
     "output_type": "stream",
     "text": [
      "used dof inconsistency\n",
      "(silence this warning by setting BilinearForm(...check_unused=False) )\n"
     ]
    },
    {
     "name": "stdout",
     "output_type": "stream",
     "text": [
      "t= 0.2690000000000002 l2error : 779400032672.2538\n",
      "t= ParameterCF, val = 0.27\n"
     ]
    },
    {
     "name": "stderr",
     "output_type": "stream",
     "text": [
      "used dof inconsistency\n",
      "(silence this warning by setting BilinearForm(...check_unused=False) )\n"
     ]
    },
    {
     "name": "stdout",
     "output_type": "stream",
     "text": [
      "t= 0.2700000000000002 l2error : 574402219717.8585\n",
      "t= ParameterCF, val = 0.271\n"
     ]
    },
    {
     "name": "stderr",
     "output_type": "stream",
     "text": [
      "used dof inconsistency\n",
      "(silence this warning by setting BilinearForm(...check_unused=False) )\n"
     ]
    },
    {
     "name": "stdout",
     "output_type": "stream",
     "text": [
      "t= 0.2710000000000002 l2error : 420972775406.4041\n",
      "t= ParameterCF, val = 0.272\n"
     ]
    },
    {
     "name": "stderr",
     "output_type": "stream",
     "text": [
      "used dof inconsistency\n",
      "(silence this warning by setting BilinearForm(...check_unused=False) )\n"
     ]
    },
    {
     "name": "stdout",
     "output_type": "stream",
     "text": [
      "t= 0.2720000000000002 l2error : 319662826414.05707\n",
      "t= ParameterCF, val = 0.273\n"
     ]
    },
    {
     "name": "stderr",
     "output_type": "stream",
     "text": [
      "used dof inconsistency\n",
      "(silence this warning by setting BilinearForm(...check_unused=False) )\n"
     ]
    },
    {
     "name": "stdout",
     "output_type": "stream",
     "text": [
      "t= 0.2730000000000002 l2error : 251090032394.39005\n",
      "t= ParameterCF, val = 0.274\n"
     ]
    },
    {
     "name": "stderr",
     "output_type": "stream",
     "text": [
      "used dof inconsistency\n",
      "(silence this warning by setting BilinearForm(...check_unused=False) )\n"
     ]
    },
    {
     "name": "stdout",
     "output_type": "stream",
     "text": [
      "t= 0.2740000000000002 l2error : 203795614540.79834\n",
      "t= ParameterCF, val = 0.275\n"
     ]
    },
    {
     "name": "stderr",
     "output_type": "stream",
     "text": [
      "used dof inconsistency\n",
      "(silence this warning by setting BilinearForm(...check_unused=False) )\n"
     ]
    },
    {
     "name": "stdout",
     "output_type": "stream",
     "text": [
      "t= 0.2750000000000002 l2error : 170951347830.009\n",
      "t= ParameterCF, val = 0.276\n"
     ]
    },
    {
     "name": "stderr",
     "output_type": "stream",
     "text": [
      "used dof inconsistency\n",
      "(silence this warning by setting BilinearForm(...check_unused=False) )\n"
     ]
    },
    {
     "name": "stdout",
     "output_type": "stream",
     "text": [
      "t= 0.2760000000000002 l2error : 142260809212.13376\n",
      "t= ParameterCF, val = 0.277\n"
     ]
    },
    {
     "name": "stderr",
     "output_type": "stream",
     "text": [
      "used dof inconsistency\n",
      "(silence this warning by setting BilinearForm(...check_unused=False) )\n"
     ]
    },
    {
     "name": "stdout",
     "output_type": "stream",
     "text": [
      "t= 0.2770000000000002 l2error : 116876935125.76399\n",
      "t= ParameterCF, val = 0.278\n"
     ]
    },
    {
     "name": "stderr",
     "output_type": "stream",
     "text": [
      "used dof inconsistency\n",
      "(silence this warning by setting BilinearForm(...check_unused=False) )\n"
     ]
    },
    {
     "name": "stdout",
     "output_type": "stream",
     "text": [
      "t= 0.2780000000000002 l2error : 101052986547.3406\n",
      "t= ParameterCF, val = 0.279\n"
     ]
    },
    {
     "name": "stderr",
     "output_type": "stream",
     "text": [
      "used dof inconsistency\n",
      "(silence this warning by setting BilinearForm(...check_unused=False) )\n"
     ]
    },
    {
     "name": "stdout",
     "output_type": "stream",
     "text": [
      "t= 0.2790000000000002 l2error : 88797373806.81674\n",
      "t= ParameterCF, val = 0.28\n"
     ]
    },
    {
     "name": "stderr",
     "output_type": "stream",
     "text": [
      "used dof inconsistency\n",
      "(silence this warning by setting BilinearForm(...check_unused=False) )\n"
     ]
    },
    {
     "name": "stdout",
     "output_type": "stream",
     "text": [
      "t= 0.2800000000000002 l2error : 78445198490.58539\n",
      "t= ParameterCF, val = 0.281\n"
     ]
    },
    {
     "name": "stderr",
     "output_type": "stream",
     "text": [
      "used dof inconsistency\n",
      "(silence this warning by setting BilinearForm(...check_unused=False) )\n"
     ]
    },
    {
     "name": "stdout",
     "output_type": "stream",
     "text": [
      "t= 0.2810000000000002 l2error : 68942635775.85637\n",
      "t= ParameterCF, val = 0.282\n"
     ]
    },
    {
     "name": "stderr",
     "output_type": "stream",
     "text": [
      "used dof inconsistency\n",
      "(silence this warning by setting BilinearForm(...check_unused=False) )\n"
     ]
    },
    {
     "name": "stdout",
     "output_type": "stream",
     "text": [
      "t= 0.2820000000000002 l2error : 60621267635.580605\n",
      "t= ParameterCF, val = 0.283\n"
     ]
    },
    {
     "name": "stderr",
     "output_type": "stream",
     "text": [
      "used dof inconsistency\n",
      "(silence this warning by setting BilinearForm(...check_unused=False) )\n"
     ]
    },
    {
     "name": "stdout",
     "output_type": "stream",
     "text": [
      "t= 0.2830000000000002 l2error : 53749359202.83242\n",
      "t= ParameterCF, val = 0.284\n"
     ]
    },
    {
     "name": "stderr",
     "output_type": "stream",
     "text": [
      "used dof inconsistency\n",
      "(silence this warning by setting BilinearForm(...check_unused=False) )\n"
     ]
    },
    {
     "name": "stdout",
     "output_type": "stream",
     "text": [
      "t= 0.2840000000000002 l2error : 47591388205.31532\n",
      "t= ParameterCF, val = 0.285\n"
     ]
    },
    {
     "name": "stderr",
     "output_type": "stream",
     "text": [
      "used dof inconsistency\n",
      "(silence this warning by setting BilinearForm(...check_unused=False) )\n"
     ]
    },
    {
     "name": "stdout",
     "output_type": "stream",
     "text": [
      "t= 0.2850000000000002 l2error : 42347237794.55291\n",
      "t= ParameterCF, val = 0.286\n"
     ]
    },
    {
     "name": "stderr",
     "output_type": "stream",
     "text": [
      "used dof inconsistency\n",
      "(silence this warning by setting BilinearForm(...check_unused=False) )\n"
     ]
    },
    {
     "name": "stdout",
     "output_type": "stream",
     "text": [
      "t= 0.2860000000000002 l2error : 37916030822.01945\n",
      "t= ParameterCF, val = 0.287\n"
     ]
    },
    {
     "name": "stderr",
     "output_type": "stream",
     "text": [
      "used dof inconsistency\n",
      "(silence this warning by setting BilinearForm(...check_unused=False) )\n"
     ]
    },
    {
     "name": "stdout",
     "output_type": "stream",
     "text": [
      "t= 0.2870000000000002 l2error : 33983809839.8308\n",
      "t= ParameterCF, val = 0.288\n"
     ]
    },
    {
     "name": "stderr",
     "output_type": "stream",
     "text": [
      "used dof inconsistency\n",
      "(silence this warning by setting BilinearForm(...check_unused=False) )\n"
     ]
    },
    {
     "name": "stdout",
     "output_type": "stream",
     "text": [
      "t= 0.2880000000000002 l2error : 30511819608.879837\n",
      "t= ParameterCF, val = 0.289\n"
     ]
    },
    {
     "name": "stderr",
     "output_type": "stream",
     "text": [
      "used dof inconsistency\n",
      "(silence this warning by setting BilinearForm(...check_unused=False) )\n"
     ]
    },
    {
     "name": "stdout",
     "output_type": "stream",
     "text": [
      "t= 0.2890000000000002 l2error : 27463826715.239338\n",
      "t= ParameterCF, val = 0.29\n"
     ]
    },
    {
     "name": "stderr",
     "output_type": "stream",
     "text": [
      "used dof inconsistency\n",
      "(silence this warning by setting BilinearForm(...check_unused=False) )\n"
     ]
    },
    {
     "name": "stdout",
     "output_type": "stream",
     "text": [
      "t= 0.2900000000000002 l2error : 24716869999.63207\n",
      "t= ParameterCF, val = 0.291\n"
     ]
    },
    {
     "name": "stderr",
     "output_type": "stream",
     "text": [
      "used dof inconsistency\n",
      "(silence this warning by setting BilinearForm(...check_unused=False) )\n"
     ]
    },
    {
     "name": "stdout",
     "output_type": "stream",
     "text": [
      "t= 0.2910000000000002 l2error : 22258830434.396667\n",
      "t= ParameterCF, val = 0.292\n"
     ]
    },
    {
     "name": "stderr",
     "output_type": "stream",
     "text": [
      "used dof inconsistency\n",
      "(silence this warning by setting BilinearForm(...check_unused=False) )\n"
     ]
    },
    {
     "name": "stdout",
     "output_type": "stream",
     "text": [
      "t= 0.2920000000000002 l2error : 20049140899.128582\n",
      "t= ParameterCF, val = 0.293\n"
     ]
    },
    {
     "name": "stderr",
     "output_type": "stream",
     "text": [
      "used dof inconsistency\n",
      "(silence this warning by setting BilinearForm(...check_unused=False) )\n"
     ]
    },
    {
     "name": "stdout",
     "output_type": "stream",
     "text": [
      "t= 0.2930000000000002 l2error : 18070750416.055458\n",
      "t= ParameterCF, val = 0.294\n"
     ]
    },
    {
     "name": "stderr",
     "output_type": "stream",
     "text": [
      "used dof inconsistency\n",
      "(silence this warning by setting BilinearForm(...check_unused=False) )\n"
     ]
    },
    {
     "name": "stdout",
     "output_type": "stream",
     "text": [
      "t= 0.2940000000000002 l2error : 16324677128.12183\n",
      "t= ParameterCF, val = 0.295\n"
     ]
    },
    {
     "name": "stderr",
     "output_type": "stream",
     "text": [
      "used dof inconsistency\n",
      "(silence this warning by setting BilinearForm(...check_unused=False) )\n"
     ]
    },
    {
     "name": "stdout",
     "output_type": "stream",
     "text": [
      "t= 0.2950000000000002 l2error : 14736875392.969425\n",
      "t= ParameterCF, val = 0.296\n"
     ]
    },
    {
     "name": "stderr",
     "output_type": "stream",
     "text": [
      "used dof inconsistency\n",
      "(silence this warning by setting BilinearForm(...check_unused=False) )\n"
     ]
    },
    {
     "name": "stdout",
     "output_type": "stream",
     "text": [
      "t= 0.2960000000000002 l2error : 13309923481.806118\n",
      "t= ParameterCF, val = 0.297\n"
     ]
    },
    {
     "name": "stderr",
     "output_type": "stream",
     "text": [
      "used dof inconsistency\n",
      "(silence this warning by setting BilinearForm(...check_unused=False) )\n"
     ]
    },
    {
     "name": "stdout",
     "output_type": "stream",
     "text": [
      "t= 0.2970000000000002 l2error : 12036187257.484278\n",
      "t= ParameterCF, val = 0.298\n"
     ]
    },
    {
     "name": "stderr",
     "output_type": "stream",
     "text": [
      "used dof inconsistency\n",
      "(silence this warning by setting BilinearForm(...check_unused=False) )\n"
     ]
    },
    {
     "name": "stdout",
     "output_type": "stream",
     "text": [
      "t= 0.2980000000000002 l2error : 10887905562.479696\n",
      "t= ParameterCF, val = 0.299\n"
     ]
    },
    {
     "name": "stderr",
     "output_type": "stream",
     "text": [
      "used dof inconsistency\n",
      "(silence this warning by setting BilinearForm(...check_unused=False) )\n"
     ]
    },
    {
     "name": "stdout",
     "output_type": "stream",
     "text": [
      "t= 0.2990000000000002 l2error : 9856997961.350075\n",
      "t= ParameterCF, val = 0.3\n"
     ]
    },
    {
     "name": "stderr",
     "output_type": "stream",
     "text": [
      "used dof inconsistency\n",
      "(silence this warning by setting BilinearForm(...check_unused=False) )\n"
     ]
    },
    {
     "name": "stdout",
     "output_type": "stream",
     "text": [
      "t= 0.3000000000000002 l2error : 8935198204.477478\n",
      "t= ParameterCF, val = 0.301\n"
     ]
    },
    {
     "name": "stderr",
     "output_type": "stream",
     "text": [
      "used dof inconsistency\n",
      "(silence this warning by setting BilinearForm(...check_unused=False) )\n"
     ]
    },
    {
     "name": "stdout",
     "output_type": "stream",
     "text": [
      "t= 0.3010000000000002 l2error : 8099509317.591297\n",
      "t= ParameterCF, val = 0.302\n"
     ]
    },
    {
     "name": "stderr",
     "output_type": "stream",
     "text": [
      "used dof inconsistency\n",
      "(silence this warning by setting BilinearForm(...check_unused=False) )\n"
     ]
    },
    {
     "name": "stdout",
     "output_type": "stream",
     "text": [
      "t= 0.3020000000000002 l2error : 7339525203.058767\n",
      "t= ParameterCF, val = 0.303\n"
     ]
    },
    {
     "name": "stderr",
     "output_type": "stream",
     "text": [
      "used dof inconsistency\n",
      "(silence this warning by setting BilinearForm(...check_unused=False) )\n"
     ]
    },
    {
     "name": "stdout",
     "output_type": "stream",
     "text": [
      "t= 0.3030000000000002 l2error : 6647801755.655055\n",
      "t= ParameterCF, val = 0.304\n"
     ]
    },
    {
     "name": "stderr",
     "output_type": "stream",
     "text": [
      "used dof inconsistency\n",
      "(silence this warning by setting BilinearForm(...check_unused=False) )\n"
     ]
    },
    {
     "name": "stdout",
     "output_type": "stream",
     "text": [
      "t= 0.3040000000000002 l2error : 6016994739.42253\n",
      "t= ParameterCF, val = 0.305\n"
     ]
    },
    {
     "name": "stderr",
     "output_type": "stream",
     "text": [
      "used dof inconsistency\n",
      "(silence this warning by setting BilinearForm(...check_unused=False) )\n"
     ]
    },
    {
     "name": "stdout",
     "output_type": "stream",
     "text": [
      "t= 0.3050000000000002 l2error : 5450524326.7426605\n",
      "t= ParameterCF, val = 0.306\n"
     ]
    },
    {
     "name": "stderr",
     "output_type": "stream",
     "text": [
      "used dof inconsistency\n",
      "(silence this warning by setting BilinearForm(...check_unused=False) )\n"
     ]
    },
    {
     "name": "stdout",
     "output_type": "stream",
     "text": [
      "t= 0.3060000000000002 l2error : 4942365210.963689\n",
      "t= ParameterCF, val = 0.307\n"
     ]
    },
    {
     "name": "stderr",
     "output_type": "stream",
     "text": [
      "used dof inconsistency\n",
      "(silence this warning by setting BilinearForm(...check_unused=False) )\n"
     ]
    },
    {
     "name": "stdout",
     "output_type": "stream",
     "text": [
      "t= 0.3070000000000002 l2error : 4479857656.928452\n",
      "t= ParameterCF, val = 0.308\n"
     ]
    },
    {
     "name": "stderr",
     "output_type": "stream",
     "text": [
      "used dof inconsistency\n",
      "(silence this warning by setting BilinearForm(...check_unused=False) )\n"
     ]
    },
    {
     "name": "stdout",
     "output_type": "stream",
     "text": [
      "t= 0.3080000000000002 l2error : 4041685370.7934823\n",
      "t= ParameterCF, val = 0.309\n"
     ]
    },
    {
     "name": "stderr",
     "output_type": "stream",
     "text": [
      "used dof inconsistency\n",
      "(silence this warning by setting BilinearForm(...check_unused=False) )\n"
     ]
    },
    {
     "name": "stdout",
     "output_type": "stream",
     "text": [
      "t= 0.3090000000000002 l2error : 3664780202.8449183\n",
      "t= ParameterCF, val = 0.31\n"
     ]
    },
    {
     "name": "stderr",
     "output_type": "stream",
     "text": [
      "used dof inconsistency\n",
      "(silence this warning by setting BilinearForm(...check_unused=False) )\n"
     ]
    },
    {
     "name": "stdout",
     "output_type": "stream",
     "text": [
      "t= 0.3100000000000002 l2error : 3324934148.486368\n",
      "t= ParameterCF, val = 0.311\n"
     ]
    },
    {
     "name": "stderr",
     "output_type": "stream",
     "text": [
      "used dof inconsistency\n",
      "(silence this warning by setting BilinearForm(...check_unused=False) )\n"
     ]
    },
    {
     "name": "stdout",
     "output_type": "stream",
     "text": [
      "t= 0.3110000000000002 l2error : 3013559320.3174887\n",
      "t= ParameterCF, val = 0.312\n"
     ]
    },
    {
     "name": "stderr",
     "output_type": "stream",
     "text": [
      "used dof inconsistency\n",
      "(silence this warning by setting BilinearForm(...check_unused=False) )\n"
     ]
    },
    {
     "name": "stdout",
     "output_type": "stream",
     "text": [
      "t= 0.3120000000000002 l2error : 2733453623.4834213\n",
      "t= ParameterCF, val = 0.313\n"
     ]
    },
    {
     "name": "stderr",
     "output_type": "stream",
     "text": [
      "used dof inconsistency\n",
      "(silence this warning by setting BilinearForm(...check_unused=False) )\n"
     ]
    },
    {
     "name": "stdout",
     "output_type": "stream",
     "text": [
      "t= 0.3130000000000002 l2error : 2479543698.306394\n",
      "t= ParameterCF, val = 0.314\n"
     ]
    },
    {
     "name": "stderr",
     "output_type": "stream",
     "text": [
      "used dof inconsistency\n",
      "(silence this warning by setting BilinearForm(...check_unused=False) )\n"
     ]
    },
    {
     "name": "stdout",
     "output_type": "stream",
     "text": [
      "t= 0.3140000000000002 l2error : 2248446595.400136\n",
      "t= ParameterCF, val = 0.315\n"
     ]
    },
    {
     "name": "stderr",
     "output_type": "stream",
     "text": [
      "used dof inconsistency\n",
      "(silence this warning by setting BilinearForm(...check_unused=False) )\n"
     ]
    },
    {
     "name": "stdout",
     "output_type": "stream",
     "text": [
      "t= 0.3150000000000002 l2error : 2037542321.0574763\n",
      "t= ParameterCF, val = 0.316\n"
     ]
    },
    {
     "name": "stderr",
     "output_type": "stream",
     "text": [
      "used dof inconsistency\n",
      "(silence this warning by setting BilinearForm(...check_unused=False) )\n"
     ]
    },
    {
     "name": "stdout",
     "output_type": "stream",
     "text": [
      "t= 0.3160000000000002 l2error : 1847794783.1805522\n",
      "t= ParameterCF, val = 0.317\n"
     ]
    },
    {
     "name": "stderr",
     "output_type": "stream",
     "text": [
      "used dof inconsistency\n",
      "(silence this warning by setting BilinearForm(...check_unused=False) )\n"
     ]
    },
    {
     "name": "stdout",
     "output_type": "stream",
     "text": [
      "t= 0.3170000000000002 l2error : 1676081567.4233754\n",
      "t= ParameterCF, val = 0.318\n"
     ]
    },
    {
     "name": "stderr",
     "output_type": "stream",
     "text": [
      "used dof inconsistency\n",
      "(silence this warning by setting BilinearForm(...check_unused=False) )\n"
     ]
    },
    {
     "name": "stdout",
     "output_type": "stream",
     "text": [
      "t= 0.3180000000000002 l2error : 1521439015.7140245\n",
      "t= ParameterCF, val = 0.319\n"
     ]
    },
    {
     "name": "stderr",
     "output_type": "stream",
     "text": [
      "used dof inconsistency\n",
      "(silence this warning by setting BilinearForm(...check_unused=False) )\n"
     ]
    },
    {
     "name": "stdout",
     "output_type": "stream",
     "text": [
      "t= 0.31900000000000023 l2error : 1380367215.854624\n",
      "t= ParameterCF, val = 0.32\n"
     ]
    },
    {
     "name": "stderr",
     "output_type": "stream",
     "text": [
      "used dof inconsistency\n",
      "(silence this warning by setting BilinearForm(...check_unused=False) )\n"
     ]
    },
    {
     "name": "stdout",
     "output_type": "stream",
     "text": [
      "t= 0.32000000000000023 l2error : 1251643919.0112116\n",
      "t= ParameterCF, val = 0.321\n"
     ]
    },
    {
     "name": "stderr",
     "output_type": "stream",
     "text": [
      "used dof inconsistency\n",
      "(silence this warning by setting BilinearForm(...check_unused=False) )\n"
     ]
    },
    {
     "name": "stdout",
     "output_type": "stream",
     "text": [
      "t= 0.32100000000000023 l2error : 1134412475.7629097\n",
      "t= ParameterCF, val = 0.322\n"
     ]
    },
    {
     "name": "stderr",
     "output_type": "stream",
     "text": [
      "used dof inconsistency\n",
      "(silence this warning by setting BilinearForm(...check_unused=False) )\n"
     ]
    },
    {
     "name": "stdout",
     "output_type": "stream",
     "text": [
      "t= 0.32200000000000023 l2error : 1027937909.012452\n",
      "t= ParameterCF, val = 0.323\n"
     ]
    },
    {
     "name": "stderr",
     "output_type": "stream",
     "text": [
      "used dof inconsistency\n",
      "(silence this warning by setting BilinearForm(...check_unused=False) )\n"
     ]
    },
    {
     "name": "stdout",
     "output_type": "stream",
     "text": [
      "t= 0.32300000000000023 l2error : 932520100.8914168\n",
      "t= ParameterCF, val = 0.324\n"
     ]
    },
    {
     "name": "stderr",
     "output_type": "stream",
     "text": [
      "used dof inconsistency\n",
      "(silence this warning by setting BilinearForm(...check_unused=False) )\n"
     ]
    },
    {
     "name": "stdout",
     "output_type": "stream",
     "text": [
      "t= 0.32400000000000023 l2error : 844812680.8465261\n",
      "t= ParameterCF, val = 0.325\n"
     ]
    },
    {
     "name": "stderr",
     "output_type": "stream",
     "text": [
      "used dof inconsistency\n",
      "(silence this warning by setting BilinearForm(...check_unused=False) )\n"
     ]
    },
    {
     "name": "stdout",
     "output_type": "stream",
     "text": [
      "t= 0.32500000000000023 l2error : 765613541.5439601\n",
      "t= ParameterCF, val = 0.326\n"
     ]
    },
    {
     "name": "stderr",
     "output_type": "stream",
     "text": [
      "used dof inconsistency\n",
      "(silence this warning by setting BilinearForm(...check_unused=False) )\n"
     ]
    },
    {
     "name": "stdout",
     "output_type": "stream",
     "text": [
      "t= 0.32600000000000023 l2error : 694701952.0796546\n",
      "t= ParameterCF, val = 0.327\n"
     ]
    },
    {
     "name": "stderr",
     "output_type": "stream",
     "text": [
      "used dof inconsistency\n",
      "(silence this warning by setting BilinearForm(...check_unused=False) )\n"
     ]
    },
    {
     "name": "stdout",
     "output_type": "stream",
     "text": [
      "t= 0.32700000000000023 l2error : 629476718.0795482\n",
      "t= ParameterCF, val = 0.328\n"
     ]
    },
    {
     "name": "stderr",
     "output_type": "stream",
     "text": [
      "used dof inconsistency\n",
      "(silence this warning by setting BilinearForm(...check_unused=False) )\n"
     ]
    },
    {
     "name": "stdout",
     "output_type": "stream",
     "text": [
      "t= 0.32800000000000024 l2error : 570914842.4137297\n",
      "t= ParameterCF, val = 0.329\n"
     ]
    },
    {
     "name": "stderr",
     "output_type": "stream",
     "text": [
      "used dof inconsistency\n",
      "(silence this warning by setting BilinearForm(...check_unused=False) )\n"
     ]
    },
    {
     "name": "stdout",
     "output_type": "stream",
     "text": [
      "t= 0.32900000000000024 l2error : 517673506.01906234\n",
      "t= ParameterCF, val = 0.33\n"
     ]
    },
    {
     "name": "stderr",
     "output_type": "stream",
     "text": [
      "used dof inconsistency\n",
      "(silence this warning by setting BilinearForm(...check_unused=False) )\n"
     ]
    },
    {
     "name": "stdout",
     "output_type": "stream",
     "text": [
      "t= 0.33000000000000024 l2error : 469174535.21308774\n",
      "t= ParameterCF, val = 0.331\n"
     ]
    },
    {
     "name": "stderr",
     "output_type": "stream",
     "text": [
      "used dof inconsistency\n",
      "(silence this warning by setting BilinearForm(...check_unused=False) )\n"
     ]
    },
    {
     "name": "stdout",
     "output_type": "stream",
     "text": [
      "t= 0.33100000000000024 l2error : 425054867.9391634\n",
      "t= ParameterCF, val = 0.332\n"
     ]
    },
    {
     "name": "stderr",
     "output_type": "stream",
     "text": [
      "used dof inconsistency\n",
      "(silence this warning by setting BilinearForm(...check_unused=False) )\n"
     ]
    },
    {
     "name": "stdout",
     "output_type": "stream",
     "text": [
      "t= 0.33200000000000024 l2error : 385137508.3503248\n",
      "t= ParameterCF, val = 0.333\n"
     ]
    },
    {
     "name": "stderr",
     "output_type": "stream",
     "text": [
      "used dof inconsistency\n",
      "(silence this warning by setting BilinearForm(...check_unused=False) )\n"
     ]
    },
    {
     "name": "stdout",
     "output_type": "stream",
     "text": [
      "t= 0.33300000000000024 l2error : 349521856.21883696\n",
      "t= ParameterCF, val = 0.334\n"
     ]
    },
    {
     "name": "stderr",
     "output_type": "stream",
     "text": [
      "used dof inconsistency\n",
      "(silence this warning by setting BilinearForm(...check_unused=False) )\n"
     ]
    },
    {
     "name": "stdout",
     "output_type": "stream",
     "text": [
      "t= 0.33400000000000024 l2error : 316771927.17614603\n",
      "t= ParameterCF, val = 0.335\n"
     ]
    },
    {
     "name": "stderr",
     "output_type": "stream",
     "text": [
      "used dof inconsistency\n",
      "(silence this warning by setting BilinearForm(...check_unused=False) )\n"
     ]
    },
    {
     "name": "stdout",
     "output_type": "stream",
     "text": [
      "t= 0.33500000000000024 l2error : 287058141.8001497\n",
      "t= ParameterCF, val = 0.336\n"
     ]
    },
    {
     "name": "stderr",
     "output_type": "stream",
     "text": [
      "used dof inconsistency\n",
      "(silence this warning by setting BilinearForm(...check_unused=False) )\n"
     ]
    },
    {
     "name": "stdout",
     "output_type": "stream",
     "text": [
      "t= 0.33600000000000024 l2error : 260169340.85437244\n",
      "t= ParameterCF, val = 0.337\n"
     ]
    },
    {
     "name": "stderr",
     "output_type": "stream",
     "text": [
      "used dof inconsistency\n",
      "(silence this warning by setting BilinearForm(...check_unused=False) )\n"
     ]
    },
    {
     "name": "stdout",
     "output_type": "stream",
     "text": [
      "t= 0.33700000000000024 l2error : 235945406.705397\n",
      "t= ParameterCF, val = 0.338\n"
     ]
    },
    {
     "name": "stderr",
     "output_type": "stream",
     "text": [
      "used dof inconsistency\n",
      "(silence this warning by setting BilinearForm(...check_unused=False) )\n"
     ]
    },
    {
     "name": "stdout",
     "output_type": "stream",
     "text": [
      "t= 0.33800000000000024 l2error : 213979812.4031067\n",
      "t= ParameterCF, val = 0.339\n"
     ]
    },
    {
     "name": "stderr",
     "output_type": "stream",
     "text": [
      "used dof inconsistency\n",
      "(silence this warning by setting BilinearForm(...check_unused=False) )\n"
     ]
    },
    {
     "name": "stdout",
     "output_type": "stream",
     "text": [
      "t= 0.33900000000000025 l2error : 194038485.09464458\n",
      "t= ParameterCF, val = 0.34\n"
     ]
    },
    {
     "name": "stderr",
     "output_type": "stream",
     "text": [
      "used dof inconsistency\n",
      "(silence this warning by setting BilinearForm(...check_unused=False) )\n"
     ]
    },
    {
     "name": "stdout",
     "output_type": "stream",
     "text": [
      "t= 0.34000000000000025 l2error : 175781745.6058412\n",
      "t= ParameterCF, val = 0.341\n"
     ]
    },
    {
     "name": "stderr",
     "output_type": "stream",
     "text": [
      "used dof inconsistency\n",
      "(silence this warning by setting BilinearForm(...check_unused=False) )\n"
     ]
    },
    {
     "name": "stdout",
     "output_type": "stream",
     "text": [
      "t= 0.34100000000000025 l2error : 159412896.36735642\n",
      "t= ParameterCF, val = 0.342\n"
     ]
    },
    {
     "name": "stderr",
     "output_type": "stream",
     "text": [
      "used dof inconsistency\n",
      "(silence this warning by setting BilinearForm(...check_unused=False) )\n"
     ]
    },
    {
     "name": "stdout",
     "output_type": "stream",
     "text": [
      "t= 0.34200000000000025 l2error : 144617583.06871656\n",
      "t= ParameterCF, val = 0.343\n"
     ]
    },
    {
     "name": "stderr",
     "output_type": "stream",
     "text": [
      "used dof inconsistency\n",
      "(silence this warning by setting BilinearForm(...check_unused=False) )\n"
     ]
    },
    {
     "name": "stdout",
     "output_type": "stream",
     "text": [
      "t= 0.34300000000000025 l2error : 131297315.59248912\n",
      "t= ParameterCF, val = 0.344\n"
     ]
    },
    {
     "name": "stderr",
     "output_type": "stream",
     "text": [
      "used dof inconsistency\n",
      "(silence this warning by setting BilinearForm(...check_unused=False) )\n"
     ]
    },
    {
     "name": "stdout",
     "output_type": "stream",
     "text": [
      "t= 0.34400000000000025 l2error : 119138102.58481172\n",
      "t= ParameterCF, val = 0.345\n"
     ]
    },
    {
     "name": "stderr",
     "output_type": "stream",
     "text": [
      "used dof inconsistency\n",
      "(silence this warning by setting BilinearForm(...check_unused=False) )\n"
     ]
    },
    {
     "name": "stdout",
     "output_type": "stream",
     "text": [
      "t= 0.34500000000000025 l2error : 107828488.46541502\n",
      "t= ParameterCF, val = 0.346\n"
     ]
    },
    {
     "name": "stderr",
     "output_type": "stream",
     "text": [
      "used dof inconsistency\n",
      "(silence this warning by setting BilinearForm(...check_unused=False) )\n"
     ]
    },
    {
     "name": "stdout",
     "output_type": "stream",
     "text": [
      "t= 0.34600000000000025 l2error : 97788890.85568067\n",
      "t= ParameterCF, val = 0.347\n"
     ]
    },
    {
     "name": "stderr",
     "output_type": "stream",
     "text": [
      "used dof inconsistency\n",
      "(silence this warning by setting BilinearForm(...check_unused=False) )\n"
     ]
    },
    {
     "name": "stdout",
     "output_type": "stream",
     "text": [
      "t= 0.34700000000000025 l2error : 88705665.63505611\n",
      "t= ParameterCF, val = 0.348\n"
     ]
    },
    {
     "name": "stderr",
     "output_type": "stream",
     "text": [
      "used dof inconsistency\n",
      "(silence this warning by setting BilinearForm(...check_unused=False) )\n"
     ]
    },
    {
     "name": "stdout",
     "output_type": "stream",
     "text": [
      "t= 0.34800000000000025 l2error : 80335588.53126515\n",
      "t= ParameterCF, val = 0.349\n"
     ]
    },
    {
     "name": "stderr",
     "output_type": "stream",
     "text": [
      "used dof inconsistency\n",
      "(silence this warning by setting BilinearForm(...check_unused=False) )\n"
     ]
    },
    {
     "name": "stdout",
     "output_type": "stream",
     "text": [
      "t= 0.34900000000000025 l2error : 72851084.30456153\n",
      "t= ParameterCF, val = 0.35\n"
     ]
    },
    {
     "name": "stderr",
     "output_type": "stream",
     "text": [
      "used dof inconsistency\n",
      "(silence this warning by setting BilinearForm(...check_unused=False) )\n"
     ]
    },
    {
     "name": "stdout",
     "output_type": "stream",
     "text": [
      "t= 0.35000000000000026 l2error : 66015323.51553051\n",
      "t= ParameterCF, val = 0.351\n"
     ]
    },
    {
     "name": "stderr",
     "output_type": "stream",
     "text": [
      "used dof inconsistency\n",
      "(silence this warning by setting BilinearForm(...check_unused=False) )\n"
     ]
    },
    {
     "name": "stdout",
     "output_type": "stream",
     "text": [
      "t= 0.35100000000000026 l2error : 59838504.355615474\n",
      "t= ParameterCF, val = 0.352\n"
     ]
    },
    {
     "name": "stderr",
     "output_type": "stream",
     "text": [
      "used dof inconsistency\n",
      "(silence this warning by setting BilinearForm(...check_unused=False) )\n"
     ]
    },
    {
     "name": "stdout",
     "output_type": "stream",
     "text": [
      "t= 0.35200000000000026 l2error : 54291651.87829033\n",
      "t= ParameterCF, val = 0.353\n"
     ]
    },
    {
     "name": "stderr",
     "output_type": "stream",
     "text": [
      "used dof inconsistency\n",
      "(silence this warning by setting BilinearForm(...check_unused=False) )\n"
     ]
    },
    {
     "name": "stdout",
     "output_type": "stream",
     "text": [
      "t= 0.35300000000000026 l2error : 49260808.72327318\n",
      "t= ParameterCF, val = 0.354\n"
     ]
    },
    {
     "name": "stderr",
     "output_type": "stream",
     "text": [
      "used dof inconsistency\n",
      "(silence this warning by setting BilinearForm(...check_unused=False) )\n"
     ]
    },
    {
     "name": "stdout",
     "output_type": "stream",
     "text": [
      "t= 0.35400000000000026 l2error : 44640152.74860384\n",
      "t= ParameterCF, val = 0.355\n"
     ]
    },
    {
     "name": "stderr",
     "output_type": "stream",
     "text": [
      "used dof inconsistency\n",
      "(silence this warning by setting BilinearForm(...check_unused=False) )\n"
     ]
    },
    {
     "name": "stdout",
     "output_type": "stream",
     "text": [
      "t= 0.35500000000000026 l2error : 40473404.57448936\n",
      "t= ParameterCF, val = 0.356\n"
     ]
    },
    {
     "name": "stderr",
     "output_type": "stream",
     "text": [
      "used dof inconsistency\n",
      "(silence this warning by setting BilinearForm(...check_unused=False) )\n"
     ]
    },
    {
     "name": "stdout",
     "output_type": "stream",
     "text": [
      "t= 0.35600000000000026 l2error : 36713127.71669152\n",
      "t= ParameterCF, val = 0.357\n"
     ]
    },
    {
     "name": "stderr",
     "output_type": "stream",
     "text": [
      "used dof inconsistency\n",
      "(silence this warning by setting BilinearForm(...check_unused=False) )\n"
     ]
    },
    {
     "name": "stdout",
     "output_type": "stream",
     "text": [
      "t= 0.35700000000000026 l2error : 33300818.418971363\n",
      "t= ParameterCF, val = 0.358\n"
     ]
    },
    {
     "name": "stderr",
     "output_type": "stream",
     "text": [
      "used dof inconsistency\n",
      "(silence this warning by setting BilinearForm(...check_unused=False) )\n"
     ]
    },
    {
     "name": "stdout",
     "output_type": "stream",
     "text": [
      "t= 0.35800000000000026 l2error : 30233864.510281894\n",
      "t= ParameterCF, val = 0.359\n"
     ]
    },
    {
     "name": "stderr",
     "output_type": "stream",
     "text": [
      "used dof inconsistency\n",
      "(silence this warning by setting BilinearForm(...check_unused=False) )\n"
     ]
    },
    {
     "name": "stdout",
     "output_type": "stream",
     "text": [
      "t= 0.35900000000000026 l2error : 27414760.287728384\n",
      "t= ParameterCF, val = 0.36\n"
     ]
    },
    {
     "name": "stderr",
     "output_type": "stream",
     "text": [
      "used dof inconsistency\n",
      "(silence this warning by setting BilinearForm(...check_unused=False) )\n"
     ]
    },
    {
     "name": "stdout",
     "output_type": "stream",
     "text": [
      "t= 0.36000000000000026 l2error : 24867790.92033501\n",
      "t= ParameterCF, val = 0.361\n"
     ]
    },
    {
     "name": "stderr",
     "output_type": "stream",
     "text": [
      "used dof inconsistency\n",
      "(silence this warning by setting BilinearForm(...check_unused=False) )\n"
     ]
    },
    {
     "name": "stdout",
     "output_type": "stream",
     "text": [
      "t= 0.36100000000000027 l2error : 22553286.67620086\n",
      "t= ParameterCF, val = 0.362\n"
     ]
    },
    {
     "name": "stderr",
     "output_type": "stream",
     "text": [
      "used dof inconsistency\n",
      "(silence this warning by setting BilinearForm(...check_unused=False) )\n"
     ]
    },
    {
     "name": "stdout",
     "output_type": "stream",
     "text": [
      "t= 0.36200000000000027 l2error : 20460019.48474594\n",
      "t= ParameterCF, val = 0.363\n"
     ]
    },
    {
     "name": "stderr",
     "output_type": "stream",
     "text": [
      "used dof inconsistency\n",
      "(silence this warning by setting BilinearForm(...check_unused=False) )\n"
     ]
    },
    {
     "name": "stdout",
     "output_type": "stream",
     "text": [
      "t= 0.36300000000000027 l2error : 18573430.21640265\n",
      "t= ParameterCF, val = 0.364\n"
     ]
    },
    {
     "name": "stderr",
     "output_type": "stream",
     "text": [
      "used dof inconsistency\n",
      "(silence this warning by setting BilinearForm(...check_unused=False) )\n"
     ]
    },
    {
     "name": "stdout",
     "output_type": "stream",
     "text": [
      "t= 0.36400000000000027 l2error : 16870210.95032755\n",
      "t= ParameterCF, val = 0.365\n"
     ]
    },
    {
     "name": "stderr",
     "output_type": "stream",
     "text": [
      "used dof inconsistency\n",
      "(silence this warning by setting BilinearForm(...check_unused=False) )\n"
     ]
    },
    {
     "name": "stdout",
     "output_type": "stream",
     "text": [
      "t= 0.36500000000000027 l2error : 15328500.55661191\n",
      "t= ParameterCF, val = 0.366\n"
     ]
    },
    {
     "name": "stderr",
     "output_type": "stream",
     "text": [
      "used dof inconsistency\n",
      "(silence this warning by setting BilinearForm(...check_unused=False) )\n"
     ]
    },
    {
     "name": "stdout",
     "output_type": "stream",
     "text": [
      "t= 0.36600000000000027 l2error : 13911989.747054806\n",
      "t= ParameterCF, val = 0.367\n"
     ]
    },
    {
     "name": "stderr",
     "output_type": "stream",
     "text": [
      "used dof inconsistency\n",
      "(silence this warning by setting BilinearForm(...check_unused=False) )\n"
     ]
    },
    {
     "name": "stdout",
     "output_type": "stream",
     "text": [
      "t= 0.36700000000000027 l2error : 12621371.908448316\n",
      "t= ParameterCF, val = 0.368\n"
     ]
    },
    {
     "name": "stderr",
     "output_type": "stream",
     "text": [
      "used dof inconsistency\n",
      "(silence this warning by setting BilinearForm(...check_unused=False) )\n"
     ]
    },
    {
     "name": "stdout",
     "output_type": "stream",
     "text": [
      "t= 0.36800000000000027 l2error : 11470509.92639996\n",
      "t= ParameterCF, val = 0.369\n"
     ]
    },
    {
     "name": "stderr",
     "output_type": "stream",
     "text": [
      "used dof inconsistency\n",
      "(silence this warning by setting BilinearForm(...check_unused=False) )\n"
     ]
    },
    {
     "name": "stdout",
     "output_type": "stream",
     "text": [
      "t= 0.36900000000000027 l2error : 10412960.56141736\n",
      "t= ParameterCF, val = 0.37\n"
     ]
    },
    {
     "name": "stderr",
     "output_type": "stream",
     "text": [
      "used dof inconsistency\n",
      "(silence this warning by setting BilinearForm(...check_unused=False) )\n"
     ]
    },
    {
     "name": "stdout",
     "output_type": "stream",
     "text": [
      "t= 0.3700000000000003 l2error : 9454244.533875851\n",
      "t= ParameterCF, val = 0.371\n"
     ]
    },
    {
     "name": "stderr",
     "output_type": "stream",
     "text": [
      "used dof inconsistency\n",
      "(silence this warning by setting BilinearForm(...check_unused=False) )\n"
     ]
    },
    {
     "name": "stdout",
     "output_type": "stream",
     "text": [
      "t= 0.3710000000000003 l2error : 8589230.433517871\n",
      "t= ParameterCF, val = 0.372\n"
     ]
    },
    {
     "name": "stderr",
     "output_type": "stream",
     "text": [
      "used dof inconsistency\n",
      "(silence this warning by setting BilinearForm(...check_unused=False) )\n"
     ]
    },
    {
     "name": "stdout",
     "output_type": "stream",
     "text": [
      "t= 0.3720000000000003 l2error : 7802407.5793549055\n",
      "t= ParameterCF, val = 0.373\n"
     ]
    },
    {
     "name": "stderr",
     "output_type": "stream",
     "text": [
      "used dof inconsistency\n",
      "(silence this warning by setting BilinearForm(...check_unused=False) )\n"
     ]
    },
    {
     "name": "stdout",
     "output_type": "stream",
     "text": [
      "t= 0.3730000000000003 l2error : 7088369.250892795\n",
      "t= ParameterCF, val = 0.374\n"
     ]
    },
    {
     "name": "stderr",
     "output_type": "stream",
     "text": [
      "used dof inconsistency\n",
      "(silence this warning by setting BilinearForm(...check_unused=False) )\n"
     ]
    },
    {
     "name": "stdout",
     "output_type": "stream",
     "text": [
      "t= 0.3740000000000003 l2error : 6443918.491563289\n",
      "t= ParameterCF, val = 0.375\n"
     ]
    },
    {
     "name": "stderr",
     "output_type": "stream",
     "text": [
      "used dof inconsistency\n",
      "(silence this warning by setting BilinearForm(...check_unused=False) )\n"
     ]
    },
    {
     "name": "stdout",
     "output_type": "stream",
     "text": [
      "t= 0.3750000000000003 l2error : 5862737.312134936\n",
      "t= ParameterCF, val = 0.376\n"
     ]
    },
    {
     "name": "stderr",
     "output_type": "stream",
     "text": [
      "used dof inconsistency\n",
      "(silence this warning by setting BilinearForm(...check_unused=False) )\n"
     ]
    },
    {
     "name": "stdout",
     "output_type": "stream",
     "text": [
      "t= 0.3760000000000003 l2error : 5333319.935507276\n",
      "t= ParameterCF, val = 0.377\n"
     ]
    },
    {
     "name": "stderr",
     "output_type": "stream",
     "text": [
      "used dof inconsistency\n",
      "(silence this warning by setting BilinearForm(...check_unused=False) )\n"
     ]
    },
    {
     "name": "stdout",
     "output_type": "stream",
     "text": [
      "t= 0.3770000000000003 l2error : 4856196.304850784\n",
      "t= ParameterCF, val = 0.378\n"
     ]
    },
    {
     "name": "stderr",
     "output_type": "stream",
     "text": [
      "used dof inconsistency\n",
      "(silence this warning by setting BilinearForm(...check_unused=False) )\n"
     ]
    },
    {
     "name": "stdout",
     "output_type": "stream",
     "text": [
      "t= 0.3780000000000003 l2error : 4419642.95394122\n",
      "t= ParameterCF, val = 0.379\n"
     ]
    },
    {
     "name": "stderr",
     "output_type": "stream",
     "text": [
      "used dof inconsistency\n",
      "(silence this warning by setting BilinearForm(...check_unused=False) )\n"
     ]
    },
    {
     "name": "stdout",
     "output_type": "stream",
     "text": [
      "t= 0.3790000000000003 l2error : 4024371.271965609\n",
      "t= ParameterCF, val = 0.38\n"
     ]
    },
    {
     "name": "stderr",
     "output_type": "stream",
     "text": [
      "used dof inconsistency\n",
      "(silence this warning by setting BilinearForm(...check_unused=False) )\n"
     ]
    },
    {
     "name": "stdout",
     "output_type": "stream",
     "text": [
      "t= 0.3800000000000003 l2error : 3665535.791601888\n",
      "t= ParameterCF, val = 0.381\n"
     ]
    },
    {
     "name": "stderr",
     "output_type": "stream",
     "text": [
      "used dof inconsistency\n",
      "(silence this warning by setting BilinearForm(...check_unused=False) )\n"
     ]
    },
    {
     "name": "stdout",
     "output_type": "stream",
     "text": [
      "t= 0.3810000000000003 l2error : 3338222.5252075233\n",
      "t= ParameterCF, val = 0.382\n"
     ]
    },
    {
     "name": "stderr",
     "output_type": "stream",
     "text": [
      "used dof inconsistency\n",
      "(silence this warning by setting BilinearForm(...check_unused=False) )\n"
     ]
    },
    {
     "name": "stdout",
     "output_type": "stream",
     "text": [
      "t= 0.3820000000000003 l2error : 3042661.1374850315\n",
      "t= ParameterCF, val = 0.383\n"
     ]
    },
    {
     "name": "stderr",
     "output_type": "stream",
     "text": [
      "used dof inconsistency\n",
      "(silence this warning by setting BilinearForm(...check_unused=False) )\n"
     ]
    },
    {
     "name": "stdout",
     "output_type": "stream",
     "text": [
      "t= 0.3830000000000003 l2error : 2777001.439041332\n",
      "t= ParameterCF, val = 0.384\n"
     ]
    },
    {
     "name": "stderr",
     "output_type": "stream",
     "text": [
      "used dof inconsistency\n",
      "(silence this warning by setting BilinearForm(...check_unused=False) )\n"
     ]
    },
    {
     "name": "stdout",
     "output_type": "stream",
     "text": [
      "t= 0.3840000000000003 l2error : 2534111.6212798925\n",
      "t= ParameterCF, val = 0.385\n"
     ]
    },
    {
     "name": "stderr",
     "output_type": "stream",
     "text": [
      "used dof inconsistency\n",
      "(silence this warning by setting BilinearForm(...check_unused=False) )\n"
     ]
    },
    {
     "name": "stdout",
     "output_type": "stream",
     "text": [
      "t= 0.3850000000000003 l2error : 2312185.6096329563\n",
      "t= ParameterCF, val = 0.386\n"
     ]
    },
    {
     "name": "stderr",
     "output_type": "stream",
     "text": [
      "used dof inconsistency\n",
      "(silence this warning by setting BilinearForm(...check_unused=False) )\n"
     ]
    },
    {
     "name": "stdout",
     "output_type": "stream",
     "text": [
      "t= 0.3860000000000003 l2error : 2111454.6610759613\n",
      "t= ParameterCF, val = 0.387\n"
     ]
    },
    {
     "name": "stderr",
     "output_type": "stream",
     "text": [
      "used dof inconsistency\n",
      "(silence this warning by setting BilinearForm(...check_unused=False) )\n"
     ]
    },
    {
     "name": "stdout",
     "output_type": "stream",
     "text": [
      "t= 0.3870000000000003 l2error : 1929736.0894893715\n",
      "t= ParameterCF, val = 0.388\n"
     ]
    },
    {
     "name": "stderr",
     "output_type": "stream",
     "text": [
      "used dof inconsistency\n",
      "(silence this warning by setting BilinearForm(...check_unused=False) )\n"
     ]
    },
    {
     "name": "stdout",
     "output_type": "stream",
     "text": [
      "t= 0.3880000000000003 l2error : 1765880.987123117\n",
      "t= ParameterCF, val = 0.389\n"
     ]
    },
    {
     "name": "stderr",
     "output_type": "stream",
     "text": [
      "used dof inconsistency\n",
      "(silence this warning by setting BilinearForm(...check_unused=False) )\n"
     ]
    },
    {
     "name": "stdout",
     "output_type": "stream",
     "text": [
      "t= 0.3890000000000003 l2error : 1616257.8403743245\n",
      "t= ParameterCF, val = 0.39\n"
     ]
    },
    {
     "name": "stderr",
     "output_type": "stream",
     "text": [
      "used dof inconsistency\n",
      "(silence this warning by setting BilinearForm(...check_unused=False) )\n"
     ]
    },
    {
     "name": "stdout",
     "output_type": "stream",
     "text": [
      "t= 0.3900000000000003 l2error : 1479810.4609367352\n",
      "t= ParameterCF, val = 0.391\n"
     ]
    },
    {
     "name": "stderr",
     "output_type": "stream",
     "text": [
      "used dof inconsistency\n",
      "(silence this warning by setting BilinearForm(...check_unused=False) )\n"
     ]
    },
    {
     "name": "stdout",
     "output_type": "stream",
     "text": [
      "t= 0.3910000000000003 l2error : 1356819.992767168\n",
      "t= ParameterCF, val = 0.392\n"
     ]
    },
    {
     "name": "stderr",
     "output_type": "stream",
     "text": [
      "used dof inconsistency\n",
      "(silence this warning by setting BilinearForm(...check_unused=False) )\n"
     ]
    },
    {
     "name": "stdout",
     "output_type": "stream",
     "text": [
      "t= 0.3920000000000003 l2error : 1243404.1411391918\n",
      "t= ParameterCF, val = 0.393\n"
     ]
    },
    {
     "name": "stderr",
     "output_type": "stream",
     "text": [
      "used dof inconsistency\n",
      "(silence this warning by setting BilinearForm(...check_unused=False) )\n"
     ]
    },
    {
     "name": "stdout",
     "output_type": "stream",
     "text": [
      "t= 0.3930000000000003 l2error : 1141437.587901619\n",
      "t= ParameterCF, val = 0.394\n"
     ]
    },
    {
     "name": "stderr",
     "output_type": "stream",
     "text": [
      "used dof inconsistency\n",
      "(silence this warning by setting BilinearForm(...check_unused=False) )\n"
     ]
    },
    {
     "name": "stdout",
     "output_type": "stream",
     "text": [
      "t= 0.3940000000000003 l2error : 1049123.8852941606\n",
      "t= ParameterCF, val = 0.395\n"
     ]
    },
    {
     "name": "stderr",
     "output_type": "stream",
     "text": [
      "used dof inconsistency\n",
      "(silence this warning by setting BilinearForm(...check_unused=False) )\n"
     ]
    },
    {
     "name": "stdout",
     "output_type": "stream",
     "text": [
      "t= 0.3950000000000003 l2error : 963593.611063216\n",
      "t= ParameterCF, val = 0.396\n"
     ]
    },
    {
     "name": "stderr",
     "output_type": "stream",
     "text": [
      "used dof inconsistency\n",
      "(silence this warning by setting BilinearForm(...check_unused=False) )\n"
     ]
    },
    {
     "name": "stdout",
     "output_type": "stream",
     "text": [
      "t= 0.3960000000000003 l2error : 885946.9145919158\n",
      "t= ParameterCF, val = 0.397\n"
     ]
    },
    {
     "name": "stderr",
     "output_type": "stream",
     "text": [
      "used dof inconsistency\n",
      "(silence this warning by setting BilinearForm(...check_unused=False) )\n"
     ]
    },
    {
     "name": "stdout",
     "output_type": "stream",
     "text": [
      "t= 0.3970000000000003 l2error : 815514.5586806707\n",
      "t= ParameterCF, val = 0.398\n"
     ]
    },
    {
     "name": "stderr",
     "output_type": "stream",
     "text": [
      "used dof inconsistency\n",
      "(silence this warning by setting BilinearForm(...check_unused=False) )\n"
     ]
    },
    {
     "name": "stdout",
     "output_type": "stream",
     "text": [
      "t= 0.3980000000000003 l2error : 751573.3412511036\n",
      "t= ParameterCF, val = 0.399\n"
     ]
    },
    {
     "name": "stderr",
     "output_type": "stream",
     "text": [
      "used dof inconsistency\n",
      "(silence this warning by setting BilinearForm(...check_unused=False) )\n"
     ]
    },
    {
     "name": "stdout",
     "output_type": "stream",
     "text": [
      "t= 0.3990000000000003 l2error : 692570.7258836051\n",
      "t= ParameterCF, val = 0.4\n"
     ]
    },
    {
     "name": "stderr",
     "output_type": "stream",
     "text": [
      "used dof inconsistency\n",
      "(silence this warning by setting BilinearForm(...check_unused=False) )\n"
     ]
    },
    {
     "name": "stdout",
     "output_type": "stream",
     "text": [
      "t= 0.4000000000000003 l2error : 638716.1546558861\n",
      "t= ParameterCF, val = 0.401\n"
     ]
    },
    {
     "name": "stderr",
     "output_type": "stream",
     "text": [
      "used dof inconsistency\n",
      "(silence this warning by setting BilinearForm(...check_unused=False) )\n"
     ]
    },
    {
     "name": "stdout",
     "output_type": "stream",
     "text": [
      "t= 0.4010000000000003 l2error : 589685.5222105159\n",
      "t= ParameterCF, val = 0.402\n"
     ]
    },
    {
     "name": "stderr",
     "output_type": "stream",
     "text": [
      "used dof inconsistency\n",
      "(silence this warning by setting BilinearForm(...check_unused=False) )\n"
     ]
    },
    {
     "name": "stdout",
     "output_type": "stream",
     "text": [
      "t= 0.4020000000000003 l2error : 545140.2807283661\n",
      "t= ParameterCF, val = 0.403\n"
     ]
    },
    {
     "name": "stderr",
     "output_type": "stream",
     "text": [
      "used dof inconsistency\n",
      "(silence this warning by setting BilinearForm(...check_unused=False) )\n"
     ]
    },
    {
     "name": "stdout",
     "output_type": "stream",
     "text": [
      "t= 0.4030000000000003 l2error : 504142.89333370404\n",
      "t= ParameterCF, val = 0.404\n"
     ]
    },
    {
     "name": "stderr",
     "output_type": "stream",
     "text": [
      "used dof inconsistency\n",
      "(silence this warning by setting BilinearForm(...check_unused=False) )\n"
     ]
    },
    {
     "name": "stdout",
     "output_type": "stream",
     "text": [
      "t= 0.4040000000000003 l2error : 466770.15095305163\n",
      "t= ParameterCF, val = 0.405\n"
     ]
    },
    {
     "name": "stderr",
     "output_type": "stream",
     "text": [
      "used dof inconsistency\n",
      "(silence this warning by setting BilinearForm(...check_unused=False) )\n"
     ]
    },
    {
     "name": "stdout",
     "output_type": "stream",
     "text": [
      "t= 0.4050000000000003 l2error : 432593.0405406496\n",
      "t= ParameterCF, val = 0.406\n"
     ]
    },
    {
     "name": "stderr",
     "output_type": "stream",
     "text": [
      "used dof inconsistency\n",
      "(silence this warning by setting BilinearForm(...check_unused=False) )\n"
     ]
    },
    {
     "name": "stdout",
     "output_type": "stream",
     "text": [
      "t= 0.4060000000000003 l2error : 401052.24287401873\n",
      "t= ParameterCF, val = 0.407\n"
     ]
    },
    {
     "name": "stderr",
     "output_type": "stream",
     "text": [
      "used dof inconsistency\n",
      "(silence this warning by setting BilinearForm(...check_unused=False) )\n"
     ]
    },
    {
     "name": "stdout",
     "output_type": "stream",
     "text": [
      "t= 0.4070000000000003 l2error : 372332.7355787951\n",
      "t= ParameterCF, val = 0.408\n"
     ]
    },
    {
     "name": "stderr",
     "output_type": "stream",
     "text": [
      "used dof inconsistency\n",
      "(silence this warning by setting BilinearForm(...check_unused=False) )\n"
     ]
    },
    {
     "name": "stdout",
     "output_type": "stream",
     "text": [
      "t= 0.4080000000000003 l2error : 346040.8855361765\n",
      "t= ParameterCF, val = 0.409\n"
     ]
    },
    {
     "name": "stderr",
     "output_type": "stream",
     "text": [
      "used dof inconsistency\n",
      "(silence this warning by setting BilinearForm(...check_unused=False) )\n"
     ]
    },
    {
     "name": "stdout",
     "output_type": "stream",
     "text": [
      "t= 0.4090000000000003 l2error : 321783.8180077656\n",
      "t= ParameterCF, val = 0.41\n"
     ]
    },
    {
     "name": "stderr",
     "output_type": "stream",
     "text": [
      "used dof inconsistency\n",
      "(silence this warning by setting BilinearForm(...check_unused=False) )\n"
     ]
    },
    {
     "name": "stdout",
     "output_type": "stream",
     "text": [
      "t= 0.4100000000000003 l2error : 299412.20587724703\n",
      "t= ParameterCF, val = 0.411\n"
     ]
    },
    {
     "name": "stderr",
     "output_type": "stream",
     "text": [
      "used dof inconsistency\n",
      "(silence this warning by setting BilinearForm(...check_unused=False) )\n"
     ]
    },
    {
     "name": "stdout",
     "output_type": "stream",
     "text": [
      "t= 0.4110000000000003 l2error : 278811.08688842057\n",
      "t= ParameterCF, val = 0.412\n"
     ]
    },
    {
     "name": "stderr",
     "output_type": "stream",
     "text": [
      "used dof inconsistency\n",
      "(silence this warning by setting BilinearForm(...check_unused=False) )\n"
     ]
    },
    {
     "name": "stdout",
     "output_type": "stream",
     "text": [
      "t= 0.4120000000000003 l2error : 259821.9861298219\n",
      "t= ParameterCF, val = 0.413\n"
     ]
    },
    {
     "name": "stderr",
     "output_type": "stream",
     "text": [
      "used dof inconsistency\n",
      "(silence this warning by setting BilinearForm(...check_unused=False) )\n"
     ]
    },
    {
     "name": "stdout",
     "output_type": "stream",
     "text": [
      "t= 0.4130000000000003 l2error : 242342.13491339204\n",
      "t= ParameterCF, val = 0.414\n"
     ]
    },
    {
     "name": "stderr",
     "output_type": "stream",
     "text": [
      "used dof inconsistency\n",
      "(silence this warning by setting BilinearForm(...check_unused=False) )\n"
     ]
    },
    {
     "name": "stdout",
     "output_type": "stream",
     "text": [
      "t= 0.4140000000000003 l2error : 226217.5072032833\n",
      "t= ParameterCF, val = 0.415\n"
     ]
    },
    {
     "name": "stderr",
     "output_type": "stream",
     "text": [
      "used dof inconsistency\n",
      "(silence this warning by setting BilinearForm(...check_unused=False) )\n"
     ]
    },
    {
     "name": "stdout",
     "output_type": "stream",
     "text": [
      "t= 0.4150000000000003 l2error : 211379.14578023198\n",
      "t= ParameterCF, val = 0.416\n"
     ]
    },
    {
     "name": "stderr",
     "output_type": "stream",
     "text": [
      "used dof inconsistency\n",
      "(silence this warning by setting BilinearForm(...check_unused=False) )\n"
     ]
    },
    {
     "name": "stdout",
     "output_type": "stream",
     "text": [
      "t= 0.4160000000000003 l2error : 197521.49972811915\n",
      "t= ParameterCF, val = 0.417\n"
     ]
    },
    {
     "name": "stderr",
     "output_type": "stream",
     "text": [
      "used dof inconsistency\n",
      "(silence this warning by setting BilinearForm(...check_unused=False) )\n"
     ]
    },
    {
     "name": "stdout",
     "output_type": "stream",
     "text": [
      "t= 0.4170000000000003 l2error : 184766.3600033581\n",
      "t= ParameterCF, val = 0.418\n"
     ]
    },
    {
     "name": "stderr",
     "output_type": "stream",
     "text": [
      "used dof inconsistency\n",
      "(silence this warning by setting BilinearForm(...check_unused=False) )\n"
     ]
    },
    {
     "name": "stdout",
     "output_type": "stream",
     "text": [
      "t= 0.4180000000000003 l2error : 172902.74551962552\n",
      "t= ParameterCF, val = 0.419\n"
     ]
    },
    {
     "name": "stderr",
     "output_type": "stream",
     "text": [
      "used dof inconsistency\n",
      "(silence this warning by setting BilinearForm(...check_unused=False) )\n"
     ]
    },
    {
     "name": "stdout",
     "output_type": "stream",
     "text": [
      "t= 0.4190000000000003 l2error : 161852.6361082274\n",
      "t= ParameterCF, val = 0.42\n"
     ]
    },
    {
     "name": "stderr",
     "output_type": "stream",
     "text": [
      "used dof inconsistency\n",
      "(silence this warning by setting BilinearForm(...check_unused=False) )\n"
     ]
    },
    {
     "name": "stdout",
     "output_type": "stream",
     "text": [
      "t= 0.4200000000000003 l2error : 151595.67649676593\n",
      "t= ParameterCF, val = 0.421\n"
     ]
    },
    {
     "name": "stderr",
     "output_type": "stream",
     "text": [
      "used dof inconsistency\n",
      "(silence this warning by setting BilinearForm(...check_unused=False) )\n"
     ]
    },
    {
     "name": "stdout",
     "output_type": "stream",
     "text": [
      "t= 0.4210000000000003 l2error : 142087.88579349016\n",
      "t= ParameterCF, val = 0.422\n"
     ]
    },
    {
     "name": "stderr",
     "output_type": "stream",
     "text": [
      "used dof inconsistency\n",
      "(silence this warning by setting BilinearForm(...check_unused=False) )\n"
     ]
    },
    {
     "name": "stdout",
     "output_type": "stream",
     "text": [
      "t= 0.4220000000000003 l2error : 133265.1680006464\n",
      "t= ParameterCF, val = 0.423\n"
     ]
    },
    {
     "name": "stderr",
     "output_type": "stream",
     "text": [
      "used dof inconsistency\n",
      "(silence this warning by setting BilinearForm(...check_unused=False) )\n"
     ]
    },
    {
     "name": "stdout",
     "output_type": "stream",
     "text": [
      "t= 0.4230000000000003 l2error : 125041.3981206565\n",
      "t= ParameterCF, val = 0.424\n"
     ]
    },
    {
     "name": "stderr",
     "output_type": "stream",
     "text": [
      "used dof inconsistency\n",
      "(silence this warning by setting BilinearForm(...check_unused=False) )\n"
     ]
    },
    {
     "name": "stdout",
     "output_type": "stream",
     "text": [
      "t= 0.4240000000000003 l2error : 117361.71499390641\n",
      "t= ParameterCF, val = 0.425\n"
     ]
    },
    {
     "name": "stderr",
     "output_type": "stream",
     "text": [
      "used dof inconsistency\n",
      "(silence this warning by setting BilinearForm(...check_unused=False) )\n"
     ]
    },
    {
     "name": "stdout",
     "output_type": "stream",
     "text": [
      "t= 0.4250000000000003 l2error : 110209.03570926463\n",
      "t= ParameterCF, val = 0.426\n"
     ]
    },
    {
     "name": "stderr",
     "output_type": "stream",
     "text": [
      "used dof inconsistency\n",
      "(silence this warning by setting BilinearForm(...check_unused=False) )\n"
     ]
    },
    {
     "name": "stdout",
     "output_type": "stream",
     "text": [
      "t= 0.4260000000000003 l2error : 103522.63866515746\n",
      "t= ParameterCF, val = 0.427\n"
     ]
    },
    {
     "name": "stderr",
     "output_type": "stream",
     "text": [
      "used dof inconsistency\n",
      "(silence this warning by setting BilinearForm(...check_unused=False) )\n"
     ]
    },
    {
     "name": "stdout",
     "output_type": "stream",
     "text": [
      "t= 0.4270000000000003 l2error : 97282.96270842601\n",
      "t= ParameterCF, val = 0.428\n"
     ]
    },
    {
     "name": "stderr",
     "output_type": "stream",
     "text": [
      "used dof inconsistency\n",
      "(silence this warning by setting BilinearForm(...check_unused=False) )\n"
     ]
    },
    {
     "name": "stdout",
     "output_type": "stream",
     "text": [
      "t= 0.4280000000000003 l2error : 91434.73839277608\n",
      "t= ParameterCF, val = 0.429\n"
     ]
    },
    {
     "name": "stderr",
     "output_type": "stream",
     "text": [
      "used dof inconsistency\n",
      "(silence this warning by setting BilinearForm(...check_unused=False) )\n"
     ]
    },
    {
     "name": "stdout",
     "output_type": "stream",
     "text": [
      "t= 0.4290000000000003 l2error : 85976.67906476016\n",
      "t= ParameterCF, val = 0.43\n"
     ]
    },
    {
     "name": "stderr",
     "output_type": "stream",
     "text": [
      "used dof inconsistency\n",
      "(silence this warning by setting BilinearForm(...check_unused=False) )\n"
     ]
    },
    {
     "name": "stdout",
     "output_type": "stream",
     "text": [
      "t= 0.4300000000000003 l2error : 80869.83571901031\n",
      "t= ParameterCF, val = 0.431\n"
     ]
    },
    {
     "name": "stderr",
     "output_type": "stream",
     "text": [
      "used dof inconsistency\n",
      "(silence this warning by setting BilinearForm(...check_unused=False) )\n"
     ]
    },
    {
     "name": "stdout",
     "output_type": "stream",
     "text": [
      "t= 0.4310000000000003 l2error : 76092.0282529234\n",
      "t= ParameterCF, val = 0.432\n"
     ]
    },
    {
     "name": "stderr",
     "output_type": "stream",
     "text": [
      "used dof inconsistency\n",
      "(silence this warning by setting BilinearForm(...check_unused=False) )\n"
     ]
    },
    {
     "name": "stdout",
     "output_type": "stream",
     "text": [
      "t= 0.43200000000000033 l2error : 71614.81619490263\n",
      "t= ParameterCF, val = 0.433\n"
     ]
    },
    {
     "name": "stderr",
     "output_type": "stream",
     "text": [
      "used dof inconsistency\n",
      "(silence this warning by setting BilinearForm(...check_unused=False) )\n"
     ]
    },
    {
     "name": "stdout",
     "output_type": "stream",
     "text": [
      "t= 0.43300000000000033 l2error : 67417.76082237066\n",
      "t= ParameterCF, val = 0.434\n"
     ]
    },
    {
     "name": "stderr",
     "output_type": "stream",
     "text": [
      "used dof inconsistency\n",
      "(silence this warning by setting BilinearForm(...check_unused=False) )\n"
     ]
    },
    {
     "name": "stdout",
     "output_type": "stream",
     "text": [
      "t= 0.43400000000000033 l2error : 63483.0668080537\n",
      "t= ParameterCF, val = 0.435\n"
     ]
    },
    {
     "name": "stderr",
     "output_type": "stream",
     "text": [
      "used dof inconsistency\n",
      "(silence this warning by setting BilinearForm(...check_unused=False) )\n"
     ]
    },
    {
     "name": "stdout",
     "output_type": "stream",
     "text": [
      "t= 0.43500000000000033 l2error : 59793.08279040903\n",
      "t= ParameterCF, val = 0.436\n"
     ]
    },
    {
     "name": "stderr",
     "output_type": "stream",
     "text": [
      "used dof inconsistency\n",
      "(silence this warning by setting BilinearForm(...check_unused=False) )\n"
     ]
    },
    {
     "name": "stdout",
     "output_type": "stream",
     "text": [
      "t= 0.43600000000000033 l2error : 56326.91411169686\n",
      "t= ParameterCF, val = 0.437\n"
     ]
    },
    {
     "name": "stderr",
     "output_type": "stream",
     "text": [
      "used dof inconsistency\n",
      "(silence this warning by setting BilinearForm(...check_unused=False) )\n"
     ]
    },
    {
     "name": "stdout",
     "output_type": "stream",
     "text": [
      "t= 0.43700000000000033 l2error : 53066.084865872646\n",
      "t= ParameterCF, val = 0.438\n"
     ]
    },
    {
     "name": "stderr",
     "output_type": "stream",
     "text": [
      "used dof inconsistency\n",
      "(silence this warning by setting BilinearForm(...check_unused=False) )\n"
     ]
    },
    {
     "name": "stdout",
     "output_type": "stream",
     "text": [
      "t= 0.43800000000000033 l2error : 50004.74031545854\n",
      "t= ParameterCF, val = 0.439\n"
     ]
    },
    {
     "name": "stderr",
     "output_type": "stream",
     "text": [
      "used dof inconsistency\n",
      "(silence this warning by setting BilinearForm(...check_unused=False) )\n"
     ]
    },
    {
     "name": "stdout",
     "output_type": "stream",
     "text": [
      "t= 0.43900000000000033 l2error : 47131.92097486719\n",
      "t= ParameterCF, val = 0.44\n"
     ]
    },
    {
     "name": "stderr",
     "output_type": "stream",
     "text": [
      "used dof inconsistency\n",
      "(silence this warning by setting BilinearForm(...check_unused=False) )\n"
     ]
    },
    {
     "name": "stdout",
     "output_type": "stream",
     "text": [
      "t= 0.44000000000000034 l2error : 44429.94709466325\n",
      "t= ParameterCF, val = 0.441\n"
     ]
    },
    {
     "name": "stderr",
     "output_type": "stream",
     "text": [
      "used dof inconsistency\n",
      "(silence this warning by setting BilinearForm(...check_unused=False) )\n"
     ]
    },
    {
     "name": "stdout",
     "output_type": "stream",
     "text": [
      "t= 0.44100000000000034 l2error : 41889.63152944119\n",
      "t= ParameterCF, val = 0.442\n"
     ]
    },
    {
     "name": "stderr",
     "output_type": "stream",
     "text": [
      "used dof inconsistency\n",
      "(silence this warning by setting BilinearForm(...check_unused=False) )\n"
     ]
    },
    {
     "name": "stdout",
     "output_type": "stream",
     "text": [
      "t= 0.44200000000000034 l2error : 39500.09612437274\n",
      "t= ParameterCF, val = 0.443\n"
     ]
    },
    {
     "name": "stderr",
     "output_type": "stream",
     "text": [
      "used dof inconsistency\n",
      "(silence this warning by setting BilinearForm(...check_unused=False) )\n"
     ]
    },
    {
     "name": "stdout",
     "output_type": "stream",
     "text": [
      "t= 0.44300000000000034 l2error : 37249.87887548011\n",
      "t= ParameterCF, val = 0.444\n"
     ]
    },
    {
     "name": "stderr",
     "output_type": "stream",
     "text": [
      "used dof inconsistency\n",
      "(silence this warning by setting BilinearForm(...check_unused=False) )\n"
     ]
    },
    {
     "name": "stdout",
     "output_type": "stream",
     "text": [
      "t= 0.44400000000000034 l2error : 35134.947878503255\n",
      "t= ParameterCF, val = 0.445\n"
     ]
    },
    {
     "name": "stderr",
     "output_type": "stream",
     "text": [
      "used dof inconsistency\n",
      "(silence this warning by setting BilinearForm(...check_unused=False) )\n"
     ]
    },
    {
     "name": "stdout",
     "output_type": "stream",
     "text": [
      "t= 0.44500000000000034 l2error : 33141.22006173821\n",
      "t= ParameterCF, val = 0.446\n"
     ]
    },
    {
     "name": "stderr",
     "output_type": "stream",
     "text": [
      "used dof inconsistency\n",
      "(silence this warning by setting BilinearForm(...check_unused=False) )\n"
     ]
    },
    {
     "name": "stdout",
     "output_type": "stream",
     "text": [
      "t= 0.44600000000000034 l2error : 31264.090419220644\n",
      "t= ParameterCF, val = 0.447\n"
     ]
    },
    {
     "name": "stderr",
     "output_type": "stream",
     "text": [
      "used dof inconsistency\n",
      "(silence this warning by setting BilinearForm(...check_unused=False) )\n"
     ]
    },
    {
     "name": "stdout",
     "output_type": "stream",
     "text": [
      "t= 0.44700000000000034 l2error : 29494.77352474548\n",
      "t= ParameterCF, val = 0.448\n"
     ]
    },
    {
     "name": "stderr",
     "output_type": "stream",
     "text": [
      "used dof inconsistency\n",
      "(silence this warning by setting BilinearForm(...check_unused=False) )\n"
     ]
    },
    {
     "name": "stdout",
     "output_type": "stream",
     "text": [
      "t= 0.44800000000000034 l2error : 27829.966330077597\n",
      "t= ParameterCF, val = 0.449\n"
     ]
    },
    {
     "name": "stderr",
     "output_type": "stream",
     "text": [
      "used dof inconsistency\n",
      "(silence this warning by setting BilinearForm(...check_unused=False) )\n"
     ]
    },
    {
     "name": "stdout",
     "output_type": "stream",
     "text": [
      "t= 0.44900000000000034 l2error : 26260.868702500815\n",
      "t= ParameterCF, val = 0.45\n"
     ]
    },
    {
     "name": "stderr",
     "output_type": "stream",
     "text": [
      "used dof inconsistency\n",
      "(silence this warning by setting BilinearForm(...check_unused=False) )\n"
     ]
    },
    {
     "name": "stdout",
     "output_type": "stream",
     "text": [
      "t= 0.45000000000000034 l2error : 24781.796415688033\n",
      "t= ParameterCF, val = 0.451\n"
     ]
    },
    {
     "name": "stderr",
     "output_type": "stream",
     "text": [
      "used dof inconsistency\n",
      "(silence this warning by setting BilinearForm(...check_unused=False) )\n"
     ]
    },
    {
     "name": "stdout",
     "output_type": "stream",
     "text": [
      "t= 0.45100000000000035 l2error : 23386.700981737606\n",
      "t= ParameterCF, val = 0.452\n"
     ]
    },
    {
     "name": "stderr",
     "output_type": "stream",
     "text": [
      "used dof inconsistency\n",
      "(silence this warning by setting BilinearForm(...check_unused=False) )\n"
     ]
    },
    {
     "name": "stdout",
     "output_type": "stream",
     "text": [
      "t= 0.45200000000000035 l2error : 22073.326561713842\n",
      "t= ParameterCF, val = 0.453\n"
     ]
    },
    {
     "name": "stderr",
     "output_type": "stream",
     "text": [
      "used dof inconsistency\n",
      "(silence this warning by setting BilinearForm(...check_unused=False) )\n"
     ]
    },
    {
     "name": "stdout",
     "output_type": "stream",
     "text": [
      "t= 0.45300000000000035 l2error : 20833.04227303072\n",
      "t= ParameterCF, val = 0.454\n"
     ]
    },
    {
     "name": "stderr",
     "output_type": "stream",
     "text": [
      "used dof inconsistency\n",
      "(silence this warning by setting BilinearForm(...check_unused=False) )\n"
     ]
    },
    {
     "name": "stdout",
     "output_type": "stream",
     "text": [
      "t= 0.45400000000000035 l2error : 19663.4273132732\n",
      "t= ParameterCF, val = 0.455\n"
     ]
    },
    {
     "name": "stderr",
     "output_type": "stream",
     "text": [
      "used dof inconsistency\n",
      "(silence this warning by setting BilinearForm(...check_unused=False) )\n"
     ]
    },
    {
     "name": "stdout",
     "output_type": "stream",
     "text": [
      "t= 0.45500000000000035 l2error : 18561.637980315518\n",
      "t= ParameterCF, val = 0.456\n"
     ]
    },
    {
     "name": "stderr",
     "output_type": "stream",
     "text": [
      "used dof inconsistency\n",
      "(silence this warning by setting BilinearForm(...check_unused=False) )\n"
     ]
    },
    {
     "name": "stdout",
     "output_type": "stream",
     "text": [
      "t= 0.45600000000000035 l2error : 17522.466079356214\n",
      "t= ParameterCF, val = 0.457\n"
     ]
    },
    {
     "name": "stderr",
     "output_type": "stream",
     "text": [
      "used dof inconsistency\n",
      "(silence this warning by setting BilinearForm(...check_unused=False) )\n"
     ]
    },
    {
     "name": "stdout",
     "output_type": "stream",
     "text": [
      "t= 0.45700000000000035 l2error : 16540.714754514946\n",
      "t= ParameterCF, val = 0.458\n"
     ]
    },
    {
     "name": "stderr",
     "output_type": "stream",
     "text": [
      "used dof inconsistency\n",
      "(silence this warning by setting BilinearForm(...check_unused=False) )\n"
     ]
    },
    {
     "name": "stdout",
     "output_type": "stream",
     "text": [
      "t= 0.45800000000000035 l2error : 15615.691598973306\n",
      "t= ParameterCF, val = 0.459\n"
     ]
    },
    {
     "name": "stderr",
     "output_type": "stream",
     "text": [
      "used dof inconsistency\n",
      "(silence this warning by setting BilinearForm(...check_unused=False) )\n"
     ]
    },
    {
     "name": "stdout",
     "output_type": "stream",
     "text": [
      "t= 0.45900000000000035 l2error : 14742.786524696596\n",
      "t= ParameterCF, val = 0.46\n"
     ]
    },
    {
     "name": "stderr",
     "output_type": "stream",
     "text": [
      "used dof inconsistency\n",
      "(silence this warning by setting BilinearForm(...check_unused=False) )\n"
     ]
    },
    {
     "name": "stdout",
     "output_type": "stream",
     "text": [
      "t= 0.46000000000000035 l2error : 13919.115135479957\n",
      "t= ParameterCF, val = 0.461\n"
     ]
    },
    {
     "name": "stderr",
     "output_type": "stream",
     "text": [
      "used dof inconsistency\n",
      "(silence this warning by setting BilinearForm(...check_unused=False) )\n"
     ]
    },
    {
     "name": "stdout",
     "output_type": "stream",
     "text": [
      "t= 0.46100000000000035 l2error : 13136.058170243852\n",
      "t= ParameterCF, val = 0.462\n"
     ]
    },
    {
     "name": "stderr",
     "output_type": "stream",
     "text": [
      "used dof inconsistency\n",
      "(silence this warning by setting BilinearForm(...check_unused=False) )\n"
     ]
    },
    {
     "name": "stdout",
     "output_type": "stream",
     "text": [
      "t= 0.46200000000000035 l2error : 12402.340311043974\n",
      "t= ParameterCF, val = 0.463\n"
     ]
    },
    {
     "name": "stderr",
     "output_type": "stream",
     "text": [
      "used dof inconsistency\n",
      "(silence this warning by setting BilinearForm(...check_unused=False) )\n"
     ]
    },
    {
     "name": "stdout",
     "output_type": "stream",
     "text": [
      "t= 0.46300000000000036 l2error : 11708.949948341622\n",
      "t= ParameterCF, val = 0.464\n"
     ]
    },
    {
     "name": "stderr",
     "output_type": "stream",
     "text": [
      "used dof inconsistency\n",
      "(silence this warning by setting BilinearForm(...check_unused=False) )\n"
     ]
    },
    {
     "name": "stdout",
     "output_type": "stream",
     "text": [
      "t= 0.46400000000000036 l2error : 11056.619667766772\n",
      "t= ParameterCF, val = 0.465\n"
     ]
    },
    {
     "name": "stderr",
     "output_type": "stream",
     "text": [
      "used dof inconsistency\n",
      "(silence this warning by setting BilinearForm(...check_unused=False) )\n"
     ]
    },
    {
     "name": "stdout",
     "output_type": "stream",
     "text": [
      "t= 0.46500000000000036 l2error : 10439.99397966362\n",
      "t= ParameterCF, val = 0.466\n"
     ]
    },
    {
     "name": "stderr",
     "output_type": "stream",
     "text": [
      "used dof inconsistency\n",
      "(silence this warning by setting BilinearForm(...check_unused=False) )\n"
     ]
    },
    {
     "name": "stdout",
     "output_type": "stream",
     "text": [
      "t= 0.46600000000000036 l2error : 9857.47463704339\n",
      "t= ParameterCF, val = 0.467\n"
     ]
    },
    {
     "name": "stderr",
     "output_type": "stream",
     "text": [
      "used dof inconsistency\n",
      "(silence this warning by setting BilinearForm(...check_unused=False) )\n"
     ]
    },
    {
     "name": "stdout",
     "output_type": "stream",
     "text": [
      "t= 0.46700000000000036 l2error : 9308.4902139942\n",
      "t= ParameterCF, val = 0.468\n"
     ]
    },
    {
     "name": "stderr",
     "output_type": "stream",
     "text": [
      "used dof inconsistency\n",
      "(silence this warning by setting BilinearForm(...check_unused=False) )\n"
     ]
    },
    {
     "name": "stdout",
     "output_type": "stream",
     "text": [
      "t= 0.46800000000000036 l2error : 8789.97812332733\n",
      "t= ParameterCF, val = 0.469\n"
     ]
    },
    {
     "name": "stderr",
     "output_type": "stream",
     "text": [
      "used dof inconsistency\n",
      "(silence this warning by setting BilinearForm(...check_unused=False) )\n"
     ]
    },
    {
     "name": "stdout",
     "output_type": "stream",
     "text": [
      "t= 0.46900000000000036 l2error : 8298.99301517744\n",
      "t= ParameterCF, val = 0.47\n"
     ]
    },
    {
     "name": "stderr",
     "output_type": "stream",
     "text": [
      "used dof inconsistency\n",
      "(silence this warning by setting BilinearForm(...check_unused=False) )\n"
     ]
    },
    {
     "name": "stdout",
     "output_type": "stream",
     "text": [
      "t= 0.47000000000000036 l2error : 7837.451434961299\n",
      "t= ParameterCF, val = 0.471\n"
     ]
    },
    {
     "name": "stderr",
     "output_type": "stream",
     "text": [
      "used dof inconsistency\n",
      "(silence this warning by setting BilinearForm(...check_unused=False) )\n"
     ]
    },
    {
     "name": "stdout",
     "output_type": "stream",
     "text": [
      "t= 0.47100000000000036 l2error : 7400.871759823795\n",
      "t= ParameterCF, val = 0.472\n"
     ]
    },
    {
     "name": "stderr",
     "output_type": "stream",
     "text": [
      "used dof inconsistency\n",
      "(silence this warning by setting BilinearForm(...check_unused=False) )\n"
     ]
    },
    {
     "name": "stdout",
     "output_type": "stream",
     "text": [
      "t= 0.47200000000000036 l2error : 6988.799763193621\n",
      "t= ParameterCF, val = 0.473\n"
     ]
    },
    {
     "name": "stderr",
     "output_type": "stream",
     "text": [
      "used dof inconsistency\n",
      "(silence this warning by setting BilinearForm(...check_unused=False) )\n"
     ]
    },
    {
     "name": "stdout",
     "output_type": "stream",
     "text": [
      "t= 0.47300000000000036 l2error : 6600.022107920462\n",
      "t= ParameterCF, val = 0.474\n"
     ]
    },
    {
     "name": "stderr",
     "output_type": "stream",
     "text": [
      "used dof inconsistency\n",
      "(silence this warning by setting BilinearForm(...check_unused=False) )\n"
     ]
    },
    {
     "name": "stdout",
     "output_type": "stream",
     "text": [
      "t= 0.47400000000000037 l2error : 6232.6224173865\n",
      "t= ParameterCF, val = 0.475\n"
     ]
    }
   ],
   "source": [
    "nu =1 \n",
    "gamma_stab =100\n",
    "tstart =0\n",
    "tend = 1\n",
    "t1 = tstart\n",
    "dt = 0.001\n",
    "\n",
    "beta0 = 10*order**2\n",
    "beta2 = 10*order**2\n",
    "\n",
    "def jump(f):\n",
    "    return f - f.Other()\n",
    "def jumpn(f):\n",
    "    n = Normalize(grad(lsetp1))\n",
    "    return Grad(f)*n - Grad(f).Other()*n\n",
    "\n",
    "while t1 < tend:\n",
    "    t.Set(t1)\n",
    "    print (\"\\rt=\", t, end=\"\")\n",
    "    \n",
    "    lsetp1 = GridFunction(H1(mesh))\n",
    "    InterpolateToP1(levelset,lsetp1)\n",
    "\n",
    "    lsetp1_extended_plus = GridFunction(H1(mesh))\n",
    "    InterpolateToP1(levelset_extended_plus, lsetp1_extended_plus)\n",
    "\n",
    "    lsetp1_extended_minus = GridFunction(H1(mesh))\n",
    "    InterpolateToP1(levelset_extended_minus, lsetp1_extended_minus)\n",
    "\n",
    "\n",
    "    h = specialcf.mesh_size\n",
    "    n = Normalize(grad(lsetp1))\n",
    "\n",
    "    ci = CutInfo(mesh, lsetp1)\n",
    "    hasneg = ci.GetElementsOfType(HASNEG)\n",
    "    neg = ci.GetElementsOfType(NEG)\n",
    "    hasif = ci.GetElementsOfType(IF)\n",
    "    haspos = ci.GetElementsOfType(HASPOS)\n",
    "\n",
    "    ci1 = CutInfo(mesh, lsetp1_extended_plus)\n",
    "    hasneg1 = ci1.GetElementsOfType(HASNEG)\n",
    "    neg1 = ci1.GetElementsOfType(NEG)\n",
    "    hasif1 = ci1.GetElementsOfType(IF)\n",
    "    haspos1 = ci1.GetElementsOfType(HASPOS)\n",
    "\n",
    "    ci2 = CutInfo(mesh, lsetp1_extended_minus)\n",
    "    hasneg2 = ci2.GetElementsOfType(HASNEG)\n",
    "    neg2 = ci2.GetElementsOfType(NEG)\n",
    "    hasif2 = ci2.GetElementsOfType(IF)\n",
    "    haspos2 = ci2.GetElementsOfType(HASPOS)\n",
    "\n",
    "    ba_diff = BitArray(len(hasneg1))\n",
    "    ba_diff[:] = hasneg1\n",
    "    ba_diff &= ~neg2\n",
    "\n",
    "\n",
    "    dx = dCut(lsetp1, NEG, definedonelements=hasneg)\n",
    "    ds = dCut(lsetp1, IF, definedonelements=hasif)\n",
    "    dw_interface = dFacetPatch(definedonelements=ba_diff)\n",
    "\n",
    "    a = BilinearForm(X)\n",
    "    stokes = nu * InnerProduct(Grad(u), Grad(v))*dx - div(u)*q*dx - div(v)*p*dx\n",
    "    stokes += -nu*(Grad(u)*n * v + Grad(v)*n * u) * ds + nu*gamma_stab / h * u * v* ds #nitzshe stabilization\n",
    "    stokes += (q*n * u + p*n * v) * ds\n",
    "    stokes += p*z1 *dx + q *z*dx\n",
    "    stokes += nu*beta2*h**-2* InnerProduct(jump(u), jump(v)) * dw_interface #velocity ghost penalty\n",
    "    stokes += -beta0 * InnerProduct(jump(p), jump(q)) * dw_interface #pressure ghost penalty\n",
    "    a += stokes\n",
    "    a += 1/dt * InnerProduct(u, v) * dx # time derivative\n",
    "    a.Assemble()\n",
    "\n",
    "\n",
    "    if t1 == 0:\n",
    "        gfu.components[0].Set(uexact)   \n",
    "    #else:\n",
    "        #active_dofs_inner=GetDofsOfElements(X,hasneg)\n",
    "        #active_dofs_inner &= ~active_dofs\n",
    "        #print(\"sss:\", sum(active_dofs_inner))\n",
    "\n",
    "    ud = uexact\n",
    "\n",
    "    active_dofs=GetDofsOfElements(X,hasneg1)\n",
    "    inv = a.mat.Inverse(active_dofs)\n",
    "\n",
    "    \n",
    "    l2error = sqrt(Integrate( (gfu.components[0] - uexact) ** 2*dx, mesh ))\n",
    "    print(\"t=\", t1, \"l2error :\", l2error)\n",
    "    #DrawDC(lsetp1,gfu.components[0], CF((0,0)), mesh, \"u\")\n",
    "    #DrawDC(lsetp1,uexact, CF((0,0)), mesh, \"uexact\")\n",
    "\n",
    "    res = LinearForm(X)\n",
    "    res += f * v * dx\n",
    "    res += 1/dt*InnerProduct(gfu.components[0], v)*dx\n",
    "    res += ud * n * q *ds -  nu*Grad(v) * n *ud * ds + nu*gamma_stab/h * ud *v*ds\n",
    "\n",
    "    t.Set(t1+dt)\n",
    "    \n",
    "    res.Assemble()\n",
    "    gfu.vec.data =  inv * res.vec\n",
    "    #print(\"gfu.vec.data:\", gfu.vec.data)\n",
    "    t1 = t1 + dt\n",
    "    \n",
    "    #print(\"t=\", t, \"cnt=\", cnt)\n",
    "    \n",
    "    #if cnt % 50 == 0:\n",
    "    #sceneu.Redraw()\n",
    "    #scenep.Redraw()\n",
    "    #gfut.AddMultiDimComponent(gfu.vec)"
   ]
  }
 ],
 "metadata": {
  "kernelspec": {
   "display_name": "Python 3",
   "language": "python",
   "name": "python3"
  },
  "language_info": {
   "codemirror_mode": {
    "name": "ipython",
    "version": 3
   },
   "file_extension": ".py",
   "mimetype": "text/x-python",
   "name": "python",
   "nbconvert_exporter": "python",
   "pygments_lexer": "ipython3",
   "version": "3.8.10"
  }
 },
 "nbformat": 4,
 "nbformat_minor": 5
}
