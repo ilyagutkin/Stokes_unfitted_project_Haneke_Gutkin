{
 "cells": [
  {
   "cell_type": "markdown",
   "id": "a1746024",
   "metadata": {},
   "source": [
    "# Unfitted Finite Element Method for the Stokes Problem\n",
    "\n",
    "In this notebook, we solve the Stokes equations on an **unfitted mesh** using the **ghost penalty stabilization** technique. This approach allows us to handle complex geometries without conforming the mesh to the domain boundary.\n",
    "\n",
    "The Stokes equations in strong form are given by:\n",
    "\n",
    "$$\n",
    "\\begin{aligned}\n",
    "- \\nu \\Delta \\mathbf{u} + \\nabla p &= \\mathbf{f} \\quad \\text{in } \\Omega, \\\\\n",
    "\\text{div}(\\mathbf{u}) &= 0 \\quad \\text{in } \\Omega, \\\\\n",
    "\\mathbf{u} &= \\mathbf{g} \\quad \\text{on } \\partial\\Omega,\n",
    "\\end{aligned}\n",
    "$$\n",
    "\n",
    "where: \n",
    "- $ \\mathbf{u} $ is the velocity field,\n",
    "- $ p $ is the pressure,\n",
    "- $ \\mathbf{f} $ is a given forcing term,\n",
    "- and $ \\mathbf{g} $ is the prescribed Dirichlet boundary condition."
   ]
  },
  {
   "cell_type": "code",
   "execution_count": 1,
   "id": "844fde61",
   "metadata": {},
   "outputs": [],
   "source": [
    "from netgen.geom2d import SplineGeometry\n",
    "from ngsolve import *\n",
    "from ngsolve.internal import *\n",
    "import ngsolve\n",
    "from xfem import *\n",
    "from xfem.lsetcurv import *"
   ]
  },
  {
   "cell_type": "code",
   "execution_count": 2,
   "id": "e5908a85",
   "metadata": {},
   "outputs": [
    {
     "data": {
      "application/vnd.jupyter.widget-view+json": {
       "model_id": "6db9bdd94e514db6984dd7dcde9e0c6f",
       "version_major": 2,
       "version_minor": 0
      },
      "text/plain": [
       "WebGuiWidget(layout=Layout(height='500px', width='100%'), value={'gui_settings': {}, 'ngsolve_version': '6.2.2…"
      ]
     },
     "metadata": {},
     "output_type": "display_data"
    },
    {
     "data": {
      "text/plain": [
       "BaseWebGuiScene"
      ]
     },
     "execution_count": 2,
     "metadata": {},
     "output_type": "execute_result"
    }
   ],
   "source": [
    "order = 2\n",
    "maxh = 0.1\n",
    "nu = 1.0\n",
    "\n",
    "square = SplineGeometry()\n",
    "square.AddRectangle((-1.25, -1.25), (1.25, 1.25), bc=1)\n",
    "ngmesh = square.GenerateMesh(maxh=maxh)\n",
    "mesh = Mesh(ngmesh)\n",
    "Draw(mesh)"
   ]
  },
  {
   "cell_type": "markdown",
   "id": "7fe74bc0",
   "metadata": {},
   "source": [
    "## Fictitious Domain and Level Set Representation\n",
    "\n",
    "We work with a **fixed background mesh** $\\widehat{\\Omega} = [-1.25, 1.25]^2$, which is independent of the actual geometry.\n",
    "\n",
    "The **physical domain** $\\Omega$ is defined implicitly via a **level set function** $\\phi(x, y)$, and corresponds either to the **interior** or **exterior** of a closed boundary $\\Gamma = \\{ \\phi = 0 \\}$.\n",
    "\n",
    "- If $\\phi(x, y) < 0$, the point $(x, y)$ lies **inside** $\\Omega$\n",
    "- If $\\phi(x, y) > 0$, the point lies **outside**\n",
    "- $\\Gamma$ is the zero level set and represents the **interface**\n",
    "\n",
    "This approach allows us to define complex geometries without modifying the mesh. We solve the Stokes problem on $\\Omega$ using an unfitted finite element method, where the background mesh is cut by $\\Gamma$, and stability is ensured using **ghost penalty stabilization**.\n"
   ]
  },
  {
   "cell_type": "code",
   "execution_count": 3,
   "id": "68173325",
   "metadata": {},
   "outputs": [
    {
     "data": {
      "application/vnd.jupyter.widget-view+json": {
       "model_id": "b5e89af944f04037bb6c09b2d2681dbf",
       "version_major": 2,
       "version_minor": 0
      },
      "text/plain": [
       "WebGuiWidget(layout=Layout(height='500px', width='100%'), value={'gui_settings': {}, 'ngsolve_version': '6.2.2…"
      ]
     },
     "metadata": {},
     "output_type": "display_data"
    },
    {
     "data": {
      "text/plain": [
       "BaseWebGuiScene"
      ]
     },
     "execution_count": 3,
     "metadata": {},
     "output_type": "execute_result"
    }
   ],
   "source": [
    "r = sqrt(x**2 + y**2)\n",
    "levelset = r-1\n",
    "lsetp1 = GridFunction(H1(mesh))\n",
    "InterpolateToP1(levelset,lsetp1)# Element, facet and dof marking w.r.t. boundary approximation with lsetp1:\n",
    "DrawDC(levelset, CF(1), CF(0), mesh)"
   ]
  },
  {
   "cell_type": "code",
   "execution_count": 4,
   "id": "b0bc8922",
   "metadata": {},
   "outputs": [],
   "source": [
    "lsetmeshadap = LevelSetMeshAdaptation(mesh, order=order, threshold=0.1,discontinuous_qn=True)# Higher order level set approximation \n",
    "deformation = lsetmeshadap.CalcDeformation(levelset)\n",
    "lsetp1 = lsetmeshadap.lset_p1\n",
    "lsetp1 = GridFunction(H1(mesh))\n",
    "InterpolateToP1(levelset,lsetp1)# Element, facet and dof marking w.r.t. boundary approximation with lsetp1:"
   ]
  },
  {
   "cell_type": "markdown",
   "id": "734d0740",
   "metadata": {},
   "source": [
    "## Fictitious Domain Construction\n",
    "\n",
    "The **fictitious domain** $\\Omega^*$ is defined as the union of all background mesh elements that intersect the physical domain $\\Omega$. That is, we consider the minimal subset of elements $\\mathcal{T}^* \\subset \\widehat{\\mathcal{T}}$ such that:\n",
    "\n",
    "$$\n",
    "\\Omega \\subset \\bigcup_{T \\in \\mathcal{T}^*} T =: \\Omega^*,\n",
    "$$\n",
    "\n",
    "where:\n",
    "- $\\widehat{\\mathcal{T}}$ denotes the background mesh over $\\widehat{\\Omega}$,\n",
    "- $\\mathcal{T}^*$ is the collection of all elements that are **cut by** or **lie inside** the level set domain $\\Omega$.\n",
    "\n",
    "This extended domain $\\Omega^*$ is used for the unfitted finite element formulation. Integration and stabilization terms are evaluated over $\\Omega^*$ instead of $\\Omega$, which avoids the need for boundary-fitted meshes.\n"
   ]
  },
  {
   "cell_type": "code",
   "execution_count": 5,
   "id": "a3a663f1",
   "metadata": {},
   "outputs": [],
   "source": [
    "ci = CutInfo(mesh, lsetp1)\n",
    "hasneg = ci.GetElementsOfType(HASNEG)\n",
    "hasif = ci.GetElementsOfType(IF)\n",
    "neg = ci.GetElementsOfType(NEG)\n",
    "cut_facets = GetFacetsWithNeighborTypes(mesh, a=hasif, b=hasif)\n",
    "stab_facets = GetFacetsWithNeighborTypes(mesh, a=hasif, b=hasneg)\n",
    "hasneg_facets = GetFacetsWithNeighborTypes(mesh, a=hasneg, b=hasneg, use_and=True)\n",
    "\n",
    "#Integration domains\n",
    "dX = dCut(lsetp1, NEG, definedonelements=hasneg,deformation=deformation)\n",
    "ds = dCut(lsetp1, IF, definedonelements=hasif,deformation=deformation)\n",
    "dw = dFacetPatch(definedonelements=stab_facets,deformation=deformation)\n",
    "dz = dFacetPatch(definedonelements=cut_facets, deformation=deformation)\n",
    "dxbar = dx(definedonelements=hasneg, deformation=deformation)\n",
    "dxcut = dx(definedonelements=hasif, deformation=deformation)\n",
    "dxinner = dx(definedonelements=neg, deformation=deformation)\n",
    "dcutskel = dCut(lsetp1, NEG, skeleton=True, definedonelements=hasneg_facets, deformation=deformation)"
   ]
  },
  {
   "cell_type": "markdown",
   "id": "7b8be1ba",
   "metadata": {},
   "source": [
    "## Spaces for the unstabilized Formulation\n",
    "For the interior penalty term we need:\n",
    "$$\n",
    "\\mathcal{F}_h = \\left\\{ F \\cap \\Omega \\; : \\; F \\in \\partial_i \\mathcal{T}^* \\right\\}\n",
    "$$\n",
    "For the Lagrange Parameter we need:\n",
    "$$\n",
    "\\mathcal{T}_{cut} = \\left\\{ T \\in  \\mathcal{T}^*  \\; : \\; T \\cap \\Gamma \\neq \\emptyset \\right\\}\n",
    "$$"
   ]
  },
  {
   "cell_type": "markdown",
   "id": "6af80207",
   "metadata": {},
   "source": [
    "## Weak Formulation using BDM Elements\n",
    "\n",
    "We now reformulate the Stokes problem in its **weak (variational) form**. To this end, we use the **$BDM$** finite element for the velocity and **$H1$** spaces for the pressure. Since the BDM is not a subspace of H1, because the space does not provide continuity, we have to use as in the fitted case interior penalty terms. The Lagrange multiplier space is \n",
    "\n",
    "We seek a pair of functions $(u_h, p_h, \\lambda_h) \\in V_h \\times Q_h \\times \\Lambda_h$, such that\n",
    "\n",
    "$$\n",
    "A_h(u_h, p_h, \\lambda_h; v_h, q_h, \\mu_h) = L_h(v_h, q_h, \\mu_h) \\quad \\text{for all } (v_h, q_h, \\mu_h) \\in V_h \\times Q_h \\times \\Lambda_h,\n",
    "$$\n",
    "\n",
    "with $V_h \\times Q_h \\times \\Lambda_h= BDM^k \\times H_1^{k-1}(\\Omega) \\times H_1^{k}(\\mathcal{T}_{cut}) $, and where the bilinear and linear forms are defined by:\n",
    "\n",
    "$$ \\\n",
    "A_h(u_h, p_h; v_h, q_h) = a_h(u_h, v_h) + b_h(u_h, q_h) + b_h(v_h, p_h) + c_h(u_h; \\mu_h) + c_h(v_h; \\lambda_h),\n",
    "$$\n",
    "\n",
    "$$\n",
    "L_h(v_h, q_h) = (f, v_h) + \\gamma h^{-1} (g,v_h)_\\Gamma + (g \\cdot n, \\mu_h)_\\Gamma - (\\partial_n v_h,g)_\\Gamma.\n",
    "$$\n",
    "\n",
    "### Definitions of the bilinear forms:\n",
    "\n",
    "- $a_h(u_h, v_h) = (\\nabla u_h, \\nabla v_h)_\\Omega - (\\partial_n u_h, v_h)_\\Gamma - (\\partial_n v_h, u_h)_\\Gamma + \\gamma h^{-1} (u_h, v_h)_\\Gamma - (\\{\\partial_n u_h\\},[ v_h])_{\\mathcal{F}_h} - (\\{\\partial_n v_h\\},[ u_h])_{\\mathcal{F}_h}  + \\gamma h^{-1} ([u_h],[ v_h])_{\\mathcal{F}_h} $  \n",
    "- $b_h(v_h, p_h) = -(\\nabla v_h, p_h)_\\Omega$\n",
    "- $c_h(u_h; \\mu_h) = (u_h \\cdot n, \\mu_h)_\\Gamma + h(\\partial_n \\lambda_h , \\partial_n \\mu_h)_{\\mathcal{T}_{cut}}$\n",
    "\n",
    "Here, $f$ is the given forcing term, and $\\gamma$ is the Nitsche penalty parameter. \n"
   ]
  },
  {
   "cell_type": "code",
   "execution_count": 6,
   "id": "1725efdd",
   "metadata": {},
   "outputs": [],
   "source": [
    "def jump(f):\n",
    "    return f - f.Other()\n",
    "def avgdnF(f):\n",
    "    return 0.5 * (Grad(f)*nF + Grad(f.Other())*nF)\n",
    "def avg(f):\n",
    "    return 0.5 * (f + f.Other())"
   ]
  },
  {
   "cell_type": "code",
   "execution_count": 7,
   "id": "c78b4288",
   "metadata": {},
   "outputs": [],
   "source": [
    "gamma_stab_N_vol = lambda k: 0.01 #* (k+1)**2"
   ]
  },
  {
   "cell_type": "code",
   "execution_count": 8,
   "id": "29a540aa",
   "metadata": {},
   "outputs": [],
   "source": [
    "#function spaces \n",
    "Shsbase = HDiv(mesh, order=order, dirichlet=[], dgjumps=True)\n",
    "Vhbase = L2(mesh, order=order-1, dirichlet=[], dgjumps=True)\n",
    "Vh = Restrict(Vhbase, hasneg)\n",
    "Shs = Restrict(Shsbase, hasneg)\n",
    "Fhbase = H1(mesh, order=order, dirichlet=[], dgjumps=True)\n",
    "Fh = Restrict(Fhbase, hasif)\n",
    "Nh = NumberSpace(mesh)\n",
    "X = Shs*Vh*Fh*Nh\n",
    "\n",
    "(u,p,lam,r),(v,q,mu,s) = X.TnT()\n",
    "gfu = GridFunction(X)\n",
    "\n",
    "h = specialcf.mesh_size\n",
    "n = Normalize(grad(lsetp1))\n",
    "nF= specialcf.normal(mesh.dim)        \n",
    "\n",
    "gamma_Nitsche = 20\n",
    "gamma_IP = 20\n",
    "\n",
    "#Bilinearform\n",
    "a = BilinearForm(X, symmetric=False)\n",
    "a += nu* InnerProduct(Grad(u), Grad(v))*dX +  nu*(-Grad(u)*n * v -Grad(v)*n * u) * ds + nu * gamma_Nitsche / h * u * v * ds # a terms\n",
    "a += -div(u) * q * dX - div(v) * p * dX #b terms\n",
    "a += nu*(-avgdnF(u) * jump(v) + -avgdnF(v) * jump(u) + gamma_IP / h * jump(u) * jump(v)) * dcutskel# interior penalty terms\n",
    "\n",
    "# Lagrange multiplier term to fix the normal velocity at the boundary\n",
    "a += (u*n * mu + v*n * lam) * ds \n",
    "a += -gamma_stab_N_vol(order)*h*(grad(lam)*n) * (grad(mu)*n)*dxcut\n",
    "\n",
    "# regularisation (to help the linear solver)\n",
    "a += -1e-8 *r*s * dX - 1e-8 * p*q*dxbar"
   ]
  },
  {
   "cell_type": "code",
   "execution_count": 9,
   "id": "82d535b5",
   "metadata": {},
   "outputs": [
    {
     "ename": "AttributeError",
     "evalue": "'PackagePath' object has no attribute 'InnerProduct'",
     "output_type": "error",
     "traceback": [
      "\u001b[31m---------------------------------------------------------------------------\u001b[39m",
      "\u001b[31mAttributeError\u001b[39m                            Traceback (most recent call last)",
      "\u001b[36mCell\u001b[39m\u001b[36m \u001b[39m\u001b[32mIn[9]\u001b[39m\u001b[32m, line 2\u001b[39m\n\u001b[32m      1\u001b[39m rhs = LinearForm(X) \n\u001b[32m----> \u001b[39m\u001b[32m2\u001b[39m rhs += \u001b[43mInnerProduct\u001b[49m\u001b[43m(\u001b[49m\u001b[43mf\u001b[49m\u001b[43m,\u001b[49m\u001b[43m \u001b[49m\u001b[43mv\u001b[49m\u001b[43m)\u001b[49m* dX\n\u001b[32m      3\u001b[39m rhs += uexact * n * mu * ds\n\u001b[32m      4\u001b[39m rhs += uexact * nu * ( gamma_Nitsche / h * v - Grad(v)*n) * ds\n",
      "\u001b[31mAttributeError\u001b[39m: 'PackagePath' object has no attribute 'InnerProduct'"
     ]
    }
   ],
   "source": [
    "rhs = LinearForm(X) \n",
    "rhs += InnerProduct(f, v)* dX\n",
    "rhs += uexact * n * mu * ds\n",
    "rhs += uexact * nu * ( gamma_Nitsche / h * v - Grad(v)*n) * ds\n",
    "rhs += pexact * s * dX\n",
    "\n",
    "a.Assemble()\n",
    "rhs.Assemble()\n",
    "\n",
    "gfu.vec.data = a.mat.Inverse(X.FreeDofs(), inverse=\"sparsecholesky\") * rhs.vec\n",
    "\n",
    "gfvel,gfpres,_,_ = gfu.components\n",
    "error = sqrt(Integrate((InnerProduct(gfvel - uexact ,gfvel - uexact))*dX, mesh))\n",
    "perror = sqrt(Integrate((gfpres - pexact)**2*dX, mesh))\n",
    "print(error, perror)"
   ]
  },
  {
   "cell_type": "markdown",
   "id": "5000dbed",
   "metadata": {},
   "source": [
    "## Interior Facets Near the Interface\n",
    "\n",
    "We introduce the notation $\\mathcal{F}_\\Gamma^*$ for the set of all **interior facets** that belong to elements **intersected by the interface** $\\Gamma$. This set plays a key role in the definition of the **ghost penalty stabilization** for the velocity and the Lagrange multiplier.\n",
    "\n",
    "Formally, we define:\n",
    "\n",
    "$$\n",
    "\\mathcal{F}_\\Gamma^* = \\left\\{ F \\in \\partial_i \\mathcal{T}^* \\; : \\; T_F^+ \\cap \\Gamma \\neq \\emptyset \\; \\text{or} \\; T_F^- \\cap \\Gamma \\neq \\emptyset \\right\\},\n",
    "$$\n",
    "$$\n",
    "\\mathcal{F}_\\Gamma = \\left\\{ F \\in \\partial_i \\mathcal{T}^* \\; : \\; T_F^+ \\cap \\Gamma \\neq \\emptyset \\; \\text{and} \\; T_F^- \\cap \\Gamma \\neq \\emptyset \\right\\},\n",
    "$$\n",
    "\n",
    "where:\n",
    "- $\\mathcal{T}^*$ is the set of active (cut or inside) elements covering the physical domain $\\Omega$,\n",
    "- $\\partial_i \\mathcal{T}^*$ denotes the set of **interior facets** (i.e., shared by two elements),\n",
    "- $T_F^+$ and $T_F^-$ are the two elements sharing facet $F$.\n",
    "\n",
    "This set $\\mathcal{F}_\\Gamma^*$ identifies all facets in the vicinity of the interface $\\Gamma$ and is used as the integration domain for ghost penalty terms.\n"
   ]
  },
  {
   "cell_type": "markdown",
   "id": "fc9ec88b",
   "metadata": {},
   "source": [
    "## Stabilization\n",
    "\n",
    "In our formulation three terms occur, which need stabilization to obtain inf-sup-stability here. We use different ideas to ensure this. First the **classical ghost penalty** which penalize jumps of normal derivatives acroos interior facets that are intersected by the geometry. Second **an extendend operator** that simply stabilize by ignoring cuts on cutted elements. This however comes with the cost of incosistency. \n",
    "\n",
    "- The **velocity ghost penalty** is given by\n",
    "\n",
    "$$\n",
    "i_h(u, v) = \\sum_{F \\in \\mathcal{F}_\\Gamma^*}  \\gamma_{GP} h^{-2}_F(u_a-u_b,v_a-v_b)_{\\omega_F}   \n",
    "$$\n",
    "\n",
    "- The **pressure stabilization** is given by\n",
    "\n",
    "$$\n",
    "b_h(v_h, p_h) = -(\\nabla v_h, p_h)_{\\Omega^*}\n",
    "$$\n",
    "\n",
    "- The **Lagrange multiplier ghost penalty** is given by\n",
    "$$\n",
    "j_h(\\lambda,\\mu) = \\sum_{F \\in \\mathcal{F}_\\Gamma} \\gamma_{LG} h^{-1}_F (\\lambda_a-\\lambda_b,\\mu_a-\\mu_b)_{\\omega_F} \n",
    "$$\n",
    "\n",
    "Here:\n",
    "\n",
    "- $\\mathcal{F}_\\Gamma^*$ is the set of interior facets belonging to elements cut by the boundary $\\Gamma$ (as defined above),\n",
    "- $\\omega_F$ denotes the patch of the two elements $T_a$ and $T_b$ sharing the facet F \n",
    "- $h_F$ is a measure of the facet size,\n",
    "- and $\\gamma_{GP}$, $\\gamma_{LG}$ are positive stabilization parameters.\n",
    "\n",
    "These terms are added to the bilinear form to improve robustness and ensure well-posedness in the unfitted setting.\n"
   ]
  },
  {
   "cell_type": "code",
   "execution_count": null,
   "id": "d9f28a71",
   "metadata": {},
   "outputs": [],
   "source": [
    "gamma_GP = 0.2\n",
    "gamma_stab_N_fac = lambda k: 0.01 #* (k+1)**2#0.25 * (k+1)**2\n",
    "#velocity ghost penalty\n",
    "a += gamma_GP/h**2 * nu * InnerProduct(jump(u), jump(v)) * dw \n",
    "#b term stabiilization\n",
    "a += div(u) * q * dX + div(v) * p * dX #b subtract old  \n",
    "a += -div(u) * q * dxbar - div(v) * p * dxbar # add new \n",
    "#Lagrange multiplier ghost penalty\n",
    "a += -gamma_stab_N_fac(order)*1/h*jump(lam)*jump(mu)* dz \n",
    "\n",
    "a.Assemble()\n",
    "rhs.Assemble()\n",
    "\n",
    "gfu.vec.data = a.mat.Inverse(X.FreeDofs(), inverse=\"sparsecholesky\") * rhs.vec\n",
    "\n",
    "gfvel,gfpres,_,_ = gfu.components\n",
    "error = sqrt(Integrate((InnerProduct(gfvel - uexact ,gfvel - uexact))*dX, mesh))\n",
    "perror = sqrt(Integrate((gfpres - pexact)**2*dxinner, mesh))\n",
    "print(error, perror)"
   ]
  },
  {
   "cell_type": "code",
   "execution_count": null,
   "id": "d314950c",
   "metadata": {},
   "outputs": [],
   "source": []
  }
 ],
 "metadata": {
  "kernelspec": {
   "display_name": "Python 3",
   "language": "python",
   "name": "python3"
  },
  "language_info": {
   "codemirror_mode": {
    "name": "ipython",
    "version": 3
   },
   "file_extension": ".py",
   "mimetype": "text/x-python",
   "name": "python",
   "nbconvert_exporter": "python",
   "pygments_lexer": "ipython3",
   "version": "3.13.2"
  }
 },
 "nbformat": 4,
 "nbformat_minor": 5
}
