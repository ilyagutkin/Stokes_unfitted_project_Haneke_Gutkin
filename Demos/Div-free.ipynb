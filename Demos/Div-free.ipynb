{
 "cells": [
  {
   "cell_type": "markdown",
   "id": "a1746024",
   "metadata": {},
   "source": [
    "# Unfitted Finite Element Method for the Stokes Problem\n",
    "\n",
    "In this notebook, we solve the Stokes equations on an **unfitted mesh** using the **ghost penalty stabilization** technique. This approach allows us to handle complex geometries without conforming the mesh to the domain boundary.\n",
    "\n",
    "The Stokes equations in strong form are given by:\n",
    "\n",
    "$$\n",
    "\\begin{aligned}\n",
    "- \\nu \\Delta \\mathbf{u} + \\nabla p &= \\mathbf{f} \\quad \\text{in } \\Omega, \\\\\n",
    "\\text{div}(\\mathbf{u}) &= 0 \\quad \\text{in } \\Omega, \\\\\n",
    "\\mathbf{u} &= \\mathbf{g} \\quad \\text{on } \\partial\\Omega,\n",
    "\\end{aligned}\n",
    "$$\n",
    "\n",
    "where: \n",
    "- $ \\mathbf{u} $ is the velocity field,\n",
    "- $ p $ is the pressure,\n",
    "- $ \\mathbf{f} $ is a given forcing term,\n",
    "- and $ \\mathbf{g} $ is the prescribed Dirichlet boundary condition."
   ]
  },
  {
   "cell_type": "code",
   "execution_count": 102,
   "id": "844fde61",
   "metadata": {},
   "outputs": [],
   "source": [
    "from netgen.geom2d import SplineGeometry\n",
    "from ngsolve import *\n",
    "from ngsolve.internal import *\n",
    "import ngsolve\n",
    "from xfem import *\n",
    "from xfem.lsetcurv import *"
   ]
  },
  {
   "cell_type": "code",
   "execution_count": 103,
   "id": "e5908a85",
   "metadata": {},
   "outputs": [
    {
     "data": {
      "application/vnd.jupyter.widget-view+json": {
       "model_id": "ba793ed8ca61420585dc310e6be3630b",
       "version_major": 2,
       "version_minor": 0
      },
      "text/plain": [
       "WebGuiWidget(layout=Layout(height='500px', width='100%'), value={'gui_settings': {}, 'ngsolve_version': '6.2.2…"
      ]
     },
     "metadata": {},
     "output_type": "display_data"
    },
    {
     "data": {
      "text/plain": [
       "BaseWebGuiScene"
      ]
     },
     "execution_count": 103,
     "metadata": {},
     "output_type": "execute_result"
    }
   ],
   "source": [
    "order = 4\n",
    "maxh = 0.1\n",
    "nu = 1.0\n",
    "\n",
    "square = SplineGeometry()\n",
    "square.AddRectangle((-1.25, -1.25), (1.25, 1.25), bc=1)\n",
    "ngmesh = square.GenerateMesh(maxh=maxh)\n",
    "mesh = Mesh(ngmesh)\n",
    "Draw(mesh)"
   ]
  },
  {
   "cell_type": "markdown",
   "id": "7fe74bc0",
   "metadata": {},
   "source": [
    "## Fictitious Domain and Level Set Representation\n",
    "\n",
    "We work with a **fixed background mesh** $\\widehat{\\Omega} = [-1.25, 1.25]^2$, which is independent of the actual geometry.\n",
    "\n",
    "The **physical domain** $\\Omega$ is defined implicitly via a **level set function** $\\phi(x, y)$, and corresponds either to the **interior** or **exterior** of a closed boundary $\\Gamma = \\{ \\phi = 0 \\}$.\n",
    "\n",
    "- If $\\phi(x, y) < 0$, the point $(x, y)$ lies **inside** $\\Omega$\n",
    "- If $\\phi(x, y) > 0$, the point lies **outside**\n",
    "- $\\Gamma$ is the zero level set and represents the **interface**\n",
    "\n",
    "This approach allows us to define complex geometries without modifying the mesh. We solve the Stokes problem on $\\Omega$ using an unfitted finite element method, where the background mesh is cut by $\\Gamma$, and stability is ensured using **ghost penalty stabilization**.\n"
   ]
  },
  {
   "cell_type": "code",
   "execution_count": null,
   "id": "b0bc8922",
   "metadata": {},
   "outputs": [
    {
     "data": {
      "application/vnd.jupyter.widget-view+json": {
       "model_id": "2f374a4c0f5b441aa6f1e92720411d0f",
       "version_major": 2,
       "version_minor": 0
      },
      "text/plain": [
       "WebGuiWidget(layout=Layout(height='500px', width='100%'), value={'gui_settings': {}, 'ngsolve_version': '6.2.2…"
      ]
     },
     "metadata": {},
     "output_type": "display_data"
    },
    {
     "data": {
      "text/plain": [
       "BaseWebGuiScene"
      ]
     },
     "execution_count": 104,
     "metadata": {},
     "output_type": "execute_result"
    }
   ],
   "source": [
    "r = sqrt(x**2 + y**2)\n",
    "levelset = r-1"
   ]
  },
  {
   "cell_type": "markdown",
   "id": "32e5db3c",
   "metadata": {},
   "source": [
    "## Mesh deformation\n",
    "\n",
    "Let us shortly talk about the mesh deformation technique. We have the problem, that we can interpolate our levelset function olnly to **P1** ($I_h\\Phi$). But for higher order this can be a quite problematic approximation to our levelset function since the integration on our cut elements depends hardly on the exactness of this approximation. So we look for a remedy. \n",
    "The idea is to deform the mesh via a function $\\Psi_h(x)$ and only after that we interpolate the levelset so that $I_h\\Phi \\approx \\Phi \\circ \\Psi_h$  \n",
    "\n",
    "- Quadrature in tesselation approach, $dist(\\partial\\Omega_i,\\partial\\Omega_{i,h}) \\leq \\mathcal{O}(h^2), \\omega_i> 0$ \n",
    "$$\\int_{\\Omega_i} f \\ dx\\approx \\int_{\\Omega_{i,h}} f \\ dx \\approx \\sum_{t \\in \\mathcal{T}_h}\\sum_i \\omega_i f(x_i) $$\n",
    "- Quadrature after mapping, $dist(\\partial\\Omega_i,\\partial(\\Psi_h(\\Omega_{i,h}))) \\leq \\mathcal{O}(h^{k+1}), \\omega_i> 0$\n",
    "$$\\int_{\\Omega_i} f \\ dx\\approx \\int_{\\Psi_h(\\Omega_{i,h})} f \\ dx \\approx \\sum_{t \\in \\mathcal{T}_h}\\sum_i \\omega_i |\\text{det}(D\\Psi_h(x_i))|f(\\Psi_h(x_i)) $$\n",
    "\n",
    "-Construction of $\\Psi$ as follows: Find a unique $$\\Psi(x) = y= x+d(x)G(x)$$\n",
    "with $I_h\\Phi(x) = \\Phi(y), d(x) \\in \\mathbb{R} $ and a unique search direction $G(x) \\approx \\nabla \\Phi(x).$\n",
    "\n",
    "- $\\Psi$ is not a finite element function so we need to apply a projection $\\Psi_h=P_h\\Psi$\n",
    "- On every vertex we have $\\Psi(x) = x $ since $I_h\\Phi=\\Phi$\n",
    "- The problem opf finding $y = \\Psi(x)$ is not element local"
   ]
  },
  {
   "cell_type": "code",
   "execution_count": null,
   "id": "db711d50",
   "metadata": {},
   "outputs": [],
   "source": [
    "lsetmeshadap = LevelSetMeshAdaptation(mesh, order=order, threshold=0.1,discontinuous_qn=True)# Higher order level set approximation \n",
    "deformation = lsetmeshadap.CalcDeformation(levelset)\n",
    "lsetp1 = lsetmeshadap.lset_p1\n",
    "lsetp1 = GridFunction(H1(mesh))\n",
    "InterpolateToP1(levelset,lsetp1)# Element, facet and dof marking w.r.t. boundary approximation with lsetp1:\n",
    "DrawDC(levelset, CF(1), CF(0), mesh)"
   ]
  },
  {
   "cell_type": "code",
   "execution_count": 105,
   "id": "f7dc4fe2",
   "metadata": {},
   "outputs": [],
   "source": [
    "h = specialcf.mesh_size\n",
    "n = Normalize(grad(lsetp1))\n",
    "nF= specialcf.normal(mesh.dim)  "
   ]
  },
  {
   "cell_type": "markdown",
   "id": "52eebc97",
   "metadata": {},
   "source": [
    "## Analytical Example\n",
    "\n",
    "To check our formulation in the following we will consider the following constructed example: \n",
    "\n",
    "We define the exact velocity and pressure solutions as:\n",
    "\n",
    "$$\n",
    "u_{\\text{exact}}(x, y) = \n",
    "\\begin{pmatrix}\n",
    "\\sin(\\pi x) \\cos(\\pi y) \\\\\n",
    "-\\cos(\\pi x) \\sin(\\pi y)\n",
    "\\end{pmatrix}, \\quad\n",
    "p_{\\text{exact}}(x, y) = \\sin(\\pi x) \\sin(\\pi y).\n",
    "$$\n",
    "\n",
    "We then compute the corresponding right-hand side $f$ using the Stokes equation $-\\Delta u + \\nabla p = f$:\n",
    "\n",
    "- The Laplacian of $u_{\\text{exact}}$ (component-wise):\n",
    "\n",
    "$$\n",
    "\\Delta u_x = -2\\pi^2 \\sin(\\pi x) \\cos(\\pi y), \\quad\n",
    "\\Delta u_y = 2\\pi^2 \\cos(\\pi x) \\sin(\\pi y),\n",
    "$$\n",
    "\n",
    "- The gradient of $p_{\\text{exact}}$:\n",
    "\n",
    "$$\n",
    "\\frac{\\partial p}{\\partial x} = \\pi \\cos(\\pi x) \\sin(\\pi y), \\quad\n",
    "\\frac{\\partial p}{\\partial y} = \\pi \\sin(\\pi x) \\cos(\\pi y),\n",
    "$$\n",
    "\n",
    "- The full forcing term becomes:\n",
    "\n",
    "$$\n",
    "f(x, y) = \n",
    "\\begin{pmatrix}\n",
    "- \\Delta u_x + \\frac{\\partial p}{\\partial x} \\\\\n",
    "- \\Delta u_y + \\frac{\\partial p}{\\partial y}\n",
    "\\end{pmatrix}.\n",
    "$$\n",
    "\n",
    "We will use this exact solution to evaluate the accuracy of our unfitted method with and without ghost penalty terms, and observe whether instability or locking occurs in the absence of proper stabilization.\n"
   ]
  },
  {
   "cell_type": "code",
   "execution_count": 106,
   "id": "7350f9b1",
   "metadata": {},
   "outputs": [],
   "source": [
    "uexact = CoefficientFunction((\n",
    "    sin(pi*x) * cos(pi*y),   # u(x,y)\n",
    "    -cos(pi*x) * sin(pi*y)   # v(x,y)\n",
    "))\n",
    "pexact = sin(pi*x) * sin(pi*y)\n",
    "# Laplace of uexact (componentwise)\n",
    "lapu_x = -pi**2 * sin(pi*x) * cos(pi*y) * 2\n",
    "lapu_y = -pi**2 * (-cos(pi*x) * sin(pi*y)) * 2  \n",
    "\n",
    "# Gradient of p\n",
    "dp_dx = pi * cos(pi*x) * sin(pi*y)\n",
    "dp_dy = pi * sin(pi*x) * cos(pi*y)\n",
    "\n",
    "# right hand side f = -Δu + ∇p\n",
    "f = CoefficientFunction((\n",
    "    -lapu_x + dp_dx,\n",
    "    -lapu_y + dp_dy\n",
    "))"
   ]
  },
  {
   "cell_type": "markdown",
   "id": "734d0740",
   "metadata": {},
   "source": [
    "## Fictitious Domain Construction\n",
    "\n",
    "The **fictitious domain** $\\Omega^*$ is defined as the union of all background mesh elements that intersect the physical domain $\\Omega$. That is, we consider the minimal subset of elements $\\mathcal{T}^* \\subset \\widehat{\\mathcal{T}}$ such that:\n",
    "\n",
    "$$\n",
    "\\Omega \\subset \\bigcup_{T \\in \\mathcal{T}^*} T =: \\Omega^*,\n",
    "$$\n",
    "\n",
    "where:\n",
    "- $\\widehat{\\mathcal{T}}$ denotes the background mesh over $\\widehat{\\Omega}$,\n",
    "- $\\mathcal{T}^*$ is the collection of all elements that are **cut by** or **lie inside** the level set domain $\\Omega$.\n",
    "\n",
    "This extended domain $\\Omega^*$ is used for the unfitted finite element formulation. Integration and stabilization terms are evaluated over $\\Omega^*$ instead of $\\Omega$, which avoids the need for boundary-fitted meshes.\n"
   ]
  },
  {
   "cell_type": "code",
   "execution_count": 107,
   "id": "a3a663f1",
   "metadata": {},
   "outputs": [],
   "source": [
    "ci = CutInfo(mesh, lsetp1)\n",
    "hasneg = ci.GetElementsOfType(HASNEG)\n",
    "hasif = ci.GetElementsOfType(IF)\n",
    "neg = ci.GetElementsOfType(NEG)\n",
    "cut_facets = GetFacetsWithNeighborTypes(mesh, a=hasif, b=hasif)\n",
    "stab_facets = GetFacetsWithNeighborTypes(mesh, a=hasif, b=hasneg)\n",
    "hasneg_facets = GetFacetsWithNeighborTypes(mesh, a=hasneg, b=hasneg, use_and=True)\n",
    "\n",
    "#Integration domains\n",
    "dX = dCut(lsetp1, NEG, definedonelements=hasneg,deformation=deformation)\n",
    "ds = dCut(lsetp1, IF, definedonelements=hasif,deformation=deformation)\n",
    "dw = dFacetPatch(definedonelements=stab_facets,deformation=deformation)\n",
    "dz = dFacetPatch(definedonelements=cut_facets, deformation=deformation)\n",
    "dxbar = dx(definedonelements=hasneg, deformation=deformation)\n",
    "dxcut = dx(definedonelements=hasif, deformation=deformation)\n",
    "dxinner = dx(definedonelements=neg, deformation=deformation)\n",
    "dcutskel = dCut(lsetp1, NEG, skeleton=True, definedonelements=hasneg_facets, deformation=deformation)"
   ]
  },
  {
   "cell_type": "markdown",
   "id": "7b8be1ba",
   "metadata": {},
   "source": [
    "## Spaces for the unstabilized Formulation\n",
    "For the interior penalty term we need:\n",
    "$$\n",
    "\\mathcal{F}_h = \\left\\{ F \\cap \\Omega \\; : \\; F \\in \\partial_i \\mathcal{T}^* \\right\\}\n",
    "$$\n",
    "For the Lagrange Parameter we need:\n",
    "$$\n",
    "\\mathcal{T}_{cut} = \\left\\{ T \\in  \\mathcal{T}^*  \\; : \\; T \\cap \\Gamma \\neq \\emptyset \\right\\}\n",
    "$$"
   ]
  },
  {
   "cell_type": "markdown",
   "id": "6af80207",
   "metadata": {},
   "source": [
    "## Weak Formulation using BDM Elements\n",
    "\n",
    "We now reformulate the Stokes problem in its **weak (variational) form**. To this end, we use the **$BDM$** finite element for the velocity and **$H1$** spaces for the pressure. Since the BDM is not a subspace of H1, because the space does not provide continuity, we have to use as in the fitted case interior penalty terms. The Lagrange multiplier space is \n",
    "\n",
    "We seek a pair of functions $(u_h, p_h, \\lambda_h) \\in V_h \\times Q_h \\times \\Lambda_h$, such that\n",
    "\n",
    "$$\n",
    "A_h(u_h, p_h, \\lambda_h; v_h, q_h, \\mu_h) = L_h(v_h, q_h, \\mu_h) \\quad \\text{for all } (v_h, q_h, \\mu_h) \\in V_h \\times Q_h \\times \\Lambda_h,\n",
    "$$\n",
    "\n",
    "with $V_h \\times Q_h \\times \\Lambda_h= BDM^k \\times H_1^{k-1}(\\Omega) \\times H_1^{k}(\\mathcal{T}_{cut}) $, and where the bilinear and linear forms are defined by:\n",
    "\n",
    "$$ \\\n",
    "A_h(u_h, p_h; v_h, q_h) = a_h(u_h, v_h) + b_h(u_h, q_h) + b_h(v_h, p_h) + c_h(u_h; \\mu_h) + c_h(v_h; \\lambda_h),\n",
    "$$\n",
    "\n",
    "$$\n",
    "L_h(v_h, q_h) = (f, v_h) + \\gamma h^{-1} (g,v_h)_\\Gamma + (g \\cdot n, \\mu_h)_\\Gamma - (\\partial_n v_h,g)_\\Gamma.\n",
    "$$\n",
    "\n",
    "### Definitions of the bilinear forms:\n",
    "\n",
    "- $a_h(u_h, v_h) = (\\nabla u_h, \\nabla v_h)_\\Omega - (\\partial_n u_h, v_h)_\\Gamma - (\\partial_n v_h, u_h)_\\Gamma + \\gamma h^{-1} (u_h, v_h)_\\Gamma - (\\{\\partial_n u_h\\},[ v_h])_{\\mathcal{F}_h} - (\\{\\partial_n v_h\\},[ u_h])_{\\mathcal{F}_h}  + \\gamma h^{-1} ([u_h],[ v_h])_{\\mathcal{F}_h} $  \n",
    "- $b_h(v_h, p_h) = -(\\nabla v_h, p_h)_\\Omega$\n",
    "- $c_h(u_h; \\mu_h) = (u_h \\cdot n, \\mu_h)_\\Gamma + h(\\partial_n \\lambda_h , \\partial_n \\mu_h)_{\\mathcal{T}_{cut}}$\n",
    "\n",
    "Here, $f$ is the given forcing term, and $\\gamma$ is the Nitsche penalty parameter. \n"
   ]
  },
  {
   "cell_type": "code",
   "execution_count": 108,
   "id": "5d2bf1e1",
   "metadata": {},
   "outputs": [],
   "source": [
    "#function spaces \n",
    "Shsbase = HDiv(mesh, order=order, dirichlet=[], dgjumps=True)\n",
    "Vhbase = L2(mesh, order=order-1, dirichlet=[], dgjumps=True)\n",
    "Vh = Restrict(Vhbase, hasneg)\n",
    "Shs = Restrict(Shsbase, hasneg)\n",
    "Fhbase = H1(mesh, order=order, dirichlet=[], dgjumps=True)\n",
    "Fh = Restrict(Fhbase, hasif)\n",
    "Nh = NumberSpace(mesh)\n",
    "X = Shs*Vh*Fh*Nh\n",
    "\n",
    "(u,p,lam,r),(v,q,mu,s) = X.TnT()\n",
    "gfu = GridFunction(X)"
   ]
  },
  {
   "cell_type": "code",
   "execution_count": 109,
   "id": "1725efdd",
   "metadata": {},
   "outputs": [],
   "source": [
    "def jump(f):\n",
    "    return f - f.Other()\n",
    "def avgdnF(f):\n",
    "    return 0.5 * (Grad(f)*nF + Grad(f.Other())*nF)\n",
    "def avg(f):\n",
    "    return 0.5 * (f + f.Other())"
   ]
  },
  {
   "cell_type": "code",
   "execution_count": 110,
   "id": "c78b4288",
   "metadata": {},
   "outputs": [],
   "source": [
    "gamma_stab_N_vol = lambda k: 0.01 #* (k+1)**2"
   ]
  },
  {
   "cell_type": "code",
   "execution_count": null,
   "id": "29a540aa",
   "metadata": {},
   "outputs": [],
   "source": [
    "gamma_Nitsche = 20\n",
    "gamma_IP = 20\n",
    "\n",
    "#Bilinearform\n",
    "a = BilinearForm(X, symmetric=False)\n",
    "a += nu* InnerProduct(Grad(u), Grad(v))*dX +  nu*(-Grad(u)*n * v -Grad(v)*n * u) * ds + nu * gamma_Nitsche / h * u * v * ds # a terms\n",
    "a += -div(u) * q * dX - div(v) * p * dX #B terms\n",
    "a += nu*(-avgdnF(u) * jump(v) + -avgdnF(v) * jump(u) + gamma_IP / h * jump(u) * jump(v)) * dcutskel# interior penalty terms\n",
    "\n",
    "# Lagrange multiplier term to fix the normal velocity at the boundary\n",
    "a += (u*n * mu + v*n * lam) * ds \n",
    "a += -gamma_stab_N_vol(order)*h*(grad(lam)*n) * (grad(mu)*n)*dxcut\n",
    "\n",
    "# regularisation (to help the linear solver)\n",
    "a += -1e-8 *r*s * dX - 1e-8 * p*q*dxbar"
   ]
  },
  {
   "cell_type": "code",
   "execution_count": 112,
   "id": "82d535b5",
   "metadata": {},
   "outputs": [
    {
     "name": "stdout",
     "output_type": "stream",
     "text": [
      "4.753785383782473e-07 0.005750651380337225\n"
     ]
    }
   ],
   "source": [
    "rhs = LinearForm(X) \n",
    "rhs += InnerProduct(f, v)* dX\n",
    "rhs += uexact * n * mu * ds\n",
    "rhs += uexact * nu * ( gamma_Nitsche / h * v - Grad(v)*n) * ds\n",
    "rhs += pexact * s * dX\n",
    "\n",
    "a.Assemble()\n",
    "rhs.Assemble()\n",
    "\n",
    "gfu.vec.data = a.mat.Inverse(X.FreeDofs(), inverse=\"sparsecholesky\") * rhs.vec\n",
    "\n",
    "gfvel,gfpres,_,_ = gfu.components\n",
    "error = sqrt(Integrate((InnerProduct(gfvel - uexact ,gfvel - uexact))*dX, mesh))\n",
    "perror = sqrt(Integrate((gfpres - pexact)**2*dxinner, mesh))\n",
    "print(error, perror)"
   ]
  },
  {
   "cell_type": "markdown",
   "id": "5000dbed",
   "metadata": {},
   "source": [
    "## Interior Facets Near the Interface\n",
    "\n",
    "We introduce the notation $\\mathcal{F}_\\Gamma^*$ for the set of all **interior facets** that belong to elements **intersected by the interface** $\\Gamma$. This set plays a key role in the definition of the **ghost penalty stabilization** for the velocity and the Lagrange multiplier.\n",
    "\n",
    "Formally, we define:\n",
    "\n",
    "$$\n",
    "\\mathcal{F}_\\Gamma^* = \\left\\{ F \\in \\partial_i \\mathcal{T}^* \\; : \\; T_F^+ \\cap \\Gamma \\neq \\emptyset \\; \\text{or} \\; T_F^- \\cap \\Gamma \\neq \\emptyset \\right\\},\n",
    "$$\n",
    "$$\n",
    "\\mathcal{F}_\\Gamma = \\left\\{ F \\in \\partial_i \\mathcal{T}^* \\; : \\; T_F^+ \\cap \\Gamma \\neq \\emptyset \\; \\text{and} \\; T_F^- \\cap \\Gamma \\neq \\emptyset \\right\\},\n",
    "$$\n",
    "\n",
    "where:\n",
    "- $\\mathcal{T}^*$ is the set of active (cut or inside) elements covering the physical domain $\\Omega$,\n",
    "- $\\partial_i \\mathcal{T}^*$ denotes the set of **interior facets** (i.e., shared by two elements),\n",
    "- $T_F^+$ and $T_F^-$ are the two elements sharing facet $F$.\n",
    "\n",
    "This set $\\mathcal{F}_\\Gamma^*$ identifies all facets in the vicinity of the interface $\\Gamma$ and is used as the integration domain for ghost penalty terms.\n"
   ]
  },
  {
   "cell_type": "markdown",
   "id": "fc9ec88b",
   "metadata": {},
   "source": [
    "## Stabilization\n",
    "\n",
    "In our formulation three terms occur, which need stabilization to obtain inf-sup-stability here. We use different ideas to ensure this. First the **classical ghost penalty** which penalize jumps of normal derivatives acroos interior facets that are intersected by the geometry. Second **an extendend operator** that simply stabilize by ignoring cuts on cutted elements. This however comes with the cost of incosistency. \n",
    "\n",
    "- The **velocity ghost penalty** is given by\n",
    "\n",
    "$$\n",
    "i_h(u, v) =\\gamma_{GP} \\sum_{F \\in \\mathcal{F}_\\Gamma^*} h^{-2}_F(u_a-u_b,v_a-v_b)_{\\omega_F}   \n",
    "$$\n",
    "\n",
    "- The **pressure stabilization** is given by\n",
    "\n",
    "$$\n",
    "b_h(v_h, p_h) = -(\\nabla v_h, p_h)_{\\Omega^*}\n",
    "$$\n",
    "\n",
    "- The **Lagrange multiplier ghost penalty** is given by\n",
    "$$\n",
    "j_h(\\lambda,\\mu) = \\gamma_{LG} \\sum_{F \\in \\mathcal{F}_\\Gamma} h^{-1}_F (\\lambda_a-\\lambda_b,\\mu_a-\\mu_b)_{\\omega_F} \n",
    "$$\n",
    "\n",
    "Here:\n",
    "\n",
    "- $\\mathcal{F}_\\Gamma^*$ is the set of interior facets belonging to elements cut by the boundary $\\Gamma$ (as defined above),\n",
    "- $\\omega_F$ denotes the patch of the two elements $T_a$ and $T_b$ sharing the facet F \n",
    "- $h_F$ is a measure of the facet size,\n",
    "- and $\\gamma_{GP}$, $\\gamma_{LG}$ are positive stabilization parameters.\n",
    "\n",
    "These terms are added to the bilinear form to improve robustness and ensure well-posedness in the unfitted setting.\n"
   ]
  },
  {
   "cell_type": "code",
   "execution_count": null,
   "id": "d9f28a71",
   "metadata": {},
   "outputs": [
    {
     "name": "stdout",
     "output_type": "stream",
     "text": [
      "1.3650791788016836e-06 9.566485614092313e-05\n"
     ]
    }
   ],
   "source": [
    "gamma_GP = 0.2\n",
    "gamma_stab_N_fac = lambda k: 0.01 #* (k+1)**2#0.25 * (k+1)**2\n",
    "#velocity ghost penalty\n",
    "a += gamma_GP/h**2 * nu * InnerProduct(jump(u), jump(v)) * dw \n",
    "#B term stabiilization\n",
    "a += div(u) * q * dX + div(v) * p * dX # subtract old  \n",
    "a += -div(u) * q * dxbar - div(v) * p * dxbar # add new \n",
    "#Lagrange multiplier ghost penalty\n",
    "a += -gamma_stab_N_fac(order)*1/h*jump(lam)*jump(mu)* dz \n",
    "\n",
    "a.Assemble()\n",
    "rhs.Assemble()\n",
    "\n",
    "gfu.vec.data = a.mat.Inverse(X.FreeDofs(), inverse=\"sparsecholesky\") * rhs.vec\n",
    "\n",
    "gfvel,gfpres,_,_ = gfu.components\n",
    "error = sqrt(Integrate((InnerProduct(gfvel - uexact ,gfvel - uexact))*dX, mesh))\n",
    "perror = sqrt(Integrate((gfpres - pexact)**2*dxinner, mesh))\n",
    "print(error, perror)"
   ]
  },
  {
   "cell_type": "markdown",
   "id": "d314950c",
   "metadata": {},
   "source": [
    "## Post-processing\n",
    "\n",
    "I want to emphasize that the stabilization of the B term is not consistend. Especially we dont have convergence on the cut elements for the pressure term. However inside the domain on the NEG elements we have still the convergenece that we want for the pressure.\n",
    "However the velocity deos not suffer from this inconsistency which can be shown via a space decomposition of the velocity space in $ker(B)$ and $ker(B)^\\perp$. Therefore if you are interested in a good solution and convergence for the pressure in the whole domain you can apply a post processing method for the pressure.   "
   ]
  }
 ],
 "metadata": {
  "kernelspec": {
   "display_name": "Python 3",
   "language": "python",
   "name": "python3"
  },
  "language_info": {
   "codemirror_mode": {
    "name": "ipython",
    "version": 3
   },
   "file_extension": ".py",
   "mimetype": "text/x-python",
   "name": "python",
   "nbconvert_exporter": "python",
   "pygments_lexer": "ipython3",
   "version": "3.13.2"
  }
 },
 "nbformat": 4,
 "nbformat_minor": 5
}
